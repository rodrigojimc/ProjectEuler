{
 "cells": [
  {
   "cell_type": "markdown",
   "metadata": {},
   "source": [
    "one,\n",
    "two,\n",
    "three,\n",
    "four,\n",
    "five,\n",
    "six,\n",
    "seven,\n",
    "eight,\n",
    "nine\n",
    "\n",
    "ten\n",
    "\n",
    "eleven,\n",
    "twelve,\n",
    "thirteen,\n",
    "fourteen,\n",
    "fifteen,\n",
    "sixteen,\n",
    "seventeen,\n",
    "eighteen,\n",
    "nineteen\n",
    "\n",
    "twenty,\n",
    "thirty,\n",
    "forty,\n",
    "fifty,\n",
    "sixty,\n",
    "seventy,\n",
    "eighty,\n",
    "ninety\n",
    "\n",
    "hundred,\n",
    "thousand"
   ]
  },
  {
   "cell_type": "code",
   "execution_count": 22,
   "metadata": {},
   "outputs": [
    {
     "data": {
      "text/plain": [
       "[[1, 3],\n",
       " [2, 3],\n",
       " [3, 5],\n",
       " [4, 4],\n",
       " [5, 4],\n",
       " [6, 3],\n",
       " [7, 5],\n",
       " [8, 5],\n",
       " [9, 4],\n",
       " [10, 3],\n",
       " [11, 6],\n",
       " [12, 6],\n",
       " [13, 8],\n",
       " [14, 8],\n",
       " [15, 7],\n",
       " [16, 7],\n",
       " [17, 9],\n",
       " [18, 8],\n",
       " [19, 8],\n",
       " [20, 6],\n",
       " [30, 6],\n",
       " [40, 5],\n",
       " [50, 5],\n",
       " [60, 5],\n",
       " [70, 7],\n",
       " [80, 6],\n",
       " [90, 6],\n",
       " [100, 7],\n",
       " [1000, 8]]"
      ]
     },
     "execution_count": 22,
     "metadata": {},
     "output_type": "execute_result"
    }
   ],
   "source": [
    "v=[[1,3],[2,3],[3,5],[4,4],[5,4],[6,3],[7,5],[8,5],[9,4],[10,3],[11,6],[12,6],[13,8],[14,8],[15,7],[16,7],[17,9],[18,8],[19,8],[20,6],[30,6],[40,5],[50,5],[60,5],[70,7],[80,6],[90,6],[100,7],[1000,8]]\n",
    "v"
   ]
  },
  {
   "cell_type": "code",
   "execution_count": 23,
   "metadata": {},
   "outputs": [
    {
     "data": {
      "text/plain": [
       "[['1-9', 36], ['10-19', 70], ['20,...,90', 46]]"
      ]
     },
     "execution_count": 23,
     "metadata": {},
     "output_type": "execute_result"
    }
   ],
   "source": [
    "w=[[\"1-9\",36],[\"10-19\",70],[\"20,...,90\",46]]\n",
    "w"
   ]
  },
  {
   "cell_type": "code",
   "execution_count": 25,
   "metadata": {},
   "outputs": [
    {
     "data": {
      "text/plain": [
       "['1-99', 854]"
      ]
     },
     "execution_count": 25,
     "metadata": {},
     "output_type": "execute_result"
    }
   ],
   "source": [
    "[\"1-99\",36+70+46*10+36*8]"
   ]
  },
  {
   "cell_type": "code",
   "execution_count": 39,
   "metadata": {},
   "outputs": [
    {
     "data": {
      "text/plain": [
       "21124"
      ]
     },
     "execution_count": 39,
     "metadata": {},
     "output_type": "execute_result"
    }
   ],
   "source": [
    "(854*10)+(36*100)+9*7+891*10+11"
   ]
  },
  {
   "cell_type": "code",
   "execution_count": null,
   "metadata": {},
   "outputs": [],
   "source": []
  }
 ],
 "metadata": {
  "kernelspec": {
   "display_name": "Python 3",
   "language": "python",
   "name": "python3"
  },
  "language_info": {
   "codemirror_mode": {
    "name": "ipython",
    "version": 3
   },
   "file_extension": ".py",
   "mimetype": "text/x-python",
   "name": "python",
   "nbconvert_exporter": "python",
   "pygments_lexer": "ipython3",
   "version": "3.7.0"
  }
 },
 "nbformat": 4,
 "nbformat_minor": 2
}
