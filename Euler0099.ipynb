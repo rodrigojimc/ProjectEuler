{
 "cells": [
  {
   "cell_type": "code",
   "execution_count": 2,
   "metadata": {},
   "outputs": [],
   "source": [
    "from math import log\n",
    "from time import time"
   ]
  },
  {
   "cell_type": "code",
   "execution_count": 36,
   "metadata": {},
   "outputs": [
    {
     "name": "stdout",
     "output_type": "stream",
     "text": [
      "709\n"
     ]
    }
   ],
   "source": [
    "St = time()\n",
    "\n",
    "text_file = list(open(r\"C:\\Users\\RodrigoJimenezCorrea\\Documents\\GitHub\\ProjectEuler\\text\\Euler0099.txt\",\"r\"))\n",
    "pots = [[int(x) for x in line.replace(\"\\n\",\"\").split(\",\")] for line in text_file]\n",
    "#print(pots[0],pots[-1])\n",
    "\n",
    "val = [log(pot[0],10)*pot[1] for pot in pots]\n",
    "#print(val[0],val[-1])\n",
    "\n",
    "v_max = max(val)\n",
    "\n",
    "Et = time()-St\n",
    "print(\"sol\"val.index(v_max)+1)"
   ]
  }
 ],
 "metadata": {
  "kernelspec": {
   "display_name": "Python 3",
   "language": "python",
   "name": "python3"
  },
  "language_info": {
   "codemirror_mode": {
    "name": "ipython",
    "version": 3
   },
   "file_extension": ".py",
   "mimetype": "text/x-python",
   "name": "python",
   "nbconvert_exporter": "python",
   "pygments_lexer": "ipython3",
   "version": "3.7.1"
  }
 },
 "nbformat": 4,
 "nbformat_minor": 2
}
