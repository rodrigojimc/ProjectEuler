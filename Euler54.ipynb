{
 "cells": [
  {
   "cell_type": "code",
   "execution_count": 2,
   "metadata": {},
   "outputs": [],
   "source": [
    "import time"
   ]
  },
  {
   "cell_type": "code",
   "execution_count": 3,
   "metadata": {},
   "outputs": [],
   "source": [
    "St=time.time()"
   ]
  },
  {
   "cell_type": "code",
   "execution_count": 4,
   "metadata": {},
   "outputs": [],
   "source": [
    "def poker_hand (text) :\n",
    "    hand = [[text[3*j], text[3*j+1]] for j in range (5)]\n",
    "    for card in hand:\n",
    "        if card[0] == 'A': card[0] = 14\n",
    "        elif card [0] == 'K': card[0] = 13\n",
    "        elif card [0] == 'Q': card[0] = 12\n",
    "        elif card [0] == 'J': card[0] = 11\n",
    "        elif card [0] == 'T': card[0] = 10\n",
    "        else: card [0] = int(card[0]) \n",
    "    return (hand)\n",
    "\n",
    "def poker_game (hand) :\n",
    "    [c1,c2,c3,c4,c5] = hand\n",
    "    \n",
    "    game = [0,[]]\n",
    "    numbers = [0]*15\n",
    "    same_suit = False\n",
    "    ladder = False\n",
    "    \n",
    "    #Checking if all have the same suit\n",
    "    if c1[1] == c2[1] == c3[1] == c4[1] == c5[1]: \n",
    "        same_suit = True\n",
    "        \n",
    "    for card in hand:\n",
    "        numbers[card[0]]+=1\n",
    "        \n",
    "    #Checking if theres a ladder\n",
    "    aux = numbers[:]\n",
    "    aux[1] = aux[14]\n",
    "    if '11111' in \"\".join(str(x) for x in aux):\n",
    "            ladder = True\n",
    "            \n",
    "    #Poker\n",
    "    if 4 in numbers: \n",
    "        game[0] = 8\n",
    "        p=numbers[1:].index(4)+1\n",
    "        game[1]=p\n",
    "    \n",
    "    #Full house\n",
    "    elif 2 in numbers and 3 in numbers : \n",
    "        game[0] = 7 \n",
    "        t=numbers[1:].index(3)+1\n",
    "        p=numbers[1:].index(2)+1\n",
    "        game[1]=[t,p]\n",
    "    \n",
    "    #Straight or straight flush\n",
    "    elif ladder:\n",
    "        if same_suit : game[0] = 9\n",
    "        else: game[0] = 5\n",
    "        \n",
    "        if aux[2]==1 : aux[14]=0\n",
    "        g=14-list(reversed(aux)).index(1)\n",
    "        game[1] = g\n",
    "    \n",
    "    #Flush\n",
    "    elif same_suit:\n",
    "        game[0] = 6\n",
    "        game[1]=[]\n",
    "        for i in range(13) :\n",
    "            if numbers[14-i]==1 : game[1].append(14-i)\n",
    "            \n",
    "    #Three of a kind\n",
    "    elif 3 in numbers :\n",
    "        game[0] = 4\n",
    "        t=numbers[1:].index(3)+1\n",
    "        game[1]=[t]\n",
    "        for i in range(13) :\n",
    "             if numbers[14-i]==1 : game[1].append(14-i)\n",
    "                    \n",
    "    #One or two pairs\n",
    "    elif 2 in numbers :\n",
    "        aux=list(reversed(numbers[:]))\n",
    "        p1=14-aux.index(2)\n",
    "        p2=0\n",
    "        \n",
    "        aux.remove(2)\n",
    "        \n",
    "        #Two pairs\n",
    "        if 2 in aux :\n",
    "            game[0] = 3\n",
    "            p2= 14-aux.index(2)-1\n",
    "            \n",
    "        #One pair \n",
    "        else:\n",
    "            game[0] = 2\n",
    "    \n",
    "        game[1]=[p1,p2]\n",
    "        for i in range(13) :\n",
    "             if numbers[14-i]==1 : game[1].append(14-i)  \n",
    "\n",
    "    #High card    \n",
    "    else: \n",
    "        game[0] = 1\n",
    "        game[1]=[]\n",
    "        for i in range(13) :\n",
    "             if numbers[14-i]==1 : game[1].append(14-i) \n",
    "        \n",
    "    #return \"Game:\", game,\"numbers=\", numbers, \"ladder=\", ladder, \"same_suit=\", same_suit\n",
    "    return game"
   ]
  },
  {
   "cell_type": "code",
   "execution_count": 5,
   "metadata": {},
   "outputs": [],
   "source": [
    "p=poker_hand('5C 5T 5S KC AS') \n",
    "#print(p)\n",
    "\n",
    "g=poker_game(p)\n",
    "print(g)"
   ]
  },
  {
   "cell_type": "code",
   "execution_count": 6,
   "metadata": {},
   "outputs": [
    {
     "name": "stdout",
     "output_type": "stream",
     "text": [
      "8C TS KC 9H 4S / 7D 2S 5D 3S AC\n",
      "AS KD 3D JD 8H / 7C 8C 5C QD 6C\n"
     ]
    }
   ],
   "source": [
    "Text_file = list(open(r\"C:\\Users\\Rodrigo\\Desktop\\Jupyter Notebooks\\Proyect Euler\\Euler54.txt\",\"r\"))\n",
    "#print(Text_file[0][0:14],\"/\", Text_file[0][15:29])\n",
    "#print(Text_file[999][0:14], \"/\", Text_file[999][15:29])"
   ]
  },
  {
   "cell_type": "code",
   "execution_count": 7,
   "metadata": {},
   "outputs": [
    {
     "name": "stdout",
     "output_type": "stream",
     "text": [
      "[[1, [13, 10, 9, 8, 4]], [1, [14, 7, 5, 3, 2]]]\n",
      "[[1, [14, 13, 11, 8, 3]], [1, [12, 8, 7, 6, 5]]]\n"
     ]
    }
   ],
   "source": [
    "Games = [[poker_game(poker_hand(Text_file[i][0:14])), poker_game(poker_hand(Text_file[i][15:29]))]  for i in range(1000)]\n",
    "#print(Games[0])\n",
    "#print(Games[999])"
   ]
  },
  {
   "cell_type": "code",
   "execution_count": 8,
   "metadata": {},
   "outputs": [
    {
     "data": {
      "text/plain": [
       "True"
      ]
     },
     "execution_count": 8,
     "metadata": {},
     "output_type": "execute_result"
    }
   ],
   "source": [
    "#[1, [14, 13, 11, 8, 3]]> [1, [12, 8, 7, 6, 5]]"
   ]
  },
  {
   "cell_type": "code",
   "execution_count": 9,
   "metadata": {},
   "outputs": [
    {
     "name": "stdout",
     "output_type": "stream",
     "text": [
      "P1 wins: 376 / P2_wins 624 / Ties: 0\n"
     ]
    }
   ],
   "source": [
    "P1_wins = 0\n",
    "P2_wins = 0\n",
    "Ties = 0\n",
    "\n",
    "for i in range(1000):\n",
    "    P1_game=Games[i][0]\n",
    "    P2_game=Games[i][1]\n",
    "    \n",
    "    if P1_game>P2_game : P1_wins+=1\n",
    "    elif P1_game<P2_game : P2_wins+=1 \n",
    "    else : Ties+=1\n",
    "print(\"P1 wins:\", P1_wins, \"/ P2_wins\", P2_wins, \"/ Ties:\", Ties)"
   ]
  },
  {
   "cell_type": "code",
   "execution_count": 9,
   "metadata": {},
   "outputs": [
    {
     "name": "stdout",
     "output_type": "stream",
     "text": [
      "1.1009595394134521\n"
     ]
    }
   ],
   "source": [
    "Et=time.time()-St\n",
    "print(Et)"
   ]
  }
 ],
 "metadata": {
  "kernelspec": {
   "display_name": "Python 3",
   "language": "python",
   "name": "python3"
  },
  "language_info": {
   "codemirror_mode": {
    "name": "ipython",
    "version": 3
   },
   "file_extension": ".py",
   "mimetype": "text/x-python",
   "name": "python",
   "nbconvert_exporter": "python",
   "pygments_lexer": "ipython3",
   "version": "3.7.0"
  }
 },
 "nbformat": 4,
 "nbformat_minor": 2
}
