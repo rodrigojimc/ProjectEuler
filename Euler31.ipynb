{
 "cells": [
  {
   "cell_type": "code",
   "execution_count": 1,
   "metadata": {},
   "outputs": [],
   "source": [
    "import math"
   ]
  },
  {
   "cell_type": "code",
   "execution_count": 2,
   "metadata": {},
   "outputs": [
    {
     "data": {
      "text/plain": [
       "73682"
      ]
     },
     "execution_count": 2,
     "metadata": {},
     "output_type": "execute_result"
    }
   ],
   "source": [
    "n=200\n",
    "r=n\n",
    "c=0\n",
    "b1=math.floor(n/200)\n",
    "for a1 in range(b1+1) :\n",
    "    r=n-a1*200\n",
    "    b2=math.floor(r/100) \n",
    "    for a2 in range (b2+1) :\n",
    "        r=n-a1*200-a2*100\n",
    "        b3=math.floor(r/50) \n",
    "        for a3 in range (b3+1) :\n",
    "            r=n-a1*200-a2*100-a3*50\n",
    "            b4=math.floor(r/20) \n",
    "            for a4 in range (b4+1) :\n",
    "                r=n-a1*200-a2*100-a3*50-a4*20\n",
    "                b5=math.floor(r/10) \n",
    "                for a5 in range (b5+1) :\n",
    "                    r=n-a1*200-a2*100-a3*50-a4*20-a5*10\n",
    "                    b6=math.floor(r/5) \n",
    "                    for a6 in range (b6+1) :\n",
    "                        r=n-a1*200-a2*100-a3*50-a4*20-a5*10-a6*5\n",
    "                        b7=math.floor(r/2) \n",
    "                        for a7 in range (b7+1) :\n",
    "                            c=c+1\n",
    "c"
   ]
  },
  {
   "cell_type": "code",
   "execution_count": 4,
   "metadata": {},
   "outputs": [
    {
     "name": "stdout",
     "output_type": "stream",
     "text": [
      "0 0 0 10\n",
      "0 0 1 8\n",
      "0 0 2 6\n",
      "0 0 3 4\n",
      "0 0 4 2\n",
      "0 0 5 0\n",
      "0 1 0 5\n",
      "0 1 1 3\n",
      "0 1 2 1\n",
      "0 2 0 0\n",
      "1 0 0 0\n"
     ]
    },
    {
     "data": {
      "text/plain": [
       "11"
      ]
     },
     "execution_count": 4,
     "metadata": {},
     "output_type": "execute_result"
    }
   ],
   "source": [
    "n=10\n",
    "r=n\n",
    "c=0\n",
    "b5=math.floor(r/10) \n",
    "for a5 in range (b5+1) :\n",
    "    r=n-a5*10\n",
    "    b6=math.floor(r/5) \n",
    "    for a6 in range (b6+1) :\n",
    "          r=n-a5*10-a6*5\n",
    "          b7=math.floor(r/2) \n",
    "          for a7 in range (b7+1) :\n",
    "                c=c+1\n",
    "                r=n-a5*10-a6*5-a7*2\n",
    "                print(a5,a6,a7,r)\n",
    "            \n",
    "c"
   ]
  },
  {
   "cell_type": "code",
   "execution_count": null,
   "metadata": {},
   "outputs": [],
   "source": []
  }
 ],
 "metadata": {
  "kernelspec": {
   "display_name": "Python 3",
   "language": "python",
   "name": "python3"
  },
  "language_info": {
   "codemirror_mode": {
    "name": "ipython",
    "version": 3
   },
   "file_extension": ".py",
   "mimetype": "text/x-python",
   "name": "python",
   "nbconvert_exporter": "python",
   "pygments_lexer": "ipython3",
   "version": "3.7.0"
  }
 },
 "nbformat": 4,
 "nbformat_minor": 2
}
