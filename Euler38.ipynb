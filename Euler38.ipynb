{
 "cells": [
  {
   "cell_type": "code",
   "execution_count": 1,
   "metadata": {},
   "outputs": [],
   "source": [
    "import time"
   ]
  },
  {
   "cell_type": "code",
   "execution_count": 2,
   "metadata": {},
   "outputs": [],
   "source": [
    "def euler38 (l) :\n",
    "    M=0\n",
    "    for n in range (l) :\n",
    "        con=str(n)\n",
    "        i=2\n",
    "        while (len(con)<9) :\n",
    "            con=con+str(n*i)\n",
    "            i=i+1\n",
    "        if len(con)==9 :\n",
    "            v=[]\n",
    "            for d in con :\n",
    "                v.append(int(d))\n",
    "            pand=1\n",
    "            for j in range (1,10):\n",
    "                if j not in v : \n",
    "                    pand=0\n",
    "            if pand==1 : \n",
    "                m=int(con)\n",
    "                if m > M : \n",
    "                    M=m\n",
    "    return (M)"
   ]
  },
  {
   "cell_type": "code",
   "execution_count": 3,
   "metadata": {},
   "outputs": [],
   "source": [
    "def run (f,n) :\n",
    "    St=time.time()\n",
    "    output=f(n)\n",
    "    Et=time.time()-St\n",
    "    print(output, \"found in\", Et)"
   ]
  },
  {
   "cell_type": "code",
   "execution_count": 4,
   "metadata": {},
   "outputs": [
    {
     "name": "stdout",
     "output_type": "stream",
     "text": [
      "918273645 found in 0.0004992485046386719\n"
     ]
    }
   ],
   "source": [
    "run(euler38,100)"
   ]
  },
  {
   "cell_type": "code",
   "execution_count": 5,
   "metadata": {},
   "outputs": [
    {
     "name": "stdout",
     "output_type": "stream",
     "text": [
      "932718654 found in 0.04689335823059082\n"
     ]
    }
   ],
   "source": [
    "run(euler38,10**4)"
   ]
  }
 ],
 "metadata": {
  "kernelspec": {
   "display_name": "Python 3",
   "language": "python",
   "name": "python3"
  },
  "language_info": {
   "codemirror_mode": {
    "name": "ipython",
    "version": 3
   },
   "file_extension": ".py",
   "mimetype": "text/x-python",
   "name": "python",
   "nbconvert_exporter": "python",
   "pygments_lexer": "ipython3",
   "version": "3.7.0"
  }
 },
 "nbformat": 4,
 "nbformat_minor": 2
}
