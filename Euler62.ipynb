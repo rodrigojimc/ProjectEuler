{
 "cells": [
  {
   "cell_type": "code",
   "execution_count": 24,
   "metadata": {},
   "outputs": [],
   "source": [
    "import math\n",
    "import time"
   ]
  },
  {
   "cell_type": "code",
   "execution_count": 25,
   "metadata": {},
   "outputs": [],
   "source": [
    "def bounds (d):\n",
    "    # finds boudaries for the roots for first and last d-digits number\n",
    "    # returns boundaries and  that lb**3 < 10^d <= ub**3\n",
    "    \n",
    "    lb = math.ceil(10**((d-1)/3))\n",
    "    ub = math.ceil(10**((d)/3))\n",
    "    \n",
    "    return (lb,ub)\n",
    "\n",
    "def mark (n):\n",
    "    # counts the frequency of each digit\n",
    "    # freq(d) times d appears\n",
    "    \n",
    "    freq =[0,0,0,0,0,0,0,0,0,0]\n",
    "    sn = str(n)\n",
    "    for d in sn:\n",
    "        freq[int(d)] += 1\n",
    "    \n",
    "    return str(freq)"
   ]
  },
  {
   "cell_type": "code",
   "execution_count": 41,
   "metadata": {},
   "outputs": [],
   "source": [
    "def Euler62 (n, d = 2):\n",
    "    St=time.time()\n",
    "    \n",
    "    found = False\n",
    "    \n",
    "    while (not found):\n",
    "        \n",
    "        dict = {}\n",
    "        \n",
    "        lb,ub = bounds(d)\n",
    "        cubes = [k**3 for k in range(lb,ub)]\n",
    "        \n",
    "        for c in cubes:\n",
    "            m = mark(c)\n",
    "            if m not in dict:\n",
    "                dict[m] = [1,c]\n",
    "            else:\n",
    "                dict[m][0] += 1\n",
    "            if dict[m][0] == n:\n",
    "                found = True\n",
    "                Et = time.time()-St \n",
    "                print (dict[m][1], Et)\n",
    "                break\n",
    "        d += 1\n",
    "    "
   ]
  },
  {
   "cell_type": "code",
   "execution_count": 42,
   "metadata": {},
   "outputs": [
    {
     "name": "stdout",
     "output_type": "stream",
     "text": [
      "127035954683 0.08177590370178223\n"
     ]
    }
   ],
   "source": [
    "Euler62(5, 9)"
   ]
  },
  {
   "cell_type": "code",
   "execution_count": null,
   "metadata": {},
   "outputs": [],
   "source": []
  }
 ],
 "metadata": {
  "kernelspec": {
   "display_name": "Python 3",
   "language": "python",
   "name": "python3"
  },
  "language_info": {
   "codemirror_mode": {
    "name": "ipython",
    "version": 3
   },
   "file_extension": ".py",
   "mimetype": "text/x-python",
   "name": "python",
   "nbconvert_exporter": "python",
   "pygments_lexer": "ipython3",
   "version": "3.7.1"
  }
 },
 "nbformat": 4,
 "nbformat_minor": 2
}
