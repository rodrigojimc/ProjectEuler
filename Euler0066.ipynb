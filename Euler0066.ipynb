{
 "cells": [
  {
   "cell_type": "code",
   "execution_count": 7,
   "metadata": {},
   "outputs": [],
   "source": [
    "from time import *\n",
    "from math import *\n",
    "from itertools import *"
   ]
  },
  {
   "cell_type": "code",
   "execution_count": 8,
   "metadata": {},
   "outputs": [],
   "source": [
    "def run(f, args):\n",
    "    St = time()\n",
    "    sol = f(*args)\n",
    "    Et = time()-St\n",
    "    print(\"found:\", sol, \"in\", Et, \"secs\")"
   ]
  },
  {
   "cell_type": "code",
   "execution_count": 3,
   "metadata": {},
   "outputs": [],
   "source": [
    "def continued_fraction(n):\n",
    "    sn = floor(sqrt(n))\n",
    "    \n",
    "    a = [sn]\n",
    "    b = [1]\n",
    "    c = [a[0]]\n",
    "\n",
    "    i = 0\n",
    "    while True:\n",
    "        \n",
    "        b.append((n-c[i]**2)/b[i])\n",
    "        a.append(floor((sn+c[i])/b[i+1]))\n",
    "        c.append(a[i+1]*b[i+1]-c[i])\n",
    "\n",
    "        if(b[i+1] == 1 and c[0]==sn): break\n",
    "        i += 1\n",
    "    return a"
   ]
  },
  {
   "cell_type": "code",
   "execution_count": 4,
   "metadata": {},
   "outputs": [],
   "source": [
    "def fraction_sequence (n):\n",
    "    a0, *a = continued_fraction(n)\n",
    "    a = cycle(a)\n",
    "\n",
    "    x0, y0 = 1, 1\n",
    "    x1 = a0\n",
    "    yield (x0,y0)\n",
    "    \n",
    "    ai = next(a)\n",
    "    y1 = ai\n",
    "    y = y1\n",
    "\n",
    "    while True:\n",
    "        x = ai*x1+x0\n",
    "        ai = next(a)\n",
    "        yield (x, y)\n",
    "        y = ai*y1+y0\n",
    "    \n",
    "        x0, y0 = x1, y1\n",
    "        x1, y1 = x, y"
   ]
  },
  {
   "cell_type": "code",
   "execution_count": 5,
   "metadata": {},
   "outputs": [],
   "source": [
    "def Euler66(n):\n",
    "    \n",
    "    def solx(D):\n",
    "        fraction_approx = fraction_sequence (D)\n",
    "        while True:\n",
    "            x,y = next(fraction_approx)\n",
    "            if x**2-D*y**2 == 1:\n",
    "                break\n",
    "        return x\n",
    "    \n",
    "    xmax = 0\n",
    "    Dsol = 0\n",
    "    \n",
    "    for D in range(1,n+1):\n",
    "        if sqrt(D)%1 != 0:\n",
    "            x = solx(D)\n",
    "            if x > xmax:\n",
    "                xmax = x\n",
    "                Dsol = D\n",
    "    return Dsol"
   ]
  },
  {
   "cell_type": "code",
   "execution_count": 6,
   "metadata": {
    "scrolled": false
   },
   "outputs": [
    {
     "name": "stdout",
     "output_type": "stream",
     "text": [
      "found: 661 in 0.0678410530090332 secs\n"
     ]
    }
   ],
   "source": [
    "run (Euler66, [1000])"
   ]
  }
 ],
 "metadata": {
  "kernelspec": {
   "display_name": "Python 3",
   "language": "python",
   "name": "python3"
  },
  "language_info": {
   "codemirror_mode": {
    "name": "ipython",
    "version": 3
   },
   "file_extension": ".py",
   "mimetype": "text/x-python",
   "name": "python",
   "nbconvert_exporter": "python",
   "pygments_lexer": "ipython3",
   "version": "3.7.1"
  }
 },
 "nbformat": 4,
 "nbformat_minor": 2
}
