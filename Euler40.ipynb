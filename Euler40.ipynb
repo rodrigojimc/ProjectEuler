{
 "cells": [
  {
   "cell_type": "code",
   "execution_count": 1,
   "metadata": {},
   "outputs": [],
   "source": [
    "import math"
   ]
  },
  {
   "cell_type": "code",
   "execution_count": 2,
   "metadata": {},
   "outputs": [],
   "source": [
    "v=[0,9,189,2889,38889,488889,5888889]\n",
    "m=[0,9,99,999,9999,99999,999999]"
   ]
  },
  {
   "cell_type": "code",
   "execution_count": 3,
   "metadata": {},
   "outputs": [],
   "source": [
    "def pos (n):\n",
    "    for i in range(len(v)):\n",
    "        if n<v[i] : \n",
    "            break\n",
    "    x=n-v[i-1]\n",
    "    r=x%i\n",
    "    c=math.floor(x/i)+m[i-1]\n",
    "    #print(n,v[i-1],x,i,m[i-1],c,r)\n",
    "    if r==0 :\n",
    "        s=str(c)\n",
    "        d=int(s[len(s)-1])\n",
    "    else :\n",
    "        s=str(c+1)\n",
    "        d=int(s[r-1])\n",
    "    return d\n",
    "        "
   ]
  },
  {
   "cell_type": "code",
   "execution_count": 4,
   "metadata": {},
   "outputs": [
    {
     "name": "stdout",
     "output_type": "stream",
     "text": [
      "1\n",
      "1\n",
      "5\n",
      "3\n",
      "7\n",
      "2\n",
      "1\n",
      "210\n"
     ]
    }
   ],
   "source": [
    "D=1\n",
    "for x in range (7) :\n",
    "    n=10**x\n",
    "    d=pos(n)\n",
    "    print(d)\n",
    "    D=D*d\n",
    "print(D)"
   ]
  },
  {
   "cell_type": "code",
   "execution_count": null,
   "metadata": {},
   "outputs": [],
   "source": []
  },
  {
   "cell_type": "code",
   "execution_count": null,
   "metadata": {},
   "outputs": [],
   "source": []
  }
 ],
 "metadata": {
  "kernelspec": {
   "display_name": "Python 3",
   "language": "python",
   "name": "python3"
  },
  "language_info": {
   "codemirror_mode": {
    "name": "ipython",
    "version": 3
   },
   "file_extension": ".py",
   "mimetype": "text/x-python",
   "name": "python",
   "nbconvert_exporter": "python",
   "pygments_lexer": "ipython3",
   "version": "3.7.0"
  }
 },
 "nbformat": 4,
 "nbformat_minor": 2
}
