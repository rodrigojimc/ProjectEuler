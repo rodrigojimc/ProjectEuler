{
 "cells": [
  {
   "cell_type": "code",
   "execution_count": 1,
   "metadata": {},
   "outputs": [],
   "source": [
    "from time import time"
   ]
  },
  {
   "cell_type": "code",
   "execution_count": 2,
   "metadata": {},
   "outputs": [],
   "source": [
    "def base2dec(s, base):\n",
    "    sol = 0\n",
    "    for d in s:\n",
    "        sol *= base\n",
    "        sol += int(d)\n",
    "    return sol"
   ]
  },
  {
   "cell_type": "code",
   "execution_count": 27,
   "metadata": {},
   "outputs": [],
   "source": [
    "def Euler346(n):\n",
    "    st = time()\n",
    "    repunit = {1:1}\n",
    "\n",
    "    for base in range(2, int(n**(1/2))):\n",
    "        num_base = [1, 1, 1]\n",
    "        num_dec = base2dec(num_base, base)\n",
    "        while num_dec < n:\n",
    "            repunit[num_dec] = 1\n",
    "            num_base.append(1)\n",
    "            num_dec = base2dec(num_base, base)\n",
    "    sol = sum(repunit)\n",
    "    et = time() - st\n",
    "    print (\"for n = \", n, \"| sol = \", sol, \"| found in\", et, \"s\")"
   ]
  },
  {
   "cell_type": "code",
   "execution_count": 30,
   "metadata": {},
   "outputs": [
    {
     "name": "stdout",
     "output_type": "stream",
     "text": [
      "for n =  1000000000000 | sol =  336108797689259276 | found in 4.26558518409729 s\n"
     ]
    }
   ],
   "source": [
    "Euler346(10**12)"
   ]
  }
 ],
 "metadata": {
  "kernelspec": {
   "display_name": "Python 3",
   "language": "python",
   "name": "python3"
  },
  "language_info": {
   "codemirror_mode": {
    "name": "ipython",
    "version": 3
   },
   "file_extension": ".py",
   "mimetype": "text/x-python",
   "name": "python",
   "nbconvert_exporter": "python",
   "pygments_lexer": "ipython3",
   "version": "3.7.1"
  }
 },
 "nbformat": 4,
 "nbformat_minor": 2
}
