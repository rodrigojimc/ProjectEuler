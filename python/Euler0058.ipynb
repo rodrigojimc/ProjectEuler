{
 "cells": [
  {
   "cell_type": "code",
   "execution_count": 1,
   "metadata": {},
   "outputs": [],
   "source": [
    "from sympy import isprime\n",
    "from time import time"
   ]
  },
  {
   "cell_type": "code",
   "execution_count": 2,
   "metadata": {},
   "outputs": [
    {
     "name": "stdout",
     "output_type": "stream",
     "text": [
      "26241 0.29946184158325195\n"
     ]
    }
   ],
   "source": [
    "St=time()\n",
    "\n",
    "r=100 #ratio\n",
    "i=1 #iteration\n",
    "p=0 #primes\n",
    "\n",
    "while r > 10:\n",
    "    for j in range(0,4):\n",
    "        #n=(2*i-1)**2+2*i+2*i*j\n",
    "        n=4*i**2-2*i+1+2*i*j\n",
    "        if isprime(n) : p+=1\n",
    "        #n=i*(4*i+2*j-2)+1\n",
    "        #print(n)\n",
    "    i+=1 \n",
    "    t=4*(i-1)+1 #total of corners\n",
    "    r=p/t*100 #ratio\n",
    "    \n",
    "Et=time()-St\n",
    "print(2*i-1, Et) #lenght, time  "
   ]
  },
  {
   "cell_type": "code",
   "execution_count": null,
   "metadata": {},
   "outputs": [],
   "source": []
  }
 ],
 "metadata": {
  "kernelspec": {
   "display_name": "Python 3",
   "language": "python",
   "name": "python3"
  },
  "language_info": {
   "codemirror_mode": {
    "name": "ipython",
    "version": 3
   },
   "file_extension": ".py",
   "mimetype": "text/x-python",
   "name": "python",
   "nbconvert_exporter": "python",
   "pygments_lexer": "ipython3",
   "version": "3.6.7"
  }
 },
 "nbformat": 4,
 "nbformat_minor": 2
}
