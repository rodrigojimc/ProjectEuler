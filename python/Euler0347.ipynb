{
 "cells": [
  {
   "cell_type": "code",
   "execution_count": 128,
   "metadata": {},
   "outputs": [],
   "source": [
    "from time import time"
   ]
  },
  {
   "cell_type": "code",
   "execution_count": 129,
   "metadata": {},
   "outputs": [],
   "source": [
    "def Euler0347(n):\n",
    "    st = time()\n",
    "    \n",
    "    primeDivs = {}\n",
    "    for i in range(2, n//2+1):\n",
    "        if i not in primeDivs:\n",
    "            for j in range(2, n//i+1):\n",
    "                if i*j not in primeDivs:\n",
    "                    primeDivs[i*j] = [i]\n",
    "                else:\n",
    "                    primeDivs[i*j].append(i)\n",
    "    \n",
    "    maxs = {}\n",
    "    \n",
    "    for n in primeDivs:\n",
    "        d = tuple(primeDivs[n])\n",
    "        if len(d) == 2:\n",
    "            if d not in maxs:\n",
    "                maxs[d] = n\n",
    "            else:\n",
    "                if n > maxs[d]:\n",
    "                    maxs[d] = n\n",
    "    \n",
    "    sol = sum([maxs[x] for x in maxs])\n",
    "    et = time() - st\n",
    "    \n",
    "    print(\"for n = \", n, \"| sol = \", sol, \"found in\", et, \"s\")"
   ]
  },
  {
   "cell_type": "code",
   "execution_count": 132,
   "metadata": {},
   "outputs": [
    {
     "name": "stdout",
     "output_type": "stream",
     "text": [
      "for n =  9997619 | sol =  11109800204052 found in 39.22902297973633 s\n"
     ]
    }
   ],
   "source": [
    "Euler0347(10**7)"
   ]
  },
  {
   "cell_type": "code",
   "execution_count": null,
   "metadata": {},
   "outputs": [],
   "source": []
  }
 ],
 "metadata": {
  "kernelspec": {
   "display_name": "Python 3",
   "language": "python",
   "name": "python3"
  },
  "language_info": {
   "codemirror_mode": {
    "name": "ipython",
    "version": 3
   },
   "file_extension": ".py",
   "mimetype": "text/x-python",
   "name": "python",
   "nbconvert_exporter": "python",
   "pygments_lexer": "ipython3",
   "version": "3.7.1"
  }
 },
 "nbformat": 4,
 "nbformat_minor": 2
}
