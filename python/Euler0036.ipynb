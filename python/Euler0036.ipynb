{
 "cells": [
  {
   "cell_type": "code",
   "execution_count": 70,
   "metadata": {},
   "outputs": [],
   "source": [
    "import math\n",
    "import time"
   ]
  },
  {
   "cell_type": "code",
   "execution_count": 53,
   "metadata": {},
   "outputs": [],
   "source": [
    "def is_palin (n) :\n",
    "    output=True\n",
    "    s=str(n)\n",
    "    l=len(s)\n",
    "    lim=math.floor(l/2)\n",
    "    for i in range (lim) :\n",
    "        if s[i]!=s[l-i-1] : \n",
    "            output=False\n",
    "    return output\n",
    "\n",
    "def dec_to_bin (n) :\n",
    "    return int(bin(n)[2:])"
   ]
  },
  {
   "cell_type": "code",
   "execution_count": 68,
   "metadata": {},
   "outputs": [],
   "source": [
    "def euler36 (n) :\n",
    "    sum=0\n",
    "    for i in range (1,n):\n",
    "        bin_i=dec_to_bin(i)\n",
    "        if is_palin(i)==True and is_palin(bin_i)==True :\n",
    "            #print(i, bin_i)\n",
    "            sum=sum+i\n",
    "    return sum"
   ]
  },
  {
   "cell_type": "code",
   "execution_count": 78,
   "metadata": {},
   "outputs": [],
   "source": [
    "def run (f,n) :\n",
    "    St=time.time()\n",
    "    output=f(n)\n",
    "    Et=time.time()-St\n",
    "    print(output, \"found in\", Et)"
   ]
  },
  {
   "cell_type": "code",
   "execution_count": 80,
   "metadata": {},
   "outputs": [
    {
     "name": "stdout",
     "output_type": "stream",
     "text": [
      "872187 found in 2.366093635559082\n"
     ]
    }
   ],
   "source": [
    "run(euler36,1000000)"
   ]
  },
  {
   "cell_type": "code",
   "execution_count": null,
   "metadata": {},
   "outputs": [],
   "source": []
  }
 ],
 "metadata": {
  "kernelspec": {
   "display_name": "Python 3",
   "language": "python",
   "name": "python3"
  },
  "language_info": {
   "codemirror_mode": {
    "name": "ipython",
    "version": 3
   },
   "file_extension": ".py",
   "mimetype": "text/x-python",
   "name": "python",
   "nbconvert_exporter": "python",
   "pygments_lexer": "ipython3",
   "version": "3.7.0"
  }
 },
 "nbformat": 4,
 "nbformat_minor": 2
}
