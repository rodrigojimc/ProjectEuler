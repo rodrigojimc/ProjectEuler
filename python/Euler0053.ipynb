{
 "cells": [
  {
   "cell_type": "code",
   "execution_count": 159,
   "metadata": {},
   "outputs": [],
   "source": [
    "def Euler53 (n):\n",
    "    \n",
    "    c = 0\n",
    "    \n",
    "    T1 = [1]\n",
    "    T2 = [1,1]\n",
    "    aux = []\n",
    "    \n",
    "    for i in range(2,n+1):\n",
    "        aux = T2[:]\n",
    "        T2 = [1]+[T2[j]+T2[j+1] for j in range(i-1)]+[1]\n",
    "        T1 = aux[:]\n",
    "        #print(T2)\n",
    "        for k in T2 : \n",
    "            if k>1000000 :\n",
    "                c += 1\n",
    "    \n",
    "    return c\n",
    "    "
   ]
  },
  {
   "cell_type": "code",
   "execution_count": 160,
   "metadata": {},
   "outputs": [
    {
     "data": {
      "text/plain": [
       "4075"
      ]
     },
     "execution_count": 160,
     "metadata": {},
     "output_type": "execute_result"
    }
   ],
   "source": [
    "Euler45(100)"
   ]
  },
  {
   "cell_type": "code",
   "execution_count": null,
   "metadata": {},
   "outputs": [],
   "source": []
  },
  {
   "cell_type": "code",
   "execution_count": null,
   "metadata": {},
   "outputs": [],
   "source": []
  }
 ],
 "metadata": {
  "kernelspec": {
   "display_name": "Python 3",
   "language": "python",
   "name": "python3"
  },
  "language_info": {
   "codemirror_mode": {
    "name": "ipython",
    "version": 3
   },
   "file_extension": ".py",
   "mimetype": "text/x-python",
   "name": "python",
   "nbconvert_exporter": "python",
   "pygments_lexer": "ipython3",
   "version": "3.7.0"
  }
 },
 "nbformat": 4,
 "nbformat_minor": 2
}
