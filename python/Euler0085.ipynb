{
 "cells": [
  {
   "cell_type": "code",
   "execution_count": 76,
   "metadata": {},
   "outputs": [],
   "source": [
    "from time import time"
   ]
  },
  {
   "cell_type": "code",
   "execution_count": 73,
   "metadata": {},
   "outputs": [],
   "source": [
    "def gauss(n):\n",
    "    return n*(n+1)//2\n",
    "def rectangles(n,m):\n",
    "    return gauss(n)*gauss(m)"
   ]
  },
  {
   "cell_type": "code",
   "execution_count": 91,
   "metadata": {},
   "outputs": [],
   "source": [
    "def run():\n",
    "    solution = 2000\n",
    "    proximity = 1000\n",
    "\n",
    "    lowerBound = rectangles(1999,1)\n",
    "    upperBound = rectangles(2000,1)\n",
    "\n",
    "    for n in range(2,1999):\n",
    "        lb = int((2*lowerBound//gauss(n))**(1/2)-1)\n",
    "        ub = int((2*upperBound//gauss(n))**(1/2))+1\n",
    "        for m in range(lb,ub):\n",
    "            rect = rectangles(n,m)\n",
    "            difference = abs(2000000-rect)\n",
    "            if difference < proximity:\n",
    "                proximity = difference\n",
    "                solution = n*m\n",
    "    return(solution)\n"
   ]
  },
  {
   "cell_type": "code",
   "execution_count": 92,
   "metadata": {},
   "outputs": [
    {
     "name": "stdout",
     "output_type": "stream",
     "text": [
      "2772 found in 0.020946264266967773\n"
     ]
    }
   ],
   "source": [
    "St = time()\n",
    "solution = run()\n",
    "Et = time()- St\n",
    "print(solution, \"found in\", Et)"
   ]
  },
  {
   "cell_type": "code",
   "execution_count": null,
   "metadata": {},
   "outputs": [],
   "source": []
  }
 ],
 "metadata": {
  "kernelspec": {
   "display_name": "Python 3",
   "language": "python",
   "name": "python3"
  },
  "language_info": {
   "codemirror_mode": {
    "name": "ipython",
    "version": 3
   },
   "file_extension": ".py",
   "mimetype": "text/x-python",
   "name": "python",
   "nbconvert_exporter": "python",
   "pygments_lexer": "ipython3",
   "version": "3.7.1"
  }
 },
 "nbformat": 4,
 "nbformat_minor": 2
}
