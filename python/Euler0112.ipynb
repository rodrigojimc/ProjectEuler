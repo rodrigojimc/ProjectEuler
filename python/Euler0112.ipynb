{
 "cells": [
  {
   "cell_type": "code",
   "execution_count": 2,
   "metadata": {},
   "outputs": [],
   "source": [
    "from numpy import sign"
   ]
  },
  {
   "cell_type": "code",
   "execution_count": 3,
   "metadata": {},
   "outputs": [],
   "source": [
    "def isBouncy(n):\n",
    "    digits = [int(d) for d in n]\n",
    "    l = len(digits)\n",
    "    dif = [sign(digits[i]-digits[i+1]) for i in range(l-1)]\n",
    "    return (-1 in dif) and (1 in dif)"
   ]
  },
  {
   "cell_type": "code",
   "execution_count": 5,
   "metadata": {},
   "outputs": [
    {
     "name": "stdout",
     "output_type": "stream",
     "text": [
      "1587000 0.99\n"
     ]
    }
   ],
   "source": [
    "counter = 0\n",
    "n = 100\n",
    "while (counter/n != 0.99) and n < 10**7:\n",
    "    n += 1\n",
    "    counter += isBouncy(str(n))\n",
    "print(n, counter/n)"
   ]
  }
 ],
 "metadata": {
  "kernelspec": {
   "display_name": "Python 3",
   "language": "python",
   "name": "python3"
  },
  "language_info": {
   "codemirror_mode": {
    "name": "ipython",
    "version": 3
   },
   "file_extension": ".py",
   "mimetype": "text/x-python",
   "name": "python",
   "nbconvert_exporter": "python",
   "pygments_lexer": "ipython3",
   "version": "3.7.1"
  }
 },
 "nbformat": 4,
 "nbformat_minor": 2
}
