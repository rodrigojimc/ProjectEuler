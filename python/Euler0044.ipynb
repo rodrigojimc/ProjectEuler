{
 "cells": [
  {
   "cell_type": "code",
   "execution_count": 7,
   "metadata": {},
   "outputs": [],
   "source": [
    "import math\n",
    "import time"
   ]
  },
  {
   "cell_type": "code",
   "execution_count": 8,
   "metadata": {},
   "outputs": [],
   "source": [
    "def pen (n) :\n",
    "    return n*(3*n-1)/2\n",
    "\n",
    "def is_pen (n) :\n",
    "    output=False\n",
    "    dis=(math.sqrt(1+24*(n))+1)/6\n",
    "    if dis%1==0 : \n",
    "                  output=True              \n",
    "    return output"
   ]
  },
  {
   "cell_type": "code",
   "execution_count": 9,
   "metadata": {},
   "outputs": [
    {
     "name": "stdout",
     "output_type": "stream",
     "text": [
      "2167 1020 8602840.0 5482660.0\n"
     ]
    },
    {
     "data": {
      "text/plain": [
       "2.5145583152770996"
      ]
     },
     "execution_count": 9,
     "metadata": {},
     "output_type": "execute_result"
    }
   ],
   "source": [
    "St=time.time()\n",
    "k=2\n",
    "m=0\n",
    "found=0\n",
    "while found==0 :\n",
    "    Pk=pen(k)\n",
    "    for j in range (1,k) :\n",
    "        Pj=pen(j)\n",
    "        S=Pk+Pj\n",
    "        if is_pen(S) == True :\n",
    "            D=Pk-Pj\n",
    "            if is_pen(D) == True :\n",
    "                print(k,j, S,D)\n",
    "                found=1\n",
    "                break\n",
    "    k+=1\n",
    "Et=time.time()-St\n",
    "Et          "
   ]
  },
  {
   "cell_type": "code",
   "execution_count": null,
   "metadata": {},
   "outputs": [],
   "source": []
  }
 ],
 "metadata": {
  "kernelspec": {
   "display_name": "Python 3",
   "language": "python",
   "name": "python3"
  },
  "language_info": {
   "codemirror_mode": {
    "name": "ipython",
    "version": 3
   },
   "file_extension": ".py",
   "mimetype": "text/x-python",
   "name": "python",
   "nbconvert_exporter": "python",
   "pygments_lexer": "ipython3",
   "version": "3.7.0"
  }
 },
 "nbformat": 4,
 "nbformat_minor": 2
}
