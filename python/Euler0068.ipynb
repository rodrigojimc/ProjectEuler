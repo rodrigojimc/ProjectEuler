{
 "cells": [
  {
   "cell_type": "code",
   "execution_count": 1,
   "metadata": {},
   "outputs": [],
   "source": [
    "from time import time\n",
    "from itertools import *\n",
    "from functools import *"
   ]
  },
  {
   "cell_type": "code",
   "execution_count": 2,
   "metadata": {},
   "outputs": [],
   "source": [
    "def run(f, args):\n",
    "    St = time()\n",
    "    sol = f(*args)\n",
    "    Et = time()-St\n",
    "    print(\"found:\", sol, \"in\", Et, \"secs\")"
   ]
  },
  {
   "cell_type": "code",
   "execution_count": 3,
   "metadata": {},
   "outputs": [],
   "source": [
    "def fix(v):\n",
    "    m = min(v)\n",
    "    v.remove(m)\n",
    "    v.add(10)\n",
    "    return (m, list(v))"
   ]
  },
  {
   "cell_type": "code",
   "execution_count": 4,
   "metadata": {},
   "outputs": [],
   "source": [
    "def concatenate(e,i):\n",
    "    l = reduce(lambda x,y: x+y, [[e[x%5],i[x%5],i[(x+1)%5]] for x in range (0,5)])\n",
    "    s = \"\".join([str(d) for d in l])\n",
    "    return int(s)"
   ]
  },
  {
   "cell_type": "code",
   "execution_count": 5,
   "metadata": {},
   "outputs": [],
   "source": [
    "def Euler68(null):\n",
    "    internal = [x for x in set(combinations(range(1,10),5)) if sum(x)%5==0]\n",
    "    external = [fix(set(range(1,10)) - set(x)) for x in  internal]\n",
    "    pairs = zip(external, internal)\n",
    "    msol = 0\n",
    "    for p in pairs:\n",
    "        m = [p[0][0]]\n",
    "        for e in permutations(p[0][1]):\n",
    "            ecyc = m + list(e) \n",
    "            for icyc in permutations(p[1]):\n",
    "                s = ecyc[-1]+icyc[-1]+icyc[0]\n",
    "                if all ([ecyc[i]+icyc[i]+icyc[i+1] == s for i in range(4)]):\n",
    "                    sol = concatenate(ecyc, icyc)\n",
    "                    if  sol > msol:\n",
    "                        msol = sol\n",
    "    return msol "
   ]
  },
  {
   "cell_type": "code",
   "execution_count": 6,
   "metadata": {},
   "outputs": [
    {
     "name": "stdout",
     "output_type": "stream",
     "text": [
      "found: 6531031914842725 in 0.28754687309265137 secs\n"
     ]
    }
   ],
   "source": [
    "run(Euler68,[\"null\"])"
   ]
  }
 ],
 "metadata": {
  "kernelspec": {
   "display_name": "Python 3",
   "language": "python",
   "name": "python3"
  },
  "language_info": {
   "codemirror_mode": {
    "name": "ipython",
    "version": 3
   },
   "file_extension": ".py",
   "mimetype": "text/x-python",
   "name": "python",
   "nbconvert_exporter": "python",
   "pygments_lexer": "ipython3",
   "version": "3.7.1"
  }
 },
 "nbformat": 4,
 "nbformat_minor": 2
}
