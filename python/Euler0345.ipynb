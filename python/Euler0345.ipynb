{
 "cells": [
  {
   "cell_type": "code",
   "execution_count": 15,
   "metadata": {},
   "outputs": [],
   "source": [
    "from time import time"
   ]
  },
  {
   "cell_type": "code",
   "execution_count": 21,
   "metadata": {},
   "outputs": [],
   "source": [
    "v = [\n",
    "     [  7,  53, 183, 439, 863, 497, 383, 563,  79, 973, 287,  63, 343, 169, 583],\n",
    "     [627, 343, 773, 959, 943, 767, 473, 103, 699, 303, 957, 703, 583, 639, 913],\n",
    "     [447, 283, 463,  29,  23, 487, 463, 993, 119, 883, 327, 493, 423, 159, 743],\n",
    "     [217, 623,   3, 399, 853, 407, 103, 983,  89, 463, 290, 516, 212, 462, 350],\n",
    "     [960, 376, 682, 962, 300, 780, 486, 502, 912, 800, 250, 346, 172, 812, 350],\n",
    "     [870, 456, 192, 162, 593, 473, 915,  45, 989, 873, 823, 965, 425, 329, 803],\n",
    "     [973, 965, 905, 919, 133, 673, 665, 235, 509, 613, 673, 815, 165, 992, 326],\n",
    "     [322, 148, 972, 962, 286, 255, 941, 541, 265, 323, 925, 281, 601,  95, 973],\n",
    "     [445, 721,  11, 525, 473,  65, 511, 164, 138, 672,  18, 428, 154, 448, 848],\n",
    "     [414, 456, 310, 312, 798, 104, 566, 520, 302, 248, 694, 976, 430, 392, 198],\n",
    "     [184, 829, 373, 181, 631, 101, 969, 613, 840, 740, 778, 458, 284, 760, 390],\n",
    "     [821, 461, 843, 513,  17, 901, 711, 993, 293, 157, 274,  94, 192, 156, 574],\n",
    "     [ 34, 124,   4, 878, 450, 476, 712, 914, 838, 669, 875, 299, 823, 329, 699],\n",
    "     [815, 559, 813, 459, 522, 788, 168, 586, 966, 232, 308, 833, 251, 631, 107],\n",
    "     [813, 883, 451, 509, 615,  77, 281, 613, 459, 205, 380, 274, 302,  35, 805]\n",
    "]"
   ]
  },
  {
   "cell_type": "code",
   "execution_count": 13,
   "metadata": {},
   "outputs": [],
   "source": [
    "w = [  \n",
    "     [  7,  53, 183, 439, 863],\n",
    "     [497, 383, 563,  79, 973],\n",
    "     [287,  63, 343, 169, 583],\n",
    "     [627, 343, 773, 959, 943],\n",
    "     [767, 473, 103, 699, 303]\n",
    "]"
   ]
  },
  {
   "cell_type": "code",
   "execution_count": 28,
   "metadata": {},
   "outputs": [],
   "source": [
    "def Euler345(M):\n",
    "    st = time()\n",
    "    \n",
    "    l = len(M)\n",
    "    \n",
    "    maxSums = {}\n",
    "    for i in range(l):\n",
    "        for j in range(i+1,l):\n",
    "            maxSums[(i,j)] = max([M[i][0] + M[j][1], M[j][0] + M[i][1]])\n",
    "\n",
    "    for column in range(2,l):\n",
    "        aux = {}\n",
    "        for i in range(l):\n",
    "            for code in maxSums:\n",
    "                if i not in code:\n",
    "                    index = tuple(sorted(list(code)+[i]))\n",
    "                    new = maxSums[code] + M[i][column]\n",
    "                    if (index in aux):\n",
    "                        if new > aux[index]:\n",
    "                            aux[index] = new\n",
    "                    else:\n",
    "                         aux[index] = new\n",
    "        maxSums = aux\n",
    "        #print(maxSums, \"\\n\")\n",
    "    sol = [maxSums[x] for x in maxSums][0]\n",
    "    \n",
    "    et = time() - st\n",
    "    \n",
    "    print(\"sol = \", sol, \"| found in\", et, \"s\")"
   ]
  },
  {
   "cell_type": "code",
   "execution_count": 29,
   "metadata": {},
   "outputs": [
    {
     "name": "stdout",
     "output_type": "stream",
     "text": [
      "sol =  3315 | found in 0.0009970664978027344 s\n"
     ]
    }
   ],
   "source": [
    "Euler345(w)"
   ]
  },
  {
   "cell_type": "code",
   "execution_count": 30,
   "metadata": {},
   "outputs": [
    {
     "name": "stdout",
     "output_type": "stream",
     "text": [
      "sol =  13938 | found in 0.6193437576293945 s\n"
     ]
    }
   ],
   "source": [
    "Euler345(v)"
   ]
  }
 ],
 "metadata": {
  "kernelspec": {
   "display_name": "Python 3",
   "language": "python",
   "name": "python3"
  },
  "language_info": {
   "codemirror_mode": {
    "name": "ipython",
    "version": 3
   },
   "file_extension": ".py",
   "mimetype": "text/x-python",
   "name": "python",
   "nbconvert_exporter": "python",
   "pygments_lexer": "ipython3",
   "version": "3.7.1"
  }
 },
 "nbformat": 4,
 "nbformat_minor": 2
}
