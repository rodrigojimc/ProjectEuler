{
 "cells": [
  {
   "cell_type": "code",
   "execution_count": 5,
   "metadata": {},
   "outputs": [],
   "source": [
    "import math as m\n",
    "import time"
   ]
  },
  {
   "cell_type": "code",
   "execution_count": 6,
   "metadata": {},
   "outputs": [],
   "source": [
    "def sumdp (n) :\n",
    "    v=[1]*(n+1)\n",
    "    f=m.floor(n/2)+1\n",
    "    for d in range (2,f) :\n",
    "        l=m.floor(n/d)\n",
    "        for i in range (2,l+1) :\n",
    "            v[i*d]=v[i*d]+d\n",
    "    return v"
   ]
  },
  {
   "cell_type": "code",
   "execution_count": 101,
   "metadata": {},
   "outputs": [
    {
     "name": "stdout",
     "output_type": "stream",
     "text": [
      "31626 found in 21.370903968811035 s\n"
     ]
    }
   ],
   "source": [
    "sT = time.time()\n",
    "w=sumdp(10000)\n",
    "s=0\n",
    "for i in range (1,10001) :\n",
    "    for j in range (1,10001) :\n",
    "        if i!=j and j==w[i] and i==w[j] : \n",
    "            s=s+i\n",
    "eT = time.time() - sT\n",
    "print (s,\"found in\",eT, \"s\")"
   ]
  },
  {
   "cell_type": "code",
   "execution_count": 9,
   "metadata": {},
   "outputs": [
    {
     "data": {
      "text/plain": [
       "[1, 1, 1, 1, 3, 1, 6]"
      ]
     },
     "execution_count": 9,
     "metadata": {},
     "output_type": "execute_result"
    }
   ],
   "source": [
    "sumdp(6)"
   ]
  },
  {
   "cell_type": "code",
   "execution_count": null,
   "metadata": {},
   "outputs": [],
   "source": []
  }
 ],
 "metadata": {
  "kernelspec": {
   "display_name": "Python 3",
   "language": "python",
   "name": "python3"
  },
  "language_info": {
   "codemirror_mode": {
    "name": "ipython",
    "version": 3
   },
   "file_extension": ".py",
   "mimetype": "text/x-python",
   "name": "python",
   "nbconvert_exporter": "python",
   "pygments_lexer": "ipython3",
   "version": "3.7.1"
  }
 },
 "nbformat": 4,
 "nbformat_minor": 2
}
