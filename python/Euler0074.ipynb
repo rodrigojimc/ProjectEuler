{
 "cells": [
  {
   "cell_type": "code",
   "execution_count": 1,
   "metadata": {},
   "outputs": [],
   "source": [
    "from time import time\n",
    "from math import *"
   ]
  },
  {
   "cell_type": "code",
   "execution_count": 2,
   "metadata": {},
   "outputs": [],
   "source": [
    "#def factorial (n):\n",
    "#    return 1 if n < 2 else n*factorial(n-1)\n",
    "\n",
    "factorial = {0:1, 1:1, 2:2, 3:6, 4:24, 5:120, 6:720, 7:5040, 8:40320, 9:362880}\n",
    "\n",
    "def sumDigitFact (n):\n",
    "#    return sum([factorial(int(d)) for d in str(n)])\n",
    "#    return sum([factorial[int(d)] for d in str(n)])\n",
    "    return sum (factorial[(n%10**(i+1)-n%10**(i))//10**i] for i in range(floor(log(n,10))+1))\n",
    "    \n",
    "## 0! = 1! and digits order is not relevant\n",
    "#def key (n):\n",
    "#    return int(\"\".join(sorted(str(n))).replace(\"0\",\"1\"))"
   ]
  },
  {
   "cell_type": "code",
   "execution_count": 3,
   "metadata": {},
   "outputs": [],
   "source": [
    "#knownLength[x] = steps needed form x to reach x again\n",
    "knownLength = {1:1,\n",
    "               2:1,\n",
    "               145:1,\n",
    "               169:3, \n",
    "               363601:3, \n",
    "               1454:3, \n",
    "               871:2, \n",
    "               45361:2, \n",
    "               872:2, \n",
    "               45362:2}\n",
    "\n",
    "#knownNext[x] = sumDigitFact(key(x)) = sumDigitFact(x)\n",
    "knownNext = {}"
   ]
  },
  {
   "cell_type": "code",
   "execution_count": 4,
   "metadata": {},
   "outputs": [],
   "source": [
    "def Euler0074(n, l):\n",
    "    longChains = 0\n",
    "    for i in range(3,n):\n",
    "        term = i\n",
    "        chain = []\n",
    "        while True:\n",
    "            if term in knownLength:\n",
    "                length = len(chain) + knownLength[term]\n",
    "                break\n",
    "            elif term in chain:\n",
    "                length = len(chain)\n",
    "                cycle = chain[chain.index(term):]\n",
    "                ln = len(cycle)\n",
    "                for x in cycle:\n",
    "                    knownLength[x] = ln\n",
    "                break\n",
    "            else:\n",
    "                chain.append(term)\n",
    "                #k = key(term) (to save memory)\n",
    "                k = term\n",
    "                if k in knownNext:\n",
    "                    term = knownNext[k]\n",
    "                else:\n",
    "                    nextTerm = sumDigitFact(term)\n",
    "                    knownNext[k] = nextTerm\n",
    "                    term = nextTerm\n",
    "        #print(\"start:\", i, \"-> length:\", length, \"\\n\", chain, \"\\n\")\n",
    "        if length >= l:\n",
    "            longChains += 1\n",
    "    return longChains\n",
    "    "
   ]
  },
  {
   "cell_type": "code",
   "execution_count": 5,
   "metadata": {},
   "outputs": [],
   "source": [
    "def run(n):\n",
    "    St = time()\n",
    "    solution = Euler0074(10**n,60)\n",
    "    Et = time()-St\n",
    "    print(\"for n =\", n, \"solution =\", solution, \"found in\", Et)"
   ]
  },
  {
   "cell_type": "code",
   "execution_count": 7,
   "metadata": {},
   "outputs": [
    {
     "name": "stdout",
     "output_type": "stream",
     "text": [
      "for n = 6 solution = 402 found in 45.99194288253784\n"
     ]
    }
   ],
   "source": [
    "run(6)"
   ]
  },
  {
   "cell_type": "code",
   "execution_count": null,
   "metadata": {},
   "outputs": [],
   "source": []
  }
 ],
 "metadata": {
  "kernelspec": {
   "display_name": "Python 3",
   "language": "python",
   "name": "python3"
  },
  "language_info": {
   "codemirror_mode": {
    "name": "ipython",
    "version": 3
   },
   "file_extension": ".py",
   "mimetype": "text/x-python",
   "name": "python",
   "nbconvert_exporter": "python",
   "pygments_lexer": "ipython3",
   "version": "3.7.1"
  }
 },
 "nbformat": 4,
 "nbformat_minor": 2
}
