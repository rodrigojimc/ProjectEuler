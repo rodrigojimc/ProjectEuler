{
 "cells": [
  {
   "cell_type": "markdown",
   "metadata": {},
   "source": [
    "https://en.wikipedia.org/wiki/Divisor_function\n",
    "https://math.stackexchange.com/questions/964267/proofs-of-identity-for-product-of-binomial-coefficients"
   ]
  },
  {
   "cell_type": "code",
   "execution_count": 1,
   "metadata": {},
   "outputs": [],
   "source": [
    "from time import time\n",
    "from functools import reduce"
   ]
  },
  {
   "cell_type": "code",
   "execution_count": 46,
   "metadata": {},
   "outputs": [],
   "source": [
    "def isPrime(n):\n",
    "    sieve = [False,False]+[True]*(n-1)\n",
    "    for i in range(2,n+1):\n",
    "        if sieve[i]:\n",
    "            for j in range (2,n//i+1):\n",
    "                sieve[i*j] = False\n",
    "    return sieve"
   ]
  },
  {
   "cell_type": "code",
   "execution_count": 47,
   "metadata": {},
   "outputs": [],
   "source": [
    "def primeFact(n):\n",
    "    factors = [{} for i in range(n+1)]\n",
    "    for p in range(2,n+1):\n",
    "        if is_prime[p]:\n",
    "            e = 1\n",
    "            q = p\n",
    "            while q < n:\n",
    "                for j in range (1,n//q+1):\n",
    "                    if p in factors[q*j]:\n",
    "                        factors[q*j][p] += 1\n",
    "                    else:\n",
    "                        factors[q*j][p] = 1\n",
    "                e+=1\n",
    "                q = p**e\n",
    "    return factors"
   ]
  },
  {
   "cell_type": "code",
   "execution_count": 33,
   "metadata": {},
   "outputs": [],
   "source": [
    "def B_fact(n):\n",
    "    v = [0,0] + [2*k-n-1 for k in range(2,n+1)] \n",
    "    for i in range(2,n+1):\n",
    "        if (v[i] != 0) and (not is_prime[i]):\n",
    "            for p in prime_fact[i]:\n",
    "                v[p] += prime_fact[i][p]*v[i]\n",
    "            v[i] = 0\n",
    "    return v"
   ]
  },
  {
   "cell_type": "code",
   "execution_count": 34,
   "metadata": {},
   "outputs": [],
   "source": [
    "def potSumMod(n,e,m):\n",
    "    s = 1\n",
    "    for i in range(e):\n",
    "        s = (s*n + 1)%m\n",
    "    return s\n",
    "    \n",
    "def divSumMod(n, m):\n",
    "    v = B_fact(n)\n",
    "    p = 1\n",
    "    for i in range(2,n+1):\n",
    "        if v[i] != 0:\n",
    "            p = (p*potSumMod(i,v[i],m))%m\n",
    "    return p"
   ]
  },
  {
   "cell_type": "code",
   "execution_count": 35,
   "metadata": {},
   "outputs": [],
   "source": [
    "def run(f):\n",
    "    def wrapper(args):\n",
    "        St = time()\n",
    "        solution = f(*args)\n",
    "        Et = time() - St \n",
    "        print(\"for args = \", args, \"found\", solution, \"in\", Et, \"secs\")\n",
    "    return wrapper"
   ]
  },
  {
   "cell_type": "code",
   "execution_count": 36,
   "metadata": {},
   "outputs": [],
   "source": [
    "@run\n",
    "def Euler650(n,m):\n",
    "    \n",
    "    global is_prime\n",
    "    global prime_fact\n",
    "    \n",
    "    is_prime = isPrime(n)\n",
    "    prime_fact = primeFact(n)\n",
    "    \n",
    "    solution = 0\n",
    "    \n",
    "    for i in range(1,n+1):\n",
    "        solution = (solution + divSumMod(i,m))%m\n",
    "    return solution"
   ]
  },
  {
   "cell_type": "code",
   "execution_count": 48,
   "metadata": {},
   "outputs": [
    {
     "name": "stdout",
     "output_type": "stream",
     "text": [
      "for args =  [100, 1000000007] found 332792866 in 0.04687333106994629 secs\n"
     ]
    }
   ],
   "source": [
    "#n = 20000\n",
    "n = 100\n",
    "m = 10**9+7\n",
    "args = [n,m]\n",
    "Euler650(args)"
   ]
  },
  {
   "cell_type": "markdown",
   "metadata": {},
   "source": [
    "for args =  [100, 1000000007] found 332792866 in 0.02992081642150879 secs\n",
    "for args =  [200, 1000000007] found 271664942 in 0.17253684997558594 secs\n",
    "for args =  [1000, 1000000007] found 361160563 in 12.15048885345459 secs\n",
    "for args =  [2000, 1000000007] found 939425731 in 77.52625465393066 secs"
   ]
  }
 ],
 "metadata": {
  "kernelspec": {
   "display_name": "Python 3",
   "language": "python",
   "name": "python3"
  },
  "language_info": {
   "codemirror_mode": {
    "name": "ipython",
    "version": 3
   },
   "file_extension": ".py",
   "mimetype": "text/x-python",
   "name": "python",
   "nbconvert_exporter": "python",
   "pygments_lexer": "ipython3",
   "version": "3.7.1"
  }
 },
 "nbformat": 4,
 "nbformat_minor": 2
}
