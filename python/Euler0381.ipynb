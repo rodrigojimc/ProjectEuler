{
 "cells": [
  {
   "cell_type": "code",
   "execution_count": 1,
   "metadata": {},
   "outputs": [],
   "source": [
    "from time import time"
   ]
  },
  {
   "cell_type": "code",
   "execution_count": 2,
   "metadata": {},
   "outputs": [],
   "source": [
    " def coefs (a, b):\n",
    "        # a < b\n",
    "        # gdc (a, b) = 1\n",
    "        # returns [x, y] where b*x + a*y = 1\n",
    "        d = - (b//a)\n",
    "        r = b%a\n",
    "        if r == 1:\n",
    "            #print(b ,\"+ (\", d,\") *\", a,\"= 1\")\n",
    "            return [1, d]\n",
    "        else:\n",
    "            [x, y] = coefs (r, a)\n",
    "            sol = [y, y*d+x]\n",
    "            #print(\"(\",sol[0],\") *\", b,\"+ (\",sol[1],\") *\",a ,\"=\", sol[0]*b+sol[1]*a)\n",
    "            return sol"
   ]
  },
  {
   "cell_type": "code",
   "execution_count": 3,
   "metadata": {},
   "outputs": [],
   "source": [
    "def invMod (k, p):\n",
    "    # returns x where k*x = 1 mod(p)\n",
    "    if k == 1:\n",
    "        return 1\n",
    "    else:\n",
    "        return p+coefs(k,p)[1]"
   ]
  },
  {
   "cell_type": "code",
   "execution_count": 4,
   "metadata": {},
   "outputs": [],
   "source": [
    "def s(p):\n",
    "    if p == 5:\n",
    "        return 4\n",
    "    else:\n",
    "        output = 1\n",
    "        for i in range(4,1,-1):\n",
    "            output *= invMod(p-i, p)\n",
    "            output += 1\n",
    "            output %= p\n",
    "        return output-1"
   ]
  },
  {
   "cell_type": "code",
   "execution_count": 5,
   "metadata": {},
   "outputs": [],
   "source": [
    "def sieve(n):\n",
    "    isPrime = [0,0]+[1]*(n-1)\n",
    "    for i in range(2, n+1):\n",
    "        if isPrime[i]:\n",
    "            for j in range(i, n//i+1):\n",
    "                isPrime[i*j]=0\n",
    "    return isPrime"
   ]
  },
  {
   "cell_type": "code",
   "execution_count": 6,
   "metadata": {},
   "outputs": [
    {
     "name": "stdout",
     "output_type": "stream",
     "text": [
      "Done in 57.65467834472656\n"
     ]
    }
   ],
   "source": [
    "st = time()\n",
    "\n",
    "n = 10**8\n",
    "isPrime = sieve(n)\n",
    "et = time() - st\n",
    "\n",
    "print(\"Done in\", et)"
   ]
  },
  {
   "cell_type": "code",
   "execution_count": 10,
   "metadata": {},
   "outputs": [
    {
     "name": "stdout",
     "output_type": "stream",
     "text": [
      "sol = 139602943319822 found in 63.524696588516235\n"
     ]
    }
   ],
   "source": [
    "st = time()\n",
    "\n",
    "sol = 0\n",
    "for p in range(5, n+1):\n",
    "    if isPrime[p]:\n",
    "        sol += s(p)\n",
    "        \n",
    "et = time() - st\n",
    "        \n",
    "print(\"sol =\", sol, \"found in\", et)"
   ]
  }
 ],
 "metadata": {
  "kernelspec": {
   "display_name": "Python 3",
   "language": "python",
   "name": "python3"
  },
  "language_info": {
   "codemirror_mode": {
    "name": "ipython",
    "version": 3
   },
   "file_extension": ".py",
   "mimetype": "text/x-python",
   "name": "python",
   "nbconvert_exporter": "python",
   "pygments_lexer": "ipython3",
   "version": "3.7.1"
  }
 },
 "nbformat": 4,
 "nbformat_minor": 2
}
