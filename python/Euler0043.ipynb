{
 "cells": [
  {
   "cell_type": "code",
   "execution_count": 1,
   "metadata": {},
   "outputs": [],
   "source": [
    "import math\n",
    "import time"
   ]
  },
  {
   "cell_type": "code",
   "execution_count": 2,
   "metadata": {},
   "outputs": [],
   "source": [
    "def desc_fact (n):\n",
    "    r=1\n",
    "    v=[]\n",
    "    while r!=0 :\n",
    "        i=0\n",
    "        tx=1\n",
    "        while tx!=0 :\n",
    "            f=math.factorial(i)\n",
    "            tx=math.floor(n/f)\n",
    "            rx=n%f\n",
    "            if tx>0 : (t,r,p)=(tx,rx,i)\n",
    "            i=i+1\n",
    "        v.append([p,t,r]) \n",
    "        #b= factorial base\n",
    "        #t= times fits in last residue\n",
    "        #r= residue\n",
    "        n=r\n",
    "    return v\n",
    "\n",
    "def num_perm (v,n) :\n",
    "    #print(v)#\n",
    "    f=desc_fact(n)\n",
    "    lv=len(v)\n",
    "    s=0\n",
    "    for x in f :\n",
    "        (b,t,r)=x\n",
    "        #print(\"b=\",b,\"t=\",t,\"r=\",r)\n",
    "        aux=[]\n",
    "        l=lv-b-1\n",
    "        aux=v[:l]\n",
    "        if r!=0 : \n",
    "            pos=l+t\n",
    "            c=v[pos]\n",
    "        else : \n",
    "            pos=l+t-1\n",
    "            c=v[pos]\n",
    "        aux.append(c)\n",
    "        for i in range (l,lv) :\n",
    "            if i!=pos : aux.append(v[i])\n",
    "        s=l+1\n",
    "        v=aux[:]\n",
    "        #print(v) #\n",
    "    #print(\"since r=0 flip last digits\")\n",
    "    aux=v[:s]\n",
    "    for i in range (lv-s) :\n",
    "        aux.append(v[lv-i-1])\n",
    "    v=aux[:]\n",
    "    return v\n",
    "\n",
    "def perm (v) :\n",
    "    p=[]\n",
    "    l=len(v)\n",
    "    f=math.factorial(l)\n",
    "    for i in range (1,f+1) :\n",
    "        r=num_perm (v,i)\n",
    "        p.append(r)\n",
    "    return p"
   ]
  },
  {
   "cell_type": "code",
   "execution_count": 3,
   "metadata": {},
   "outputs": [
    {
     "data": {
      "text/plain": [
       "3628800"
      ]
     },
     "execution_count": 3,
     "metadata": {},
     "output_type": "execute_result"
    }
   ],
   "source": [
    "math.factorial(10)"
   ]
  },
  {
   "cell_type": "code",
   "execution_count": 14,
   "metadata": {},
   "outputs": [
    {
     "name": "stdout",
     "output_type": "stream",
     "text": [
      "3628800 found in 166.6437587738037\n"
     ]
    }
   ],
   "source": [
    "St=time.time()\n",
    "v=[0,1,2,3,4,5,6,7,8,9]\n",
    "P=perm(v)\n",
    "Et=time.time()-St\n",
    "print(len(P),\"found in\", Et)"
   ]
  },
  {
   "cell_type": "code",
   "execution_count": 17,
   "metadata": {},
   "outputs": [
    {
     "data": {
      "text/plain": [
       "([0, 1, 2, 3, 4, 5, 6, 7, 8, 9],\n",
       " [0, 9, 8, 7, 6, 5, 4, 3, 2, 1],\n",
       " [1, 0, 2, 3, 4, 5, 6, 7, 8, 9],\n",
       " [9, 8, 7, 6, 5, 4, 3, 2, 1, 0])"
      ]
     },
     "execution_count": 17,
     "metadata": {},
     "output_type": "execute_result"
    }
   ],
   "source": [
    "P[0], P[362879],P[362880],P[3628799]"
   ]
  },
  {
   "cell_type": "code",
   "execution_count": 30,
   "metadata": {},
   "outputs": [
    {
     "data": {
      "text/plain": [
       "3265920"
      ]
     },
     "execution_count": 30,
     "metadata": {},
     "output_type": "execute_result"
    }
   ],
   "source": [
    "Pan=P[362880:3628800]\n",
    "len(P0)"
   ]
  },
  {
   "cell_type": "code",
   "execution_count": 31,
   "metadata": {},
   "outputs": [
    {
     "data": {
      "text/plain": [
       "([1, 0, 2, 3, 4, 5, 6, 7, 8, 9], [9, 8, 7, 6, 5, 4, 3, 2, 1, 0])"
      ]
     },
     "execution_count": 31,
     "metadata": {},
     "output_type": "execute_result"
    }
   ],
   "source": [
    "Pan[0], Pan[3265919]"
   ]
  },
  {
   "cell_type": "code",
   "execution_count": 39,
   "metadata": {},
   "outputs": [
    {
     "name": "stdout",
     "output_type": "stream",
     "text": [
      "1406357289\n",
      "1430952867\n",
      "1460357289\n",
      "4106357289\n",
      "4130952867\n",
      "4160357289\n",
      "16695334890 found in 9.242278575897217\n"
     ]
    }
   ],
   "source": [
    "St=time.time()\n",
    "s=0\n",
    "for p in Pan :\n",
    "    (d1,d2,d3,d4,d5,d6,d7,d8,d9,d10)=p\n",
    "    c2=(d2*100+d3*10+d4)%2\n",
    "    c3=(d3*100+d4*10+d5)%3\n",
    "    c5=(d4*100+d5*10+d6)%5\n",
    "    c7=(d5*100+d6*10+d7)%7\n",
    "    c11=(d6*100+d7*10+d8)%11\n",
    "    c13=(d7*100+d8*10+d9)%13\n",
    "    c17=(d8*100+d9*10+d10)%17\n",
    "    cond=c2+c3+c5+c7+c11+c13+c17\n",
    "    if cond==0 :\n",
    "        n=10**9*d1+10**8*d2+10**7*d3+10**6*d4+10**5*d5+10**4*d6+10**3*d7+10**2*d8+10*d9+d10\n",
    "        print(n)\n",
    "        s+=n\n",
    "Et=time.time()-St\n",
    "print(s,\"found in\", Et)"
   ]
  },
  {
   "cell_type": "code",
   "execution_count": null,
   "metadata": {},
   "outputs": [],
   "source": []
  },
  {
   "cell_type": "code",
   "execution_count": null,
   "metadata": {},
   "outputs": [],
   "source": []
  }
 ],
 "metadata": {
  "kernelspec": {
   "display_name": "Python 3",
   "language": "python",
   "name": "python3"
  },
  "language_info": {
   "codemirror_mode": {
    "name": "ipython",
    "version": 3
   },
   "file_extension": ".py",
   "mimetype": "text/x-python",
   "name": "python",
   "nbconvert_exporter": "python",
   "pygments_lexer": "ipython3",
   "version": "3.7.0"
  }
 },
 "nbformat": 4,
 "nbformat_minor": 2
}
