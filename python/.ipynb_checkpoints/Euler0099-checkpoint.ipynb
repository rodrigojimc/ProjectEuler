{
 "cells": [
  {
   "cell_type": "code",
   "execution_count": 2,
   "metadata": {},
   "outputs": [],
   "source": [
    "from math import log"
   ]
  },
  {
   "cell_type": "code",
   "execution_count": 25,
   "metadata": {},
   "outputs": [
    {
     "name": "stdout",
     "output_type": "stream",
     "text": [
      "[519432, 525806]\n",
      ":\n",
      "[13846, 725685]\n",
      "3005259.284240271\n",
      ":\n",
      "3005296.9444388608\n"
     ]
    }
   ],
   "source": [
    "text_file = list(open(r\"C:\\Users\\RodrigoJimenezCorrea\\Documents\\GitHub\\ProjectEuler\\text\\Euler0099.txt\",\"r\"))\n",
    "pots = [[int(x) for x in line.replace(\"\\n\",\"\").split(\",\")] for line in text_file]\n",
    "\n",
    "print(pots[0])\n",
    "print(\":\")\n",
    "print(pots[-1])\n",
    "\n",
    "val = [log(pot[0],10)*pot[1] for pot in pots]\n",
    "print(val[0])\n",
    "print(\":\")\n",
    "print(val[-1])"
   ]
  },
  {
   "cell_type": "code",
   "execution_count": null,
   "metadata": {},
   "outputs": [],
   "source": []
  }
 ],
 "metadata": {
  "kernelspec": {
   "display_name": "Python 3",
   "language": "python",
   "name": "python3"
  },
  "language_info": {
   "codemirror_mode": {
    "name": "ipython",
    "version": 3
   },
   "file_extension": ".py",
   "mimetype": "text/x-python",
   "name": "python",
   "nbconvert_exporter": "python",
   "pygments_lexer": "ipython3",
   "version": "3.7.1"
  }
 },
 "nbformat": 4,
 "nbformat_minor": 2
}
