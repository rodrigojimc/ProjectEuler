{
 "cells": [
  {
   "cell_type": "code",
   "execution_count": 33,
   "metadata": {},
   "outputs": [],
   "source": [
    "import math\n",
    "from time import time\n",
    "from sympy import prime"
   ]
  },
  {
   "cell_type": "code",
   "execution_count": 36,
   "metadata": {},
   "outputs": [
    {
     "name": "stdout",
     "output_type": "stream",
     "text": [
      "num= 428570 \tden= 999997 \tEt= 7.277219533920288\n"
     ]
    }
   ],
   "source": [
    "St = time()\n",
    "\n",
    "exp=6\n",
    "num = 1\n",
    "den = 10**exp\n",
    "\n",
    "for d in range(1,10**exp):\n",
    "    lb = math.ceil((num/den)*d)\n",
    "    ub = math.ceil((3/7)*d)\n",
    "    n = lb\n",
    "   # print(\"d=\",d,\"\\tlb=\",lb,\"\\tub=\",ub)\n",
    "    while (lb<=n<ub):\n",
    "        if (num/den)<(n/d)<(3/7):\n",
    "            num = n\n",
    "            den = d\n",
    "            \n",
    "            lb = math.ceil((num/den)*d)\n",
    "            ub = math.ceil((3/7)*d)\n",
    "            n = lb\n",
    "            \n",
    "        n += 1\n",
    "\n",
    "i=1\n",
    "while (prime(i)<math.sqrt(num)):\n",
    "    if num%prime(i)==0 and den%prime(i)==0:\n",
    "        num = num/prime(i)\n",
    "        den = den/prime(i)\n",
    "    i+=1\n",
    "\n",
    "Et = time()-St\n",
    "print(\"num=\", num, \"\\tden=\", den, \"\\tEt=\", Et)"
   ]
  },
  {
   "cell_type": "code",
   "execution_count": null,
   "metadata": {},
   "outputs": [],
   "source": []
  }
 ],
 "metadata": {
  "kernelspec": {
   "display_name": "Python 3",
   "language": "python",
   "name": "python3"
  },
  "language_info": {
   "codemirror_mode": {
    "name": "ipython",
    "version": 3
   },
   "file_extension": ".py",
   "mimetype": "text/x-python",
   "name": "python",
   "nbconvert_exporter": "python",
   "pygments_lexer": "ipython3",
   "version": "3.7.1"
  }
 },
 "nbformat": 4,
 "nbformat_minor": 2
}
