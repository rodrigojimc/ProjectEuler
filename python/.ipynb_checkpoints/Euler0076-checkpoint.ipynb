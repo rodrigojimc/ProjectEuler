{
 "cells": [
  {
   "cell_type": "code",
   "execution_count": 1,
   "metadata": {},
   "outputs": [],
   "source": [
    "import numpy as np\n",
    "from time import time"
   ]
  },
  {
   "cell_type": "code",
   "execution_count": 2,
   "metadata": {},
   "outputs": [],
   "source": [
    "def Euler76(n):\n",
    "    St = time()\n",
    "\n",
    "    sums = np.zeros((n+1,n+1))\n",
    "    v = np.ones(n+1)\n",
    "    sums[0,:] = v[:]\n",
    "    sums[1,:] = v[:]\n",
    "    sums[:,1] = v[:]\n",
    "\n",
    "    for i in range(2,n+1):\n",
    "        for j in range(2,n+1):\n",
    "            sums[i,j] = sums[i,j-1]+sums[i-j,j]\n",
    "        \n",
    "    Et = time()-St\n",
    "    print(sums[n,n-1],Et)"
   ]
  },
  {
   "cell_type": "code",
   "execution_count": 3,
   "metadata": {},
   "outputs": [
    {
     "name": "stdout",
     "output_type": "stream",
     "text": [
      "190569291.0 0.00698399543762207\n"
     ]
    }
   ],
   "source": [
    "Euler76(100)"
   ]
  }
 ],
 "metadata": {
  "kernelspec": {
   "display_name": "Python 3",
   "language": "python",
   "name": "python3"
  },
  "language_info": {
   "codemirror_mode": {
    "name": "ipython",
    "version": 3
   },
   "file_extension": ".py",
   "mimetype": "text/x-python",
   "name": "python",
   "nbconvert_exporter": "python",
   "pygments_lexer": "ipython3",
   "version": "3.7.0"
  }
 },
 "nbformat": 4,
 "nbformat_minor": 2
}
