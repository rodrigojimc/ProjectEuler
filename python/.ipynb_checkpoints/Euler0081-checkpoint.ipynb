{
 "cells": [
  {
   "cell_type": "code",
   "execution_count": 1,
   "metadata": {},
   "outputs": [],
   "source": [
    "import numpy as np\n",
    "from time import time"
   ]
  },
  {
   "cell_type": "code",
   "execution_count": 2,
   "metadata": {},
   "outputs": [],
   "source": [
    "def minPathSum (M):\n",
    "    St = time()\n",
    "\n",
    "    n = len(M)\n",
    "\n",
    "    # up and left bounds\n",
    "    for i in range(1,n):\n",
    "        M[0][i] += M[0][i-1]\n",
    "        M[i][0] += M[i-1][0]\n",
    "\n",
    "    # upper int triangle\n",
    "    for i in range(1,n):\n",
    "        for j in range(1,i):\n",
    "            M[j][i-j] += min(M[j-1][i-j], M[j][i-j-1])  \n",
    "\n",
    "    # lower triangle\n",
    "    for i in range(1,n):\n",
    "        for j in range(n-i):\n",
    "            M[i+j][(n-1)-j] += min (M[i+j][(n-1)-j-1], M[i+j-1][n-1-j])\n",
    "        \n",
    "    sol = M[n-1][n-1]\n",
    "\n",
    "    Et=time()-St\n",
    "    print(\"sol:\", sol, \"\\tEt:\", Et)"
   ]
  },
  {
   "cell_type": "code",
   "execution_count": 3,
   "metadata": {},
   "outputs": [
    {
     "name": "stdout",
     "output_type": "stream",
     "text": [
      "sol: 2427 \tEt: 0.0\n"
     ]
    }
   ],
   "source": [
    "N = [[131,673,234,103,18],\n",
    "     [201,96,342,965,150],\n",
    "     [630,803,746,422,111],\n",
    "     [537,699,497,121,956],\n",
    "     [805,732,524,37,331]]\n",
    "\n",
    "minPathSum(N)"
   ]
  },
  {
   "cell_type": "code",
   "execution_count": 4,
   "metadata": {},
   "outputs": [
    {
     "name": "stdout",
     "output_type": "stream",
     "text": [
      "4445 ... 5870\n",
      "  :   x   :\n",
      "5304 ... 7981\n"
     ]
    }
   ],
   "source": [
    "text_file = list(open(r\"C:\\Users\\RodrigoJimenezCorrea\\Documents\\GitHub\\ProjectEuler\\text\\Euler81.txt\",\"r\"))\n",
    "M = [[int(x) for x in line.replace(\"\\n\",\"\").split(\",\")] for line in text_file]\n",
    "print(M[0][0],\"...\",M[0][79])\n",
    "print(\"  :\",\"  x\",\"  :\")\n",
    "print(M[79][0],\"...\",M[79][79])"
   ]
  },
  {
   "cell_type": "code",
   "execution_count": 5,
   "metadata": {},
   "outputs": [
    {
     "name": "stdout",
     "output_type": "stream",
     "text": [
      "sol: 427337 \tEt: 0.007980823516845703\n"
     ]
    }
   ],
   "source": [
    "minPathSum(M)"
   ]
  },
  {
   "cell_type": "code",
   "execution_count": null,
   "metadata": {},
   "outputs": [],
   "source": []
  }
 ],
 "metadata": {
  "kernelspec": {
   "display_name": "Python 3",
   "language": "python",
   "name": "python3"
  },
  "language_info": {
   "codemirror_mode": {
    "name": "ipython",
    "version": 3
   },
   "file_extension": ".py",
   "mimetype": "text/x-python",
   "name": "python",
   "nbconvert_exporter": "python",
   "pygments_lexer": "ipython3",
   "version": "3.7.1"
  }
 },
 "nbformat": 4,
 "nbformat_minor": 2
}
