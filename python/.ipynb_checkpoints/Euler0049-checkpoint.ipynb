{
 "cells": [
  {
   "cell_type": "code",
   "execution_count": 1,
   "metadata": {},
   "outputs": [],
   "source": [
    "from sympy import sieve\n",
    "from itertools import permutations as perm"
   ]
  },
  {
   "cell_type": "code",
   "execution_count": 2,
   "metadata": {},
   "outputs": [],
   "source": [
    "# 4-digit primes list\n",
    "primes=list(sieve.primerange(1000,10000))"
   ]
  },
  {
   "cell_type": "code",
   "execution_count": 3,
   "metadata": {},
   "outputs": [],
   "source": [
    "# sorted set of permutations\n",
    "def perm_d (n): return tuple(set(sorted([int(\"\".join(str(d) for d in p)) for p in perm([int(d) for d in str(n)])])))"
   ]
  },
  {
   "cell_type": "code",
   "execution_count": 4,
   "metadata": {},
   "outputs": [
    {
     "data": {
      "text/plain": [
       "(112, 121, 211)"
      ]
     },
     "execution_count": 4,
     "metadata": {},
     "output_type": "execute_result"
    }
   ],
   "source": [
    "perm_d(112)"
   ]
  },
  {
   "cell_type": "code",
   "execution_count": 5,
   "metadata": {},
   "outputs": [],
   "source": [
    "def dif(v,n=0,M=[]):\n",
    "    if n==0: M=[]\n",
    "    l=len(v)\n",
    "    D=[]\n",
    "    for i in range (n+1,l):\n",
    "        d=v[i]-v[n]\n",
    "        D.append(d)\n",
    "    M.append(D)\n",
    "    if n+2<l:\n",
    "        M=dif(v,n+1,M)\n",
    "    return (M)\n",
    "\n",
    "def find_as (v):\n",
    "    y=(0,0,0)\n",
    "    l=len(v)\n",
    "    for i in range (l):\n",
    "        for j in range (l-i-1):\n",
    "            for k in range (len(v[i+j+1])):\n",
    "                if v[i][j]==v[i+j+1][k] : \n",
    "                    y=(i,i+j+1,i+j+k+2)\n",
    "    return y"
   ]
  },
  {
   "cell_type": "code",
   "execution_count": 6,
   "metadata": {
    "scrolled": true
   },
   "outputs": [
    {
     "name": "stdout",
     "output_type": "stream",
     "text": [
      "[[360, 3330, 3384, 5994, 6354, 6660, 7254], [2970, 3024, 5634, 5994, 6300, 6894], [54, 2664, 3024, 3330, 3924], [2610, 2970, 3276, 3870], [360, 666, 1260], [306, 900], [594]]\n",
      "(0, 2, 6)\n",
      "1487 4817 8147\n"
     ]
    }
   ],
   "source": [
    "x=[1487, 1847, 4817, 4871, 7481, 7841, 8147, 8741]\n",
    "y=dif(x)\n",
    "print(y)\n",
    "z=find_as(y)\n",
    "print(z)\n",
    "print(x[z[0]],x[z[1]],x[z[2]])"
   ]
  },
  {
   "cell_type": "code",
   "execution_count": 7,
   "metadata": {},
   "outputs": [],
   "source": [
    "v=[x for x in sorted(set([tuple(sorted([p for p in perm_d(n) if p in primes])) for n in primes])) if len(x)>2]"
   ]
  },
  {
   "cell_type": "code",
   "execution_count": 8,
   "metadata": {},
   "outputs": [
    {
     "name": "stdout",
     "output_type": "stream",
     "text": [
      "1487 4817 8147\n",
      "2969 6299 9629\n"
     ]
    }
   ],
   "source": [
    "l=len(v)\n",
    "for i in range (l):\n",
    "    y=find_as(dif(v[i]))\n",
    "    if y!=(0,0,0):\n",
    "        print(v[i][y[0]],v[i][y[1]],v[i][y[2]])"
   ]
  },
  {
   "cell_type": "code",
   "execution_count": 9,
   "metadata": {},
   "outputs": [
    {
     "name": "stdout",
     "output_type": "stream",
     "text": [
      "(a,b,c)= (1487, 4817, 8147) | diference= 3330\n",
      "(a,b,c)= (2969, 6299, 9629) | diference= 3330\n",
      "elapsed time: 0.330549955368042\n"
     ]
    }
   ],
   "source": [
    "import time\n",
    "from sympy import sieve\n",
    "from itertools import permutations as perm\n",
    "\n",
    "St=time.time()\n",
    "\n",
    "def perm_d (n): return tuple(set(sorted([int(\"\".join(str(d) for d in p)) for p in perm([int(d) for d in str(n)])])))\n",
    "\n",
    "def dif(v,n=0,M=[]):\n",
    "    if n==0: M=[]\n",
    "    l=len(v)\n",
    "    D=[]\n",
    "    for i in range (n+1,l):\n",
    "        d=v[i]-v[n]\n",
    "        D.append(d)\n",
    "    M.append(D)\n",
    "    if n+2<l:\n",
    "        M=dif(v,n+1,M)\n",
    "    return (M)\n",
    "\n",
    "def find_as (v):\n",
    "    y=(0,0,0)\n",
    "    l=len(v)\n",
    "    for i in range (l):\n",
    "        for j in range (l-i-1):\n",
    "            for k in range (len(v[i+j+1])):\n",
    "                if v[i][j]==v[i+j+1][k] : \n",
    "                    y=(i,i+j+1,i+j+k+2)\n",
    "    return y\n",
    "\n",
    "primes=list(sieve.primerange(1000,10000))\n",
    "\n",
    "v=[x for x in sorted(set([tuple(sorted([p for p in perm_d(n) if p in primes])) for n in primes])) if len(x)>2]\n",
    "\n",
    "l=len(v)\n",
    "for i in range (l):\n",
    "    y=find_as(dif(v[i]))\n",
    "    if y!=(0,0,0):\n",
    "        print(\"(a,b,c)=\",(v[i][y[0]],v[i][y[1]],v[i][y[2]]),\"| diference=\",v[i][y[1]]-v[i][y[0]])\n",
    "        \n",
    "Et=time.time()-St    \n",
    "print(\"elapsed time:\",Et)"
   ]
  }
 ],
 "metadata": {
  "kernelspec": {
   "display_name": "Python 3",
   "language": "python",
   "name": "python3"
  },
  "language_info": {
   "codemirror_mode": {
    "name": "ipython",
    "version": 3
   },
   "file_extension": ".py",
   "mimetype": "text/x-python",
   "name": "python",
   "nbconvert_exporter": "python",
   "pygments_lexer": "ipython3",
   "version": "3.7.0"
  }
 },
 "nbformat": 4,
 "nbformat_minor": 2
}
