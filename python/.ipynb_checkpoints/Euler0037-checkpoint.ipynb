{
 "cells": [
  {
   "cell_type": "code",
   "execution_count": 1,
   "metadata": {},
   "outputs": [],
   "source": [
    "import numpy as np\n",
    "import time\n",
    "import math"
   ]
  },
  {
   "cell_type": "code",
   "execution_count": 2,
   "metadata": {},
   "outputs": [],
   "source": [
    "def p_sieve (n) :\n",
    "    p=[]\n",
    "    v=np.ones(n+1)\n",
    "    v[0]=0\n",
    "    v[1]=0\n",
    "    for i in range (2,len(v)):\n",
    "        if v[i]==1 : \n",
    "            for j in range (2*i, len(v),i) :\n",
    "                v[j]=0\n",
    "    return v"
   ]
  },
  {
   "cell_type": "code",
   "execution_count": 3,
   "metadata": {},
   "outputs": [
    {
     "data": {
      "text/plain": [
       "array([0., 0., 1., 1., 0., 1., 0., 1., 0., 0., 0., 1., 0., 1., 0., 0., 0.,\n",
       "       1., 0., 1., 0.])"
      ]
     },
     "execution_count": 3,
     "metadata": {},
     "output_type": "execute_result"
    }
   ],
   "source": [
    "p_sieve(20)"
   ]
  },
  {
   "cell_type": "code",
   "execution_count": 41,
   "metadata": {},
   "outputs": [],
   "source": [
    "def trunc (n) :\n",
    "    v=[n]\n",
    "    l=math.ceil(math.log(n,10))\n",
    "    for i in range (1,l) :\n",
    "        tn=n%10**(l-i)\n",
    "        v.append(tn)\n",
    "    for i in range (1,l) :\n",
    "        tn=int((n-n%10**(i))/10**i)\n",
    "        v.append(tn) \n",
    "    return(v)"
   ]
  },
  {
   "cell_type": "code",
   "execution_count": 42,
   "metadata": {},
   "outputs": [
    {
     "data": {
      "text/plain": [
       "[12345, 2345, 345, 45, 5, 1234, 123, 12, 1]"
      ]
     },
     "execution_count": 42,
     "metadata": {},
     "output_type": "execute_result"
    }
   ],
   "source": [
    "trunc(12345)"
   ]
  },
  {
   "cell_type": "code",
   "execution_count": 68,
   "metadata": {},
   "outputs": [],
   "source": [
    "def euler37 (n):\n",
    "    sol=[]\n",
    "    s=0\n",
    "    is_prime=p_sieve(n)\n",
    "    for p in range(11,n+1) :\n",
    "        nope=0\n",
    "        if is_prime[p]==1:\n",
    "            trunc_p=trunc(p)\n",
    "            for tp in trunc_p :\n",
    "                if is_prime[tp]!=1 : \n",
    "                    nope=1\n",
    "            if nope==0 : \n",
    "                sol.append(p)\n",
    "                s=s+p\n",
    "    return (s,sol)"
   ]
  },
  {
   "cell_type": "code",
   "execution_count": 69,
   "metadata": {},
   "outputs": [],
   "source": [
    "def run (f,n) :\n",
    "    St=time.time()\n",
    "    output=f(n)\n",
    "    Et=time.time()-St\n",
    "    print(output, \"found in\", Et)"
   ]
  },
  {
   "cell_type": "code",
   "execution_count": 72,
   "metadata": {},
   "outputs": [
    {
     "name": "stdout",
     "output_type": "stream",
     "text": [
      "(748317, [23, 37, 53, 73, 313, 317, 373, 797, 3137, 3797, 739397]) found in 2.3261682987213135\n"
     ]
    }
   ],
   "source": [
    "run(euler37,1000000)"
   ]
  },
  {
   "cell_type": "code",
   "execution_count": null,
   "metadata": {},
   "outputs": [],
   "source": []
  }
 ],
 "metadata": {
  "kernelspec": {
   "display_name": "Python 3",
   "language": "python",
   "name": "python3"
  },
  "language_info": {
   "codemirror_mode": {
    "name": "ipython",
    "version": 3
   },
   "file_extension": ".py",
   "mimetype": "text/x-python",
   "name": "python",
   "nbconvert_exporter": "python",
   "pygments_lexer": "ipython3",
   "version": "3.7.0"
  }
 },
 "nbformat": 4,
 "nbformat_minor": 2
}
