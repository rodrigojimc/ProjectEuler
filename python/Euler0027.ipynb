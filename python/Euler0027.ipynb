{
 "cells": [
  {
   "cell_type": "code",
   "execution_count": 1,
   "metadata": {},
   "outputs": [],
   "source": [
    "import time\n",
    "import numpy as np"
   ]
  },
  {
   "cell_type": "code",
   "execution_count": 2,
   "metadata": {},
   "outputs": [],
   "source": [
    "def primes (n) :\n",
    "    s=0\n",
    "    v=np.ones(n-1)\n",
    "    p=[]\n",
    "    for i in range (len(v)):\n",
    "        if v[i]==1 : \n",
    "            p.append(i+2)\n",
    "            for j in range (i, len(v),i+2) :\n",
    "                v[j]=0\n",
    "    return p"
   ]
  },
  {
   "cell_type": "code",
   "execution_count": 3,
   "metadata": {},
   "outputs": [],
   "source": [
    "def euler27 (l,v):\n",
    "    Mabs=(0,0,0)\n",
    "    St=time.time()\n",
    "    for a in range(-l+1,l) :\n",
    "        for b in v :\n",
    "            if abs(b)<=l :\n",
    "                s=0\n",
    "                for n in range (abs(b)+1) :\n",
    "                    r=n**2+a*n+b\n",
    "                    if r in v : s=s+1\n",
    "                    else: \n",
    "                        #print(\"a,b=\",a,b,\"// n=\",n,\"// p(n)=\",r,\"not prime\")\n",
    "                        break\n",
    "                    #print (\"a,b=\",a,b,\"// n=\",n,\"// p(n)=\",r, \"// s=\", s)\n",
    "                if s>=Mabs[2] : Mabs=(a,b,s)\n",
    "                #print(\"-------------------------------\")\n",
    "    Et=time.time() -St\n",
    "    print (Mabs[0]*Mabs[1], \"(a,b,Ms)=\", Mabs, \"found in\",Et, \"s\")"
   ]
  },
  {
   "cell_type": "code",
   "execution_count": 4,
   "metadata": {},
   "outputs": [
    {
     "name": "stdout",
     "output_type": "stream",
     "text": [
      "-59231 (a,b,Ms)= (-61, 971, 62) found in 6.656347274780273 s\n"
     ]
    }
   ],
   "source": [
    "v=primes(1000)\n",
    "for i in range(len(v)): v.append(-1*v[i])\n",
    "euler27(1000,v)"
   ]
  },
  {
   "cell_type": "code",
   "execution_count": null,
   "metadata": {},
   "outputs": [],
   "source": []
  },
  {
   "cell_type": "code",
   "execution_count": null,
   "metadata": {},
   "outputs": [],
   "source": []
  }
 ],
 "metadata": {
  "kernelspec": {
   "display_name": "Python 3",
   "language": "python",
   "name": "python3"
  },
  "language_info": {
   "codemirror_mode": {
    "name": "ipython",
    "version": 3
   },
   "file_extension": ".py",
   "mimetype": "text/x-python",
   "name": "python",
   "nbconvert_exporter": "python",
   "pygments_lexer": "ipython3",
   "version": "3.7.0"
  }
 },
 "nbformat": 4,
 "nbformat_minor": 2
}
