{
 "cells": [
  {
   "cell_type": "code",
   "execution_count": 4,
   "metadata": {},
   "outputs": [],
   "source": [
    "from numpy import sign\n",
    "from time import time"
   ]
  },
  {
   "cell_type": "code",
   "execution_count": 9,
   "metadata": {
    "scrolled": true
   },
   "outputs": [
    {
     "name": "stdout",
     "output_type": "stream",
     "text": [
      "k = 1 | sol = 2\n",
      "k = 2 | sol = 3\n",
      "k = 3 | sol = 5\n",
      "k = 4 | sol = 8\n",
      "k = 5 | sol = 13\n",
      "k = 6 | sol = 21\n",
      "k = 7 | sol = 34\n",
      "k = 8 | sol = 55\n",
      "k = 9 | sol = 89\n",
      "k = 10 | sol = 144\n",
      "k = 11 | sol = 233\n",
      "k = 12 | sol = 377\n",
      "k = 13 | sol = 610\n",
      "k = 14 | sol = 987\n"
     ]
    }
   ],
   "source": [
    "k = 21\n",
    "\n",
    "for k in range(1, 15):\n",
    "    \n",
    "    count = 0\n",
    "    for n in range(1,2**k+1):\n",
    "        count += 1-sign(n^(2*n)^(3*n))\n",
    "    \n",
    "    print(\"k =\", k, \"| sol =\", count)"
   ]
  },
  {
   "cell_type": "code",
   "execution_count": 10,
   "metadata": {},
   "outputs": [
    {
     "name": "stdout",
     "output_type": "stream",
     "text": [
      "2178309\n"
     ]
    }
   ],
   "source": [
    "f1 = 1\n",
    "f2 = 1\n",
    "\n",
    "for i in range (30):\n",
    "    aux = f2\n",
    "    f2 = f1+f2\n",
    "    f1 = aux\n",
    "print(f2)"
   ]
  },
  {
   "cell_type": "code",
   "execution_count": 43,
   "metadata": {},
   "outputs": [
    {
     "name": "stdout",
     "output_type": "stream",
     "text": [
      "1 0\n",
      "-----\n",
      "2 0\n",
      "-----\n",
      "3 12\n",
      "4 0\n",
      "-----\n",
      "5 0\n",
      "6 24\n",
      "7 28\n",
      "8 0\n",
      "-----\n",
      "9 0\n",
      "10 0\n",
      "11 60\n",
      "12 48\n",
      "13 48\n",
      "14 56\n",
      "15 60\n",
      "16 0\n",
      "-----\n",
      "17 0\n",
      "18 0\n",
      "19 12\n",
      "20 0\n",
      "21 0\n",
      "22 120\n",
      "23 124\n",
      "24 96\n",
      "25 96\n",
      "26 96\n",
      "27 124\n",
      "28 112\n",
      "29 112\n",
      "30 120\n",
      "31 124\n",
      "32 0\n",
      "-----\n",
      "33 0\n",
      "34 0\n",
      "35 12\n",
      "36 0\n",
      "37 0\n",
      "38 24\n",
      "39 28\n",
      "40 0\n",
      "41 0\n",
      "42 0\n",
      "43 252\n",
      "44 240\n",
      "45 240\n",
      "46 248\n",
      "47 252\n",
      "48 192\n",
      "49 192\n",
      "50 192\n",
      "51 204\n",
      "52 192\n",
      "53 192\n",
      "54 248\n",
      "55 252\n",
      "56 224\n",
      "57 224\n",
      "58 224\n",
      "59 252\n",
      "60 240\n",
      "61 240\n",
      "62 248\n",
      "63 252\n",
      "64 0\n"
     ]
    }
   ],
   "source": [
    "print (1, 1^2^3)\n",
    "for k in range(1, 7):\n",
    "    print(\"-----\")\n",
    "    for n in range(2**(k-1)+1, 2**k+1):\n",
    "        print (n, n^(2*n)^(n*3))"
   ]
  },
  {
   "cell_type": "code",
   "execution_count": null,
   "metadata": {},
   "outputs": [],
   "source": []
  }
 ],
 "metadata": {
  "kernelspec": {
   "display_name": "Python 3",
   "language": "python",
   "name": "python3"
  },
  "language_info": {
   "codemirror_mode": {
    "name": "ipython",
    "version": 3
   },
   "file_extension": ".py",
   "mimetype": "text/x-python",
   "name": "python",
   "nbconvert_exporter": "python",
   "pygments_lexer": "ipython3",
   "version": "3.7.1"
  }
 },
 "nbformat": 4,
 "nbformat_minor": 2
}
