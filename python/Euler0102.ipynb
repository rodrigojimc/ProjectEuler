{
 "cells": [
  {
   "cell_type": "code",
   "execution_count": 3,
   "metadata": {},
   "outputs": [],
   "source": [
    "from numpy import sign"
   ]
  },
  {
   "cell_type": "code",
   "execution_count": 17,
   "metadata": {},
   "outputs": [],
   "source": [
    "def coef (v1, v2):\n",
    "    x1, y1 = v1\n",
    "    x2, y2 = v2\n",
    "    \n",
    "    A, B, C = y1-y2, x2-x1, x1*y2-x2*y1\n",
    "    return (A, B, C)\n",
    "\n",
    "def originSide (v, coef):\n",
    "    x, y = v\n",
    "    A, B, C = coef\n",
    "    return sign(A*x+B*y+C) == sign(C)\n",
    "\n",
    "def containsOrigin(v1, v2, v3):\n",
    "    c12 = coef(v1, v2)\n",
    "    c23 = coef(v2, v3)\n",
    "    c31 = coef(v3, v1)\n",
    "    \n",
    "    o1 = originSide(v1,c23)\n",
    "    o2 = originSide(v2,c31)\n",
    "    o3 = originSide(v3,c12)\n",
    "    \n",
    "    return all([o1,o2,o3])"
   ]
  },
  {
   "cell_type": "code",
   "execution_count": 45,
   "metadata": {},
   "outputs": [
    {
     "name": "stdout",
     "output_type": "stream",
     "text": [
      "228\n"
     ]
    }
   ],
   "source": [
    "file = open(\"text/Euler0102.txt\", \"r\")\n",
    "points = [[int(n) for n in row.split(\",\")] for row in file.read().split(\"\\n\")[:-1]]\n",
    "file.close()\n",
    "\n",
    "counter = 0\n",
    "for v in points:\n",
    "    v1, v2, v3 = v[:2], v[2:4], v[4:6]\n",
    "    \n",
    "    counter += containsOrigin(v1, v2, v3)\n",
    "    \n",
    "print (counter)"
   ]
  },
  {
   "cell_type": "code",
   "execution_count": null,
   "metadata": {},
   "outputs": [],
   "source": []
  }
 ],
 "metadata": {
  "kernelspec": {
   "display_name": "Python 3",
   "language": "python",
   "name": "python3"
  },
  "language_info": {
   "codemirror_mode": {
    "name": "ipython",
    "version": 3
   },
   "file_extension": ".py",
   "mimetype": "text/x-python",
   "name": "python",
   "nbconvert_exporter": "python",
   "pygments_lexer": "ipython3",
   "version": "3.7.1"
  }
 },
 "nbformat": 4,
 "nbformat_minor": 2
}
