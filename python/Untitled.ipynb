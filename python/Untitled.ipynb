{
 "cells": [
  {
   "cell_type": "code",
   "execution_count": 2,
   "metadata": {},
   "outputs": [],
   "source": [
    "from time import time"
   ]
  },
  {
   "cell_type": "code",
   "execution_count": 3,
   "metadata": {},
   "outputs": [],
   "source": [
    "def factorial (n):\n",
    "    return 1 if n < 2 else n*factorial(n-1)\n",
    "\n",
    "def sumDigitFact (n):\n",
    "    return sum([factorial(int(d)) for d in str(n)])\n",
    "\n",
    "# 0! = 1! and digits order is not relevant\n",
    "def key (n):\n",
    "    return int(\"\".join(sorted(str(n))).replace(\"0\",\"1\"))"
   ]
  },
  {
   "cell_type": "code",
   "execution_count": 99,
   "metadata": {},
   "outputs": [],
   "source": [
    "#knownLength[x] = steps needed form x to reach x again\n",
    "knownLength = {1:1,\n",
    "               2:1,\n",
    "               145:1,\n",
    "               169:3, \n",
    "               363601:3, \n",
    "               1454:3, \n",
    "               871:2, \n",
    "               45361:2, \n",
    "               872:2, \n",
    "               45362:2}\n",
    "\n",
    "#knownKey[x] = sumDigitFact(key(x)) = sumDigitFact(x)\n",
    "knownKey = {}"
   ]
  },
  {
   "cell_type": "code",
   "execution_count": 111,
   "metadata": {},
   "outputs": [],
   "source": [
    "def Euler0074(n, l):\n",
    "    longChains = 0\n",
    "    for i in range(3,n):\n",
    "        term = i\n",
    "        chain = []\n",
    "        while True:\n",
    "            if term in knownLength:\n",
    "                length = len(chain) + knownLength[term]\n",
    "                break\n",
    "            elif term in chain:\n",
    "                length = len(chain)\n",
    "                cycle = chain[chain.index(term):]\n",
    "                ln = len(cycle)\n",
    "                for x in cycle:\n",
    "                    knownLength[x] = ln\n",
    "                break\n",
    "            else:\n",
    "                chain.append(term)\n",
    "                #k = key(term) (to save memory)\n",
    "                k = term\n",
    "                if k in knownKey:\n",
    "                    term = knownKey[k]\n",
    "                else:\n",
    "                    nextTerm = sumDigitFact(term)\n",
    "                    knownKey[k] = nextTerm\n",
    "                    term = nextTerm\n",
    "        #print(\"start:\", i, \"-> length:\", length, \"\\n\", chain, \"\\n\")\n",
    "        if length >= l:\n",
    "            longChains += 1\n",
    "    return longChains\n",
    "    "
   ]
  },
  {
   "cell_type": "code",
   "execution_count": 112,
   "metadata": {},
   "outputs": [],
   "source": [
    "def run(n):\n",
    "    St = time()\n",
    "    solution = Euler0074(10**n,60)\n",
    "    Et = time()-St\n",
    "    print(\"for n =\", n, \"solution =\", solution, \"found in\", Et)"
   ]
  },
  {
   "cell_type": "code",
   "execution_count": null,
   "metadata": {},
   "outputs": [],
   "source": [
    "run(6)"
   ]
  },
  {
   "cell_type": "markdown",
   "metadata": {},
   "source": [
    "for n = 4 solution = 42 found in 0.6093719005584717\n",
    "for n = 5 solution = 42 found in 6.151540040969849\n",
    "for n = 6 solution = 402 found in 64.88639163970947"
   ]
  },
  {
   "cell_type": "code",
   "execution_count": null,
   "metadata": {},
   "outputs": [],
   "source": []
  }
 ],
 "metadata": {
  "kernelspec": {
   "display_name": "Python 3",
   "language": "python",
   "name": "python3"
  },
  "language_info": {
   "codemirror_mode": {
    "name": "ipython",
    "version": 3
   },
   "file_extension": ".py",
   "mimetype": "text/x-python",
   "name": "python",
   "nbconvert_exporter": "python",
   "pygments_lexer": "ipython3",
   "version": "3.7.1"
  }
 },
 "nbformat": 4,
 "nbformat_minor": 2
}
