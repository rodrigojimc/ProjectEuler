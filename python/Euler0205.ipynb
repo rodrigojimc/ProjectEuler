{
 "cells": [
  {
   "cell_type": "code",
   "execution_count": 5,
   "metadata": {},
   "outputs": [],
   "source": [
    "from functools import reduce"
   ]
  },
  {
   "cell_type": "code",
   "execution_count": 1,
   "metadata": {},
   "outputs": [],
   "source": [
    "def int2base (n, x):\n",
    "    if n == 0:\n",
    "        return [0]\n",
    "    else:\n",
    "        digits = []\n",
    "        while n:\n",
    "            digits.append(n%x)\n",
    "            n //= x\n",
    "        return digits\n",
    "            \n",
    "def results (d, n):\n",
    "    r = [0]*(n*d+1)\n",
    "    for num in range (d**n):\n",
    "        toss = int2base(num, d)\n",
    "        result = sum(toss) + n\n",
    "        r[result] += 1\n",
    "    return r"
   ]
  },
  {
   "cell_type": "code",
   "execution_count": 10,
   "metadata": {},
   "outputs": [],
   "source": [
    "d49 = results(4,9)\n",
    "d66 = results(6,6)"
   ]
  },
  {
   "cell_type": "code",
   "execution_count": 32,
   "metadata": {},
   "outputs": [
    {
     "name": "stdout",
     "output_type": "stream",
     "text": [
      "0.5731441\n"
     ]
    }
   ],
   "source": [
    "total = (6**6)*(4**9)\n",
    "\n",
    "win = 0\n",
    "cc = 0\n",
    "for i in range(37):\n",
    "    cc += d66[i]\n",
    "    win += cc*d49[i+1]\n",
    "print(round(win/total,7))"
   ]
  },
  {
   "cell_type": "code",
   "execution_count": null,
   "metadata": {},
   "outputs": [],
   "source": []
  }
 ],
 "metadata": {
  "kernelspec": {
   "display_name": "Python 3",
   "language": "python",
   "name": "python3"
  },
  "language_info": {
   "codemirror_mode": {
    "name": "ipython",
    "version": 3
   },
   "file_extension": ".py",
   "mimetype": "text/x-python",
   "name": "python",
   "nbconvert_exporter": "python",
   "pygments_lexer": "ipython3",
   "version": "3.7.1"
  }
 },
 "nbformat": 4,
 "nbformat_minor": 2
}
