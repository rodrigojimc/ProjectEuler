{
 "cells": [
  {
   "cell_type": "code",
   "execution_count": 1,
   "metadata": {},
   "outputs": [],
   "source": [
    "import time"
   ]
  },
  {
   "cell_type": "code",
   "execution_count": 53,
   "metadata": {},
   "outputs": [
    {
     "name": "stdout",
     "output_type": "stream",
     "text": [
      "[1, 2, 3, 4, 5]\n",
      "[9, 8, 7, 6, 5]\n",
      "0.08655834197998047\n"
     ]
    }
   ],
   "source": [
    "St=time.time()\n",
    "v=[]\n",
    "for a1 in range (1,10) :\n",
    "    for a2 in range (1,10) :\n",
    "        if a2 not in [a1] :\n",
    "            for a3 in range (1,10) :\n",
    "                if a3 not in [a1,a2] :\n",
    "                     for a4 in range (1,10) :\n",
    "                        if a4 not in [a1,a2,a3] :\n",
    "                             for a5 in range (1,10) :\n",
    "                                if a5 not in [a1,a2,a3,a4] :\n",
    "                                    v.append([a1,a2,a3,a4,a5])\n",
    "print(v[0])\n",
    "print(v[len(v)-1])\n",
    "Et=time.time()-St\n",
    "print(Et)"
   ]
  },
  {
   "cell_type": "code",
   "execution_count": 54,
   "metadata": {},
   "outputs": [],
   "source": [
    "R=[]\n",
    "for i in range(len(v)):\n",
    "    n=[]\n",
    "    for j in v[i] :\n",
    "        n.append(j)\n",
    "    r=n[0]*(n[1]*10**3+n[2]*10**2+n[3]*10+n[4])\n",
    "    if 1000<r and r<10000 :\n",
    "        s=str(r)\n",
    "        for d in s:\n",
    "            k=int(d)\n",
    "            if k not in n and k!=0 : \n",
    "                n.append(k)\n",
    "        if len(n)==9 : \n",
    "            if r not in R :\n",
    "                R.append(r)"
   ]
  },
  {
   "cell_type": "code",
   "execution_count": 55,
   "metadata": {},
   "outputs": [],
   "source": [
    "for i in range(len(v)):\n",
    "    n=[]\n",
    "    for j in v[i] :\n",
    "        n.append(j)\n",
    "    r=(n[0]*10+n[1])*(n[2]*10**2+n[3]*10+n[4])\n",
    "    if 1000<r and r<10000 :\n",
    "        s=str(r)\n",
    "        for d in s:\n",
    "            k=int(d)\n",
    "            if k not in n and k!=0 : \n",
    "                n.append(k)\n",
    "        if len(n)==9 : \n",
    "            if r not in R :\n",
    "                R.append(r)"
   ]
  },
  {
   "cell_type": "code",
   "execution_count": 56,
   "metadata": {},
   "outputs": [
    {
     "data": {
      "text/plain": [
       "[6952, 7852, 5796, 5346, 4396, 7254, 7632]"
      ]
     },
     "execution_count": 56,
     "metadata": {},
     "output_type": "execute_result"
    }
   ],
   "source": [
    "R"
   ]
  },
  {
   "cell_type": "code",
   "execution_count": 58,
   "metadata": {},
   "outputs": [
    {
     "data": {
      "text/plain": [
       "45228"
      ]
     },
     "execution_count": 58,
     "metadata": {},
     "output_type": "execute_result"
    }
   ],
   "source": [
    "M=0\n",
    "for k in R :\n",
    "        M=M+k\n",
    "M"
   ]
  },
  {
   "cell_type": "code",
   "execution_count": null,
   "metadata": {},
   "outputs": [],
   "source": []
  }
 ],
 "metadata": {
  "kernelspec": {
   "display_name": "Python 3",
   "language": "python",
   "name": "python3"
  },
  "language_info": {
   "codemirror_mode": {
    "name": "ipython",
    "version": 3
   },
   "file_extension": ".py",
   "mimetype": "text/x-python",
   "name": "python",
   "nbconvert_exporter": "python",
   "pygments_lexer": "ipython3",
   "version": "3.6.7"
  }
 },
 "nbformat": 4,
 "nbformat_minor": 2
}
