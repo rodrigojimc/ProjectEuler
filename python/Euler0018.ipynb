{
 "cells": [
  {
   "cell_type": "code",
   "execution_count": 1,
   "metadata": {},
   "outputs": [],
   "source": [
    "import time"
   ]
  },
  {
   "cell_type": "code",
   "execution_count": 2,
   "metadata": {},
   "outputs": [
    {
     "name": "stdout",
     "output_type": "stream",
     "text": [
      "1074 0.0004992485046386719\n"
     ]
    }
   ],
   "source": [
    "St=time.time()\n",
    "\n",
    "v=[\n",
    "[75],\n",
    "[95, 64],\n",
    "[17, 47, 82],\n",
    "[18, 35, 87, 10],\n",
    "[20, 4,  82, 47, 65],\n",
    "[19, 1,  23, 75, 3,  34],\n",
    "[88, 2,  77, 73, 7,  63, 67],\n",
    "[99, 65, 4,  28, 6,  16, 70, 92],\n",
    "[41, 41, 26, 56, 83, 40, 80, 70, 33],\n",
    "[41, 48, 72, 33, 47, 32, 37, 16, 94, 29],\n",
    "[53, 71, 44, 65, 25, 43, 91, 52, 97, 51, 14],\n",
    "[70, 11, 33, 28, 77, 73, 17, 78, 39, 68, 17, 57],\n",
    "[91, 71, 52, 38, 17, 14, 91, 43, 58, 50, 27, 29, 48],\n",
    "[63, 66, 4,  68, 89, 53, 67, 30, 73, 16, 69, 87, 40, 31],\n",
    "[4,  62, 98, 27, 23, 9,  70, 98, 73, 93, 38, 53, 60, 4,  23]\n",
    "]\n",
    "\n",
    "for i in range (15):\n",
    "    j=15-i-2\n",
    "    for k in range (j+1) :\n",
    "        v[j][k]=v[j][k]+max(v[j+1][k],v[j+1][k+1])\n",
    "        \n",
    "Et=time.time()-St        \n",
    "print(v[0][0], Et)"
   ]
  },
  {
   "cell_type": "code",
   "execution_count": null,
   "metadata": {},
   "outputs": [],
   "source": []
  }
 ],
 "metadata": {
  "kernelspec": {
   "display_name": "Python 3",
   "language": "python",
   "name": "python3"
  },
  "language_info": {
   "codemirror_mode": {
    "name": "ipython",
    "version": 3
   },
   "file_extension": ".py",
   "mimetype": "text/x-python",
   "name": "python",
   "nbconvert_exporter": "python",
   "pygments_lexer": "ipython3",
   "version": "3.7.0"
  }
 },
 "nbformat": 4,
 "nbformat_minor": 2
}
