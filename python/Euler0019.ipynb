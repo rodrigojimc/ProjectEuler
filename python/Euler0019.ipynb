{
 "cells": [
  {
   "cell_type": "code",
   "execution_count": 2,
   "metadata": {},
   "outputs": [],
   "source": [
    "import numpy as np "
   ]
  },
  {
   "cell_type": "code",
   "execution_count": 3,
   "metadata": {},
   "outputs": [],
   "source": [
    "v=np.array([[2,3,4,5]])\n",
    "for i in range (24) :\n",
    "    v=np.append(v,[(v[i]-2)%7], axis=0)\n",
    "w=[]\n",
    "for i in v :\n",
    "    w=np.append(w,i)  "
   ]
  },
  {
   "cell_type": "code",
   "execution_count": 7,
   "metadata": {},
   "outputs": [
    {
     "data": {
      "text/plain": [
       "array([2., 3., 4., 5., 0., 1., 2., 3., 5., 6., 0., 1., 3., 4., 5., 6., 1.,\n",
       "       2., 3., 4., 6., 0., 1., 2., 4., 5., 6., 0., 2., 3., 4., 5., 0., 1.,\n",
       "       2., 3., 5., 6., 0., 1., 3., 4., 5., 6., 1., 2., 3., 4., 6., 0., 1.,\n",
       "       2., 4., 5., 6., 0., 2., 3., 4., 5., 0., 1., 2., 3., 5., 6., 0., 1.,\n",
       "       3., 4., 5., 6., 1., 2., 3., 4., 6., 0., 1., 2., 4., 5., 6., 0., 2.,\n",
       "       3., 4., 5., 0., 1., 2., 3., 5., 6., 0., 1., 3., 4., 5., 6.])"
      ]
     },
     "execution_count": 7,
     "metadata": {},
     "output_type": "execute_result"
    }
   ],
   "source": [
    "w"
   ]
  },
  {
   "cell_type": "code",
   "execution_count": 45,
   "metadata": {},
   "outputs": [
    {
     "data": {
      "text/plain": [
       "171"
      ]
     },
     "execution_count": 45,
     "metadata": {},
     "output_type": "execute_result"
    }
   ],
   "source": [
    "c=0\n",
    "for i in range(len(w)) :\n",
    "    f=0\n",
    "    if (i+1)%4==0: f=1\n",
    "    s=[3,f,3,2,3,2,3,3,2,3,2,3]\n",
    "    d=w[i]\n",
    "    for j in range(len(s)) :\n",
    "        d=(d+s[j])%7\n",
    "        if d==0 : c=c+1\n",
    "c"
   ]
  },
  {
   "cell_type": "code",
   "execution_count": null,
   "metadata": {},
   "outputs": [],
   "source": []
  },
  {
   "cell_type": "code",
   "execution_count": null,
   "metadata": {},
   "outputs": [],
   "source": []
  }
 ],
 "metadata": {
  "kernelspec": {
   "display_name": "Python 3",
   "language": "python",
   "name": "python3"
  },
  "language_info": {
   "codemirror_mode": {
    "name": "ipython",
    "version": 3
   },
   "file_extension": ".py",
   "mimetype": "text/x-python",
   "name": "python",
   "nbconvert_exporter": "python",
   "pygments_lexer": "ipython3",
   "version": "3.6.6"
  }
 },
 "nbformat": 4,
 "nbformat_minor": 2
}
