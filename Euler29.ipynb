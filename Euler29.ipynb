{
 "cells": [
  {
   "cell_type": "code",
   "execution_count": 1,
   "metadata": {},
   "outputs": [],
   "source": [
    "import numpy as np\n",
    "import scipy as sp\n",
    "import math\n",
    "import time"
   ]
  },
  {
   "cell_type": "code",
   "execution_count": 62,
   "metadata": {},
   "outputs": [],
   "source": [
    "def Euler29 (M):\n",
    "    St=time.time()\n",
    "    s=0 #cantidad de número en la lista\n",
    "    p=[] #potencias a omitir\n",
    "    for k in range (2,M+1):\n",
    "        if k not in p : #no potencia de algún número anterior\n",
    "            l=math.floor(math.log(M,k)) #exponente máximo\n",
    "            v=[] \n",
    "            for n in range (1,l+1) : #todas las potencias con base k\n",
    "                a=k**n\n",
    "                for b in range (2,M+1) :\n",
    "                    c=a**b\n",
    "                    if c not in v : v.append(c)\n",
    "                    if c < M+1 : p.append(c)\n",
    "            s=s+len(v)\n",
    "            #print(k,len(v))\n",
    "    Et=time.time()-St\n",
    "    print (s, \"found in\",Et)"
   ]
  },
  {
   "cell_type": "code",
   "execution_count": 63,
   "metadata": {},
   "outputs": [
    {
     "name": "stdout",
     "output_type": "stream",
     "text": [
      "9183 found in 0.022458791732788086\n"
     ]
    }
   ],
   "source": [
    "Euler29(100)"
   ]
  },
  {
   "cell_type": "code",
   "execution_count": null,
   "metadata": {},
   "outputs": [],
   "source": []
  }
 ],
 "metadata": {
  "kernelspec": {
   "display_name": "Python 3",
   "language": "python",
   "name": "python3"
  },
  "language_info": {
   "codemirror_mode": {
    "name": "ipython",
    "version": 3
   },
   "file_extension": ".py",
   "mimetype": "text/x-python",
   "name": "python",
   "nbconvert_exporter": "python",
   "pygments_lexer": "ipython3",
   "version": "3.7.0"
  }
 },
 "nbformat": 4,
 "nbformat_minor": 2
}
