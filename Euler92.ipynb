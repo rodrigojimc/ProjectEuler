{
 "cells": [
  {
   "cell_type": "code",
   "execution_count": 2,
   "metadata": {},
   "outputs": [],
   "source": [
    "import time"
   ]
  },
  {
   "cell_type": "code",
   "execution_count": 3,
   "metadata": {},
   "outputs": [],
   "source": [
    "def f(n): return (sum([int(d)**2 for d in str(n)]))"
   ]
  },
  {
   "cell_type": "code",
   "execution_count": 9,
   "metadata": {},
   "outputs": [
    {
     "name": "stdout",
     "output_type": "stream",
     "text": [
      "8581146 89.15756750106812\n"
     ]
    }
   ],
   "source": [
    "St = time.time()\n",
    "\n",
    "dict = {}\n",
    "dict[1] = 0\n",
    "dict[89] = 1\n",
    "sol = 0\n",
    "for n in range(1,10**7):\n",
    "    aux = []\n",
    "    cycle = False\n",
    "    x = n\n",
    "    while not cycle:\n",
    "        if x in dict: \n",
    "            sol += dict[x]\n",
    "            cycle = True\n",
    "        else: \n",
    "            aux.append(x)\n",
    "            x = f(x)\n",
    "    for i in aux:\n",
    "        dict[i] = dict[x] \n",
    "        \n",
    "Et = time.time()-St\n",
    "print(sol,Et)"
   ]
  },
  {
   "cell_type": "code",
   "execution_count": null,
   "metadata": {},
   "outputs": [],
   "source": []
  }
 ],
 "metadata": {
  "kernelspec": {
   "display_name": "Python 3",
   "language": "python",
   "name": "python3"
  },
  "language_info": {
   "codemirror_mode": {
    "name": "ipython",
    "version": 3
   },
   "file_extension": ".py",
   "mimetype": "text/x-python",
   "name": "python",
   "nbconvert_exporter": "python",
   "pygments_lexer": "ipython3",
   "version": "3.7.1"
  }
 },
 "nbformat": 4,
 "nbformat_minor": 2
}
