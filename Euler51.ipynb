{
 "cells": [
  {
   "cell_type": "code",
   "execution_count": 1,
   "metadata": {},
   "outputs": [],
   "source": [
    "import time\n",
    "import sympy as sym\n",
    "from sys import exit"
   ]
  },
  {
   "cell_type": "code",
   "execution_count": 2,
   "metadata": {},
   "outputs": [],
   "source": [
    "p_range = list(sym.sieve.primerange(56003,1000000))"
   ]
  },
  {
   "cell_type": "code",
   "execution_count": 3,
   "metadata": {},
   "outputs": [
    {
     "name": "stdout",
     "output_type": "stream",
     "text": [
      "[121313, 222323, 323333, 424343, 525353, 626363, 828383, 929393] 31.057715892791748\n"
     ]
    },
    {
     "ename": "SystemExit",
     "evalue": "0",
     "output_type": "error",
     "traceback": [
      "An exception has occurred, use %tb to see the full traceback.\n",
      "\u001b[1;31mSystemExit\u001b[0m\u001b[1;31m:\u001b[0m 0\n"
     ]
    },
    {
     "name": "stderr",
     "output_type": "stream",
     "text": [
      "C:\\ProgramData\\Anaconda3\\lib\\site-packages\\IPython\\core\\interactiveshell.py:2969: UserWarning: To exit: use 'exit', 'quit', or Ctrl-D.\n",
      "  warn(\"To exit: use 'exit', 'quit', or Ctrl-D.\", stacklevel=1)\n"
     ]
    }
   ],
   "source": [
    "St=time.time()\n",
    "\n",
    "for p in p_range:\n",
    "\n",
    "    digits = [int(d) for d in str(p)]\n",
    "    l = len(digits)\n",
    "    \n",
    "    for i in range (1, 2**l-1):\n",
    "        \n",
    "        family = []\n",
    "        \n",
    "        x=[int(d) for d in str(bin(i)[2:])]\n",
    "        x=[0]*(l - len(x))+x\n",
    "        \n",
    "        for j in range(10):\n",
    "            y=[digits[i] if x[i]==1 else j for i in range(l)]\n",
    "            n=0\n",
    "            for k in range(l):\n",
    "                n+=10**(k)*y[l-k-1]\n",
    "            if n>=10**(l-1):\n",
    "                if sym.isprime(n):\n",
    "                    family.append(n)\n",
    "        if len (family) == 8 :\n",
    "            print(family,time.time()-St)\n",
    "            exit(0)"
   ]
  },
  {
   "cell_type": "code",
   "execution_count": null,
   "metadata": {},
   "outputs": [],
   "source": []
  }
 ],
 "metadata": {
  "kernelspec": {
   "display_name": "Python 3",
   "language": "python",
   "name": "python3"
  },
  "language_info": {
   "codemirror_mode": {
    "name": "ipython",
    "version": 3
   },
   "file_extension": ".py",
   "mimetype": "text/x-python",
   "name": "python",
   "nbconvert_exporter": "python",
   "pygments_lexer": "ipython3",
   "version": "3.7.0"
  }
 },
 "nbformat": 4,
 "nbformat_minor": 2
}
