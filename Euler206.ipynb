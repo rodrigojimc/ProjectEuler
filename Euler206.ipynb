{
 "cells": [
  {
   "cell_type": "code",
   "execution_count": 249,
   "metadata": {},
   "outputs": [],
   "source": [
    "import math\n",
    "import time"
   ]
  },
  {
   "cell_type": "code",
   "execution_count": 250,
   "metadata": {},
   "outputs": [
    {
     "name": "stdout",
     "output_type": "stream",
     "text": [
      "sol: 1929374254627488900 n: 1389019170 347.29260635375977\n"
     ]
    }
   ],
   "source": [
    "St = time.time()\n",
    "\n",
    "ub = math.floor(math.sqrt(1929394959697989990))+1\n",
    "lb = math.floor(math.sqrt(1020304050607080900))\n",
    "for n in range(lb, ub, 10):\n",
    "    sol = n**2\n",
    "    d_sol = [int(d) for d in str(sol)]\n",
    "    if d_sol[0] == 1 and d_sol[2]==2 and d_sol[4]==3 and d_sol[6]==4 and d_sol[8]==5 and d_sol[10]==6 and d_sol[12]==7 and d_sol[14]==8 and d_sol[16]==9:\n",
    "        Et = time.time()-St\n",
    "        print(\"sol:\", sol, \"n:\", n, Et)\n",
    "        break"
   ]
  },
  {
   "cell_type": "markdown",
   "metadata": {},
   "source": [
    "Too much!"
   ]
  },
  {
   "cell_type": "code",
   "execution_count": 271,
   "metadata": {},
   "outputs": [],
   "source": [
    "def dig(n,p=1,d=1): return int((n-(n%(10**(p-1))))/(10**(p-1))%(10**(d)))"
   ]
  },
  {
   "cell_type": "code",
   "execution_count": 272,
   "metadata": {},
   "outputs": [
    {
     "data": {
      "text/plain": [
       "678"
      ]
     },
     "execution_count": 272,
     "metadata": {},
     "output_type": "execute_result"
    }
   ],
   "source": [
    "dig(123456789,2,3)"
   ]
  },
  {
   "cell_type": "code",
   "execution_count": 287,
   "metadata": {},
   "outputs": [
    {
     "name": "stdout",
     "output_type": "stream",
     "text": [
      "0 [0]\n"
     ]
    }
   ],
   "source": [
    "v=[[],[],[],[],[],[],[],[],[],[]]\n",
    "for i in range(10):\n",
    "    x = i\n",
    "    if dig(x**2, 1) == 0: \n",
    "        #print (i, x, x**2)\n",
    "        if dig(i) not in v[0]:\n",
    "            v[0].append(dig(i))\n",
    "if v[0]==[]: print(\"Not found\")\n",
    "else: print(0, v[0])"
   ]
  },
  {
   "cell_type": "code",
   "execution_count": 288,
   "metadata": {},
   "outputs": [
    {
     "name": "stdout",
     "output_type": "stream",
     "text": [
      "1 [3, 7]\n"
     ]
    }
   ],
   "source": [
    "for i in range(100):\n",
    "    x = i*10**1+(0)\n",
    "    if dig(x**2, 3) == 9:\n",
    "        #print (i, x, x**2)\n",
    "        if dig(i) not in v[1]:\n",
    "            v[1].append(dig(i))\n",
    "if v[1]==[]: print(\"Not found\")\n",
    "else: print(1, v[1])"
   ]
  },
  {
   "cell_type": "code",
   "execution_count": 289,
   "metadata": {},
   "outputs": [
    {
     "name": "stdout",
     "output_type": "stream",
     "text": [
      "4 430 184900\n",
      "5 530 280900\n",
      "8 830 688900\n",
      "29 2930 8584900\n",
      "30 3030 9180900\n",
      "33 3330 11088900\n",
      "54 5430 29484900\n",
      "55 5530 30580900\n",
      "58 5830 33988900\n",
      "79 7930 62884900\n",
      "80 8030 64480900\n",
      "83 8330 69388900\n",
      "2 [4, 5, 8, 9, 0, 3]\n"
     ]
    }
   ],
   "source": [
    "for i in range(100):\n",
    "    x = i*10**2+(30)\n",
    "    if dig(x**2, 3) == 9:\n",
    "        if dig(x**2, 5) == 8:\n",
    "            print (i, x, x**2)\n",
    "            if dig(i) not in v[2]:\n",
    "                v[2].append(dig(i))\n",
    "if v[2]==[]: print(\"Not found\")\n",
    "else: print(2, v[2])"
   ]
  },
  {
   "cell_type": "code",
   "execution_count": 290,
   "metadata": {},
   "outputs": [
    {
     "name": "stdout",
     "output_type": "stream",
     "text": [
      "20 20430 417384900\n",
      "90 90430 8177584900\n",
      "3 [0]\n"
     ]
    }
   ],
   "source": [
    "for i in range(100):\n",
    "    x = i*10**3+(430)\n",
    "    if dig(x**2, 5) == 8:\n",
    "        if dig(x**2, 7) == 7:\n",
    "            print (i, x, x**2)\n",
    "            if dig(i) not in v[3]:\n",
    "                v[3].append(dig(i))\n",
    "if v[3]==[]: print(\"Not found\")\n",
    "else: print(3, v[3])"
   ]
  },
  {
   "cell_type": "code",
   "execution_count": 291,
   "metadata": {},
   "outputs": [
    {
     "name": "stdout",
     "output_type": "stream",
     "text": [
      "59 590430 348607584900\n",
      "4 [9]\n"
     ]
    }
   ],
   "source": [
    "for i in range(100):\n",
    "    x = i*10**4+(430)\n",
    "    if dig(x**2, 7) == 7:\n",
    "        if dig(x**2, 9) == 6:\n",
    "            print (i, x, x**2)\n",
    "            if dig(i) not in v[4]:\n",
    "                v[4].append(dig(i))\n",
    "if v[4]==[]: print(\"Not found\")\n",
    "else: print(4, v[4])"
   ]
  },
  {
   "cell_type": "code",
   "execution_count": 292,
   "metadata": {},
   "outputs": [
    {
     "name": "stdout",
     "output_type": "stream",
     "text": [
      "Not found\n"
     ]
    }
   ],
   "source": [
    "for i in range(100):\n",
    "    x = i*10**5+(90430)\n",
    "    if dig(x**2, 9) == 6:\n",
    "        if dig(x**2, 11) == 5:\n",
    "            print (i, x, x**2)\n",
    "            if dig(i) not in v[5]:\n",
    "                v[5].append(dig(i))\n",
    "if v[5]==[]: print(\"Not found\")\n",
    "else: print(5, v[5])"
   ]
  },
  {
   "cell_type": "code",
   "execution_count": 20,
   "metadata": {},
   "outputs": [
    {
     "name": "stdout",
     "output_type": "stream",
     "text": [
      "2 [4, 5, 8, 9, 0, 3]\n",
      "3 [0]\n",
      "4 [9]\n",
      "Not found\n"
     ]
    }
   ],
   "source": [
    "v=[[0],[3,7],[],[],[],[],[],[],[],[]]\n",
    "s = 0\n",
    "for j in range(2,6):\n",
    "    s = s + v[j-1][0]*10**(j-1)\n",
    "    for i in range(100):\n",
    "        x = i*10**j + s\n",
    "        if dig(x**2, 2*j-1) == 10-j+1: \n",
    "            if dig(x**2, 2*j+1) == 10-j: \n",
    "                if dig(i) not in v[j]:\n",
    "                    v[j].append(dig(i))\n",
    "    if v[j]==[]: print(\"Not found\")\n",
    "    else: print(j, v[j])"
   ]
  },
  {
   "cell_type": "code",
   "execution_count": null,
   "metadata": {},
   "outputs": [],
   "source": []
  }
 ],
 "metadata": {
  "kernelspec": {
   "display_name": "Python 3",
   "language": "python",
   "name": "python3"
  },
  "language_info": {
   "codemirror_mode": {
    "name": "ipython",
    "version": 3
   },
   "file_extension": ".py",
   "mimetype": "text/x-python",
   "name": "python",
   "nbconvert_exporter": "python",
   "pygments_lexer": "ipython3",
   "version": "3.7.1"
  }
 },
 "nbformat": 4,
 "nbformat_minor": 2
}
