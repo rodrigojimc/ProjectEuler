{
 "cells": [
  {
   "cell_type": "code",
   "execution_count": 463,
   "metadata": {},
   "outputs": [],
   "source": [
    "import time\n",
    "def mult (n) :\n",
    "    l=len(n)\n",
    "    r=[0]*l\n",
    "    s=0\n",
    "    sum=0\n",
    "    for i in range(l) :\n",
    "        p=n[i]*2+s\n",
    "        res=p%10\n",
    "        r[i]=res\n",
    "        sum=sum+res\n",
    "        if p>9 : s=1\n",
    "        else : s=0\n",
    "    if s==1 : \n",
    "        r.append(1)\n",
    "        sum=sum+1\n",
    "    return ([r,sum])"
   ]
  },
  {
   "cell_type": "code",
   "execution_count": 482,
   "metadata": {},
   "outputs": [
    {
     "name": "stdout",
     "output_type": "stream",
     "text": [
      "1366 0.04997062683105469\n"
     ]
    }
   ],
   "source": [
    "start = time.time()\n",
    "n=[[1],1]\n",
    "for i in range (1000) :\n",
    "    r=mult(n[0])\n",
    "    n=r\n",
    "elapsed = (time.time() - start)\n",
    "print (r[1], elapsed)    "
   ]
  },
  {
   "cell_type": "code",
   "execution_count": 483,
   "metadata": {},
   "outputs": [
    {
     "name": "stdout",
     "output_type": "stream",
     "text": [
      "1366 0.0009999275207519531\n"
     ]
    }
   ],
   "source": [
    "start = time.time()\n",
    "s=0\n",
    "for d in str(2**1000):\n",
    "    s+=int(d)\n",
    "elapsed = (time.time() - start)\n",
    "print (s,elapsed)"
   ]
  },
  {
   "cell_type": "code",
   "execution_count": null,
   "metadata": {},
   "outputs": [],
   "source": []
  },
  {
   "cell_type": "code",
   "execution_count": null,
   "metadata": {},
   "outputs": [],
   "source": []
  },
  {
   "cell_type": "code",
   "execution_count": null,
   "metadata": {},
   "outputs": [],
   "source": []
  }
 ],
 "metadata": {
  "kernelspec": {
   "display_name": "Python 3",
   "language": "python",
   "name": "python3"
  },
  "language_info": {
   "codemirror_mode": {
    "name": "ipython",
    "version": 3
   },
   "file_extension": ".py",
   "mimetype": "text/x-python",
   "name": "python",
   "nbconvert_exporter": "python",
   "pygments_lexer": "ipython3",
   "version": "3.7.0"
  }
 },
 "nbformat": 4,
 "nbformat_minor": 2
}
