{
 "cells": [
  {
   "cell_type": "code",
   "execution_count": 2,
   "metadata": {},
   "outputs": [],
   "source": [
    "import math\n",
    "import time"
   ]
  },
  {
   "cell_type": "code",
   "execution_count": 5,
   "metadata": {},
   "outputs": [],
   "source": [
    "def period(n):\n",
    "    \n",
    "    sn = math.floor(math.sqrt(n))\n",
    "    \n",
    "    a = [sn]\n",
    "    b = [1]\n",
    "    c = [a[0]]\n",
    "\n",
    "    i = 0\n",
    "    while True:\n",
    "        # a stores coeficients\n",
    "        # step a + (sqrt(n)-c)/b\n",
    "        \n",
    "        b.append((n-c[i]**2)/b[i])\n",
    "        a.append(math.floor((sn+c[i])/b[i+1]))\n",
    "        c.append(a[i+1]*b[i+1]-c[i])\n",
    "\n",
    "        # if step repeated -> end\n",
    "        if(b[i+1] == 1 and c[0]==sn): break\n",
    "    \n",
    "        i += 1\n",
    "    \n",
    "    return (len(a)-1)"
   ]
  },
  {
   "cell_type": "code",
   "execution_count": 10,
   "metadata": {},
   "outputs": [
    {
     "name": "stdout",
     "output_type": "stream",
     "text": [
      "Solution:  1322 Elapsed time:  0.40726280212402344\n"
     ]
    }
   ],
   "source": [
    "sol = 0\n",
    "St=time.time()\n",
    "for n in range(1,10001):\n",
    "    \n",
    "    x = math.sqrt(n)\n",
    "    if x%1 !=0: \n",
    "        if period(n)%2 == 1 : sol += 1\n",
    "           \n",
    "Et = time.time()-St\n",
    "print(\"Solution: \", sol, \"Elapsed time: \", Et)"
   ]
  },
  {
   "cell_type": "code",
   "execution_count": null,
   "metadata": {},
   "outputs": [],
   "source": []
  }
 ],
 "metadata": {
  "kernelspec": {
   "display_name": "Python 3",
   "language": "python",
   "name": "python3"
  },
  "language_info": {
   "codemirror_mode": {
    "name": "ipython",
    "version": 3
   },
   "file_extension": ".py",
   "mimetype": "text/x-python",
   "name": "python",
   "nbconvert_exporter": "python",
   "pygments_lexer": "ipython3",
   "version": "3.7.0"
  }
 },
 "nbformat": 4,
 "nbformat_minor": 2
}
