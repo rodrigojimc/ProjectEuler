{
 "cells": [
  {
   "cell_type": "markdown",
   "metadata": {},
   "source": [
    "A permutation is an ordered arrangement of objects. For example, 3124 is one possible permutation of the digits 1, 2, 3 and 4. If all of the permutations are listed numerically or alphabetically, we call it lexicographic order. The lexicographic permutations of 0, 1 and 2 are:\n",
    "\n",
    "012   021   102   120   201   210\n",
    "\n",
    "What is the millionth lexicographic permutation of the digits 0, 1, 2, 3, 4, 5, 6, 7, 8 and 9?"
   ]
  },
  {
   "cell_type": "code",
   "execution_count": 1,
   "metadata": {},
   "outputs": [],
   "source": [
    "import math\n",
    "import time"
   ]
  },
  {
   "cell_type": "code",
   "execution_count": 2,
   "metadata": {},
   "outputs": [],
   "source": [
    "def desc_fact (n):\n",
    "    r=1\n",
    "    v=[]\n",
    "    while r!=0 :\n",
    "        i=0\n",
    "        tx=1\n",
    "        while tx!=0 :\n",
    "            f=math.factorial(i)\n",
    "            tx=math.floor(n/f)\n",
    "            rx=n%f\n",
    "            if tx>0 : (t,r,p)=(tx,rx,i)\n",
    "            i=i+1\n",
    "        v.append([p,t,r]) \n",
    "        #b= factorial base\n",
    "        #t= times fits in last residue\n",
    "        #r= residue\n",
    "        n=r\n",
    "    return v"
   ]
  },
  {
   "cell_type": "code",
   "execution_count": 1,
   "metadata": {},
   "outputs": [],
   "source": [
    "def num_per (v,f) :\n",
    "    #print(v)#\n",
    "    lv=len(v)\n",
    "    s=0\n",
    "    for x in f :\n",
    "        (b,t,r)=x\n",
    "        #print(\"b=\",b,\"t=\",t,\"r=\",r)\n",
    "        aux=[]\n",
    "        l=lv-b-1\n",
    "        for i in range(l):\n",
    "            aux.append(v[i])\n",
    "        if r!=0 : c=v[l+t]\n",
    "        else : c=v[l+t-1]\n",
    "        aux.append(c)\n",
    "        for i in range (l,lv) :\n",
    "            if v[i]!=c : aux.append(v[i])\n",
    "        s=l+1\n",
    "        v=aux\n",
    "        #print(v) #\n",
    "    #print(\"since r=0 flip last digits\")\n",
    "    aux=[]\n",
    "    for i in range (s) :\n",
    "        aux.append(v[i])\n",
    "    for i in range (lv-s) :\n",
    "        aux.append(v[lv-i-1])\n",
    "    v=aux\n",
    "    return(v)"
   ]
  },
  {
   "cell_type": "code",
   "execution_count": 8,
   "metadata": {
    "scrolled": true
   },
   "outputs": [
    {
     "name": "stdout",
     "output_type": "stream",
     "text": [
      "[2, 7, 8, 3, 9, 1, 5, 4, 6, 0] found in 0.0 s\n"
     ]
    }
   ],
   "source": [
    "sT = time.time()\n",
    "v=[0,1,2,3,4,5,6,7,8,9]\n",
    "f=desc_fact(1000000)\n",
    "r=num_per(v,f)\n",
    "eT = time.time() - sT\n",
    "print (r,\"found in\",eT, \"s\")"
   ]
  }
 ],
 "metadata": {
  "kernelspec": {
   "display_name": "Python 3",
   "language": "python",
   "name": "python3"
  },
  "language_info": {
   "codemirror_mode": {
    "name": "ipython",
    "version": 3
   },
   "file_extension": ".py",
   "mimetype": "text/x-python",
   "name": "python",
   "nbconvert_exporter": "python",
   "pygments_lexer": "ipython3",
   "version": "3.7.0"
  }
 },
 "nbformat": 4,
 "nbformat_minor": 2
}
