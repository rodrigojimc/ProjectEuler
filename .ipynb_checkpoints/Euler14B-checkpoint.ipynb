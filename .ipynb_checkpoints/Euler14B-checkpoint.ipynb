{
 "cells": [
  {
   "cell_type": "code",
   "execution_count": 2,
   "metadata": {},
   "outputs": [],
   "source": [
    "import numpy as np\n",
    "import scipy as sp"
   ]
  },
  {
   "cell_type": "code",
   "execution_count": 3,
   "metadata": {},
   "outputs": [],
   "source": [
    "def C (n) :\n",
    "    if n%2==0 : m=n/2\n",
    "    else : m=3*n+1\n",
    "    return int(m)"
   ]
  },
  {
   "cell_type": "code",
   "execution_count": 4,
   "metadata": {},
   "outputs": [],
   "source": [
    "def cycle (n) :\n",
    "    v=[0,1,1]\n",
    "    for i in range(2,n+1) :\n",
    "        if len(v) < i+2 : v.append(0)\n",
    "        j=i\n",
    "        while v[j]==0 :\n",
    "            c=C(j)\n",
    "            while len(v) < c+2 : v.append(0)\n",
    "            v[j]=c\n",
    "            j=c\n",
    "    return v"
   ]
  },
  {
   "cell_type": "code",
   "execution_count": 5,
   "metadata": {},
   "outputs": [],
   "source": [
    "def euler14 (v) :\n",
    "#def euler14 (n) :\n",
    "    #v=cycle(n)\n",
    "    M=0\n",
    "    N=0\n",
    "    for i in range(len(v)) :\n",
    "        if v[i]!=0:\n",
    "            m=2\n",
    "            j=i\n",
    "            while v[j]!=1 :\n",
    "                m=m+1\n",
    "                j=v[j]\n",
    "            if m>M : \n",
    "                N=i\n",
    "                M=m\n",
    "    return(N,M)"
   ]
  },
  {
   "cell_type": "code",
   "execution_count": 6,
   "metadata": {},
   "outputs": [],
   "source": [
    "v=cycle(13)"
   ]
  },
  {
   "cell_type": "code",
   "execution_count": 7,
   "metadata": {},
   "outputs": [
    {
     "data": {
      "text/plain": [
       "(9, 20)"
      ]
     },
     "execution_count": 7,
     "metadata": {},
     "output_type": "execute_result"
    }
   ],
   "source": [
    "euler14(v)"
   ]
  },
  {
   "cell_type": "code",
   "execution_count": null,
   "metadata": {},
   "outputs": [],
   "source": []
  },
  {
   "cell_type": "code",
   "execution_count": null,
   "metadata": {},
   "outputs": [],
   "source": []
  },
  {
   "cell_type": "code",
   "execution_count": null,
   "metadata": {},
   "outputs": [],
   "source": []
  },
  {
   "cell_type": "code",
   "execution_count": null,
   "metadata": {},
   "outputs": [],
   "source": []
  },
  {
   "cell_type": "code",
   "execution_count": null,
   "metadata": {},
   "outputs": [],
   "source": []
  }
 ],
 "metadata": {
  "kernelspec": {
   "display_name": "Python 3",
   "language": "python",
   "name": "python3"
  },
  "language_info": {
   "codemirror_mode": {
    "name": "ipython",
    "version": 3
   },
   "file_extension": ".py",
   "mimetype": "text/x-python",
   "name": "python",
   "nbconvert_exporter": "python",
   "pygments_lexer": "ipython3",
   "version": "3.7.0"
  }
 },
 "nbformat": 4,
 "nbformat_minor": 2
}
