{
 "cells": [
  {
   "cell_type": "code",
   "execution_count": 1,
   "metadata": {},
   "outputs": [],
   "source": [
    "import numpy as np\n",
    "import time\n",
    "import math"
   ]
  },
  {
   "cell_type": "code",
   "execution_count": 2,
   "metadata": {},
   "outputs": [],
   "source": [
    "def p_sieve (n) :\n",
    "    p=[]\n",
    "    v=np.ones(n+1)\n",
    "    v[0]=0\n",
    "    v[1]=0\n",
    "    for i in range (2,len(v)):\n",
    "        if v[i]==1 : \n",
    "            for j in range (2*i, len(v),i) :\n",
    "                v[j]=0\n",
    "    return v"
   ]
  },
  {
   "cell_type": "code",
   "execution_count": 3,
   "metadata": {},
   "outputs": [
    {
     "name": "stdout",
     "output_type": "stream",
     "text": [
      "[0. 0. 1. 1. 0. 1. 0. 1. 0. 0. 0. 1. 0. 1. 0. 0. 0. 1. 0. 1. 0.] found in 0.0\n"
     ]
    }
   ],
   "source": [
    "St=time.time()\n",
    "p=p_sieve(20)\n",
    "Et=time.time()-St\n",
    "print(p, \"found in\", Et)"
   ]
  },
  {
   "cell_type": "code",
   "execution_count": 4,
   "metadata": {},
   "outputs": [],
   "source": [
    "def rot (n) :\n",
    "    d=math.ceil(math.log(n,10))\n",
    "    v=[]\n",
    "    for i in range (0,d):\n",
    "        a=10**(d-i)\n",
    "        b=10**i\n",
    "        r=(n%a)*b+(n-n%(a))/a\n",
    "        v.append(int(r))\n",
    "    return(v)"
   ]
  },
  {
   "cell_type": "code",
   "execution_count": 5,
   "metadata": {},
   "outputs": [
    {
     "name": "stdout",
     "output_type": "stream",
     "text": [
      "[12345, 23451, 34512, 45123, 51234] found in 0.0004987716674804688\n"
     ]
    }
   ],
   "source": [
    "St=time.time()\n",
    "r=rot(12345)\n",
    "Et=time.time()-St\n",
    "print(r, \"found in\", Et)"
   ]
  },
  {
   "cell_type": "code",
   "execution_count": 6,
   "metadata": {},
   "outputs": [],
   "source": [
    "def euler35 (n):\n",
    "    sol=[]\n",
    "    is_prime=p_sieve(n)\n",
    "    for p in range(1,n+1) :\n",
    "        nope=0\n",
    "        if is_prime[p]==1:\n",
    "            rotp=rot(p)\n",
    "            v=[]\n",
    "            for rp in rotp :\n",
    "                if is_prime[rp]==1 : \n",
    "                    if rp not in sol+v:\n",
    "                        v.append(rp)\n",
    "                else :\n",
    "                    nope=1\n",
    "                if p!=rp: is_prime[rp]=0\n",
    "            if nope==0 : \n",
    "                sol=sol+v\n",
    "    return (len(sol), sol)"
   ]
  },
  {
   "cell_type": "code",
   "execution_count": 7,
   "metadata": {},
   "outputs": [
    {
     "name": "stdout",
     "output_type": "stream",
     "text": [
      "13 circular primes below 100 found in 0.0010166168212890625 \n",
      "\n",
      "primes:\n",
      " [2, 3, 5, 7, 11, 13, 31, 17, 71, 37, 73, 79, 97]\n"
     ]
    }
   ],
   "source": [
    "n=100\n",
    "\n",
    "St=time.time()\n",
    "sol=euler35(n)\n",
    "Et=time.time()-St\n",
    "\n",
    "print(sol[0], \"circular primes below\", n, \"found in\", Et,\"\\n\\nprimes:\\n\", sol[1])"
   ]
  },
  {
   "cell_type": "code",
   "execution_count": 8,
   "metadata": {},
   "outputs": [
    {
     "name": "stdout",
     "output_type": "stream",
     "text": [
      "55 circular primes below 1000000 found in 2.099093198776245 :\n",
      "\n",
      "primes:\n",
      " [2, 3, 5, 7, 11, 13, 31, 17, 71, 37, 73, 79, 97, 113, 131, 311, 197, 971, 719, 199, 991, 919, 337, 373, 733, 1193, 1931, 9311, 3119, 3779, 7793, 7937, 9377, 11939, 19391, 93911, 39119, 91193, 19937, 99371, 93719, 37199, 71993, 193939, 939391, 393919, 939193, 391939, 919393, 199933, 999331, 993319, 933199, 331999, 319993]\n"
     ]
    }
   ],
   "source": [
    "n=1000000\n",
    "\n",
    "St=time.time()\n",
    "sol=euler35(n)\n",
    "Et=time.time()-St\n",
    "\n",
    "print(sol[0], \"circular primes below\", n, \"found in\", Et,\":\\n\\nprimes:\\n\", sol[1])"
   ]
  },
  {
   "cell_type": "code",
   "execution_count": null,
   "metadata": {},
   "outputs": [],
   "source": []
  }
 ],
 "metadata": {
  "kernelspec": {
   "display_name": "Python 3",
   "language": "python",
   "name": "python3"
  },
  "language_info": {
   "codemirror_mode": {
    "name": "ipython",
    "version": 3
   },
   "file_extension": ".py",
   "mimetype": "text/x-python",
   "name": "python",
   "nbconvert_exporter": "python",
   "pygments_lexer": "ipython3",
   "version": "3.7.0"
  }
 },
 "nbformat": 4,
 "nbformat_minor": 2
}
