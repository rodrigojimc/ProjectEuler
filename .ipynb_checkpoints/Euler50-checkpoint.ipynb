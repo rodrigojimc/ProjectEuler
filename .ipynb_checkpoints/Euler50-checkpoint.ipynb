{
 "cells": [
  {
   "cell_type": "code",
   "execution_count": 1,
   "metadata": {},
   "outputs": [],
   "source": [
    "import time\n",
    "import sympy as sym"
   ]
  },
  {
   "cell_type": "code",
   "execution_count": 2,
   "metadata": {},
   "outputs": [
    {
     "name": "stdout",
     "output_type": "stream",
     "text": [
      "997651 = 7 +...+ 3943 | n= 543 found in 1.732867956161499 s\n"
     ]
    }
   ],
   "source": [
    "St=time.time()\n",
    "primes=list(sym.sieve.primerange(0,1000000))\n",
    "s=0\n",
    "m=0\n",
    "l=len(primes)\n",
    "for i in range (l):\n",
    "    n=0\n",
    "    s=0\n",
    "    while s<1000000 and i+n<l:\n",
    "        s=s+primes[i+n]\n",
    "        n=n+1\n",
    "        if n>m:\n",
    "            if s in primes:\n",
    "                #print(s,\"= sum(\",primes[i:i+n],\") | n=\", n)\n",
    "                (sol,m,j)=(s,n,i)\n",
    "Et=time.time()-St\n",
    "print(sol,\"=\",primes[j],\"+...+\", primes[j+m],\"| n=\", m, \"found in\", Et, \"s\")"
   ]
  }
 ],
 "metadata": {
  "kernelspec": {
   "display_name": "Python 3",
   "language": "python",
   "name": "python3"
  },
  "language_info": {
   "codemirror_mode": {
    "name": "ipython",
    "version": 3
   },
   "file_extension": ".py",
   "mimetype": "text/x-python",
   "name": "python",
   "nbconvert_exporter": "python",
   "pygments_lexer": "ipython3",
   "version": "3.7.0"
  }
 },
 "nbformat": 4,
 "nbformat_minor": 2
}
