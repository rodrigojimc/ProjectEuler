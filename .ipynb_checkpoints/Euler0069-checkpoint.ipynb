{
 "cells": [
  {
   "cell_type": "code",
   "execution_count": 1,
   "metadata": {},
   "outputs": [],
   "source": [
    "import math\n",
    "import sympy as sym\n",
    "import numpy as np\n",
    "from time import time"
   ]
  },
  {
   "cell_type": "code",
   "execution_count": 8,
   "metadata": {},
   "outputs": [
    {
     "name": "stdout",
     "output_type": "stream",
     "text": [
      "n: 2310 \tval: 4.8125 \tEt: 46.81602430343628\n"
     ]
    }
   ],
   "source": [
    "St = time()\n",
    "\n",
    "n = 10**4\n",
    "nums = np.ones(n+1)\n",
    "dens = np.ones(n+1)\n",
    "\n",
    "p = 0\n",
    "i=1\n",
    "while p < n:\n",
    "    p = sym.prime(i)\n",
    "    l = math.floor(n/p)+1\n",
    "    \n",
    "    for j in range(1, l):\n",
    "        nums[j*p] *= p\n",
    "        dens[j*p] *= p-1\n",
    "        \n",
    "    i += 1\n",
    "\n",
    "k_max = 0\n",
    "val_max = 0\n",
    "for k in range (1, n+1):\n",
    "    val = nums[k]/dens[k]\n",
    "    \n",
    "    if val > val_max:\n",
    "        (k_max, val_max) = (k, val)\n",
    "        \n",
    "Et = time() - St\n",
    "print(\"n:\", k_max, \"\\tval:\", val_max, \"\\tEt:\", Et)"
   ]
  },
  {
   "cell_type": "code",
   "execution_count": 23,
   "metadata": {},
   "outputs": [
    {
     "name": "stdout",
     "output_type": "stream",
     "text": [
      "solution: 510510 \tEt: 0.009975194931030273\n"
     ]
    }
   ],
   "source": [
    "St = time()\n",
    "\n",
    "sol = 1\n",
    "i=1\n",
    "while sol < 10**5:\n",
    "    p = sym.prime(i)\n",
    "    sol *= p\n",
    "    i += 1\n",
    "    \n",
    "Et = time() - St\n",
    "print(\"solution:\", sol, \"\\tEt:\", Et)    "
   ]
  },
  {
   "cell_type": "code",
   "execution_count": null,
   "metadata": {},
   "outputs": [],
   "source": []
  }
 ],
 "metadata": {
  "kernelspec": {
   "display_name": "Python 3",
   "language": "python",
   "name": "python3"
  },
  "language_info": {
   "codemirror_mode": {
    "name": "ipython",
    "version": 3
   },
   "file_extension": ".py",
   "mimetype": "text/x-python",
   "name": "python",
   "nbconvert_exporter": "python",
   "pygments_lexer": "ipython3",
   "version": "3.7.1"
  }
 },
 "nbformat": 4,
 "nbformat_minor": 2
}
