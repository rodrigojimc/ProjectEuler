{
 "cells": [
  {
   "cell_type": "code",
   "execution_count": 1,
   "metadata": {},
   "outputs": [],
   "source": [
    "import math\n",
    "import time"
   ]
  },
  {
   "cell_type": "code",
   "execution_count": 2,
   "metadata": {},
   "outputs": [],
   "source": [
    "St = time.time()"
   ]
  },
  {
   "cell_type": "code",
   "execution_count": 3,
   "metadata": {},
   "outputs": [],
   "source": [
    "d = 1\n",
    "while math.log(2**d,10)<9:d+=1\n",
    "n = 2**d\n",
    "#print(\"exp:\",d)"
   ]
  },
  {
   "cell_type": "code",
   "execution_count": 4,
   "metadata": {},
   "outputs": [],
   "source": [
    "n = 7830457\n",
    "p = math.floor(n/d)\n",
    "r = n-d*p\n",
    "#print(\"p:\", p)\n",
    "#print(\"r:\", r)"
   ]
  },
  {
   "cell_type": "code",
   "execution_count": 5,
   "metadata": {},
   "outputs": [],
   "source": [
    "b = list(reversed([int(d) for d in bin(p)[2:]]))\n",
    "#print(\"bin(p):\", b)"
   ]
  },
  {
   "cell_type": "code",
   "execution_count": 6,
   "metadata": {},
   "outputs": [],
   "source": [
    "res = 1 \n",
    "x = 2**d\n",
    "\n",
    "for i in b:\n",
    "    if i == 1:\n",
    "        res = (res*x)%10**10\n",
    "    x = (x*x)%10**10\n",
    "    \n",
    "res = (res*(2**r))%10**10\n",
    "res = (28433*res+1)%10**10"
   ]
  },
  {
   "cell_type": "code",
   "execution_count": 7,
   "metadata": {},
   "outputs": [],
   "source": [
    "Et = time.time()-St"
   ]
  },
  {
   "cell_type": "code",
   "execution_count": 8,
   "metadata": {},
   "outputs": [
    {
     "name": "stdout",
     "output_type": "stream",
     "text": [
      "Solution: 8739992577 Et: 0.8404116630554199\n"
     ]
    }
   ],
   "source": [
    "print(\"Solution:\", res, \"Et:\", Et)"
   ]
  }
 ],
 "metadata": {
  "kernelspec": {
   "display_name": "Python 3",
   "language": "python",
   "name": "python3"
  },
  "language_info": {
   "codemirror_mode": {
    "name": "ipython",
    "version": 3
   },
   "file_extension": ".py",
   "mimetype": "text/x-python",
   "name": "python",
   "nbconvert_exporter": "python",
   "pygments_lexer": "ipython3",
   "version": "3.7.1"
  }
 },
 "nbformat": 4,
 "nbformat_minor": 2
}
