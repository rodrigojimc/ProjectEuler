{
 "cells": [
  {
   "cell_type": "code",
   "execution_count": 1,
   "metadata": {},
   "outputs": [],
   "source": [
    "import numpy as np\n",
    "import math\n",
    "import time"
   ]
  },
  {
   "cell_type": "code",
   "execution_count": 2,
   "metadata": {},
   "outputs": [],
   "source": [
    "def p_sieve (n, sieve=[]) :\n",
    "    # Build or extend Eratostenes sieve up to n\n",
    "    # sieve[p]=1 means p is prime\n",
    "    # sieve[p]=0 means p is not prime\n",
    "    \n",
    "    # sieve : sieve already known \n",
    "    if sieve==[] : # if no sieve for m<n known, then start from 0\n",
    "        sieve=np.ones(n+1)\n",
    "        sieve[0]=0\n",
    "        sieve[1]=0\n",
    "        sieve=sieve.tolist()\n",
    "        m=0\n",
    "    else : # if sieve up to m<n know, then add ones up to n\n",
    "        m=len(sieve)\n",
    "        ones=np.ones(n+1-m)\n",
    "        sieve=sieve+ones.tolist()\n",
    "        \n",
    "    for p in range (2,len(sieve)) :\n",
    "        if sieve[p]==1 : # if p is prime\n",
    "            if m==0 : # if no sieve for m<n known, then start from 0\n",
    "                k=2 # first multiple of p is k*p=2*p\n",
    "            else :\n",
    "                k=max(2,math.ceil(m/p)) # k*p is first multiple of p grater than m\n",
    "            for j in range (k*p, len(sieve), p) : # for each j multiple of p\n",
    "                sieve[j]=0 # j is no prime\n",
    "    return sieve"
   ]
  },
  {
   "cell_type": "code",
   "execution_count": 3,
   "metadata": {},
   "outputs": [
    {
     "data": {
      "text/plain": [
       "[0.0, 0.0, 1.0, 1.0, 0, 1.0]"
      ]
     },
     "execution_count": 3,
     "metadata": {},
     "output_type": "execute_result"
    }
   ],
   "source": [
    "sieve=p_sieve(5)\n",
    "sieve"
   ]
  },
  {
   "cell_type": "code",
   "execution_count": 4,
   "metadata": {},
   "outputs": [
    {
     "data": {
      "text/plain": [
       "[0.0, 0.0, 1.0, 1.0, 0, 1.0, 0, 1.0, 0, 0, 0]"
      ]
     },
     "execution_count": 4,
     "metadata": {},
     "output_type": "execute_result"
    }
   ],
   "source": [
    "p_sieve(10,sieve)"
   ]
  },
  {
   "cell_type": "code",
   "execution_count": 5,
   "metadata": {},
   "outputs": [],
   "source": [
    "def euler46 (block=100, time_limit=60) :\n",
    "    # block : amount of next numbers where to find new primes\n",
    "    \n",
    "    found=0 # solution found flag\n",
    "    St=time.time() # starting time\n",
    "    Et=0 # elapsed time\n",
    "    p=p_sieve(block) # initial primes\n",
    "    i=1 # blocks in p\n",
    "    dsq=[2] # doubles of squares list\n",
    "    n=9 # odd composite number\n",
    "    \n",
    "    while found==0 and Et < time_limit : # \"while A\"\n",
    "            \n",
    "        while len(p) < n+1 : # while need more primes\n",
    "            i=i+1 # one block more\n",
    "            p=p_sieve(i*block,p) # primes exteds one more block\n",
    "            \n",
    "        while dsq[-1]<n : # while need more doubles of squares\n",
    "            dsq.append(2*(len(dsq)+1)**2) # add more\n",
    "            \n",
    "        if p[n]==0 : # if p is not prime\n",
    "            conj=False # conjeture not satisfied by default\n",
    "            for j in dsq :\n",
    "                if p[n-j]==1 : conj=True # conjeture is satisfied\n",
    "                            \n",
    "        if conj==False : # if conjeture is not satisfied\n",
    "            found=1 # solution is found\n",
    "            break # break \"while A\"\n",
    "            \n",
    "        n=n+2 # next odd number\n",
    "        Et = time.time()-St # actualization of elapsed time\n",
    "        \n",
    "    if Et > time_limit :\n",
    "        print(\"Elapsed time =\", Et, \">\", time_limit, \"= Time limit\")\n",
    "    else : \n",
    "        print(n, \"found in\", Et)"
   ]
  },
  {
   "cell_type": "code",
   "execution_count": 6,
   "metadata": {},
   "outputs": [
    {
     "name": "stdout",
     "output_type": "stream",
     "text": [
      "5777 found in 0.03198122978210449\n"
     ]
    }
   ],
   "source": [
    "euler46(10000)"
   ]
  }
 ],
 "metadata": {
  "kernelspec": {
   "display_name": "Python 3",
   "language": "python",
   "name": "python3"
  },
  "language_info": {
   "codemirror_mode": {
    "name": "ipython",
    "version": 3
   },
   "file_extension": ".py",
   "mimetype": "text/x-python",
   "name": "python",
   "nbconvert_exporter": "python",
   "pygments_lexer": "ipython3",
   "version": "3.7.0"
  }
 },
 "nbformat": 4,
 "nbformat_minor": 2
}
