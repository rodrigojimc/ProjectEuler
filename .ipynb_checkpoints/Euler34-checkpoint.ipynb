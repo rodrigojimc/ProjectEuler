{
 "cells": [
  {
   "cell_type": "code",
   "execution_count": 1,
   "metadata": {},
   "outputs": [],
   "source": [
    "import time\n",
    "import math"
   ]
  },
  {
   "cell_type": "code",
   "execution_count": 3,
   "metadata": {},
   "outputs": [
    {
     "name": "stdout",
     "output_type": "stream",
     "text": [
      "[145, 40585] found in 5.0441060066223145\n"
     ]
    }
   ],
   "source": [
    "St=time.time()\n",
    "sol=[]\n",
    "f=[1]\n",
    "for i in range (1,10) :\n",
    "    k=math.factorial(i)\n",
    "    f.append(k)\n",
    "for i in range (3,1000000) :\n",
    "    v=[]\n",
    "    st=str(i)\n",
    "    for j in st :\n",
    "        d=int(j)\n",
    "        v.append(d)\n",
    "    s=0\n",
    "    for j in v :\n",
    "        s=s+f[j]\n",
    "    #print(i,v,s)\n",
    "    if s==i : sol.append(i)\n",
    "Et=time.time()-St\n",
    "print(sol,\"found in\", Et)"
   ]
  },
  {
   "cell_type": "code",
   "execution_count": null,
   "metadata": {},
   "outputs": [],
   "source": []
  }
 ],
 "metadata": {
  "kernelspec": {
   "display_name": "Python 3",
   "language": "python",
   "name": "python3"
  },
  "language_info": {
   "codemirror_mode": {
    "name": "ipython",
    "version": 3
   },
   "file_extension": ".py",
   "mimetype": "text/x-python",
   "name": "python",
   "nbconvert_exporter": "python",
   "pygments_lexer": "ipython3",
   "version": "3.7.0"
  }
 },
 "nbformat": 4,
 "nbformat_minor": 2
}
