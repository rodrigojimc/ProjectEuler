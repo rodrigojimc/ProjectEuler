{
 "cells": [
  {
   "cell_type": "code",
   "execution_count": 61,
   "metadata": {},
   "outputs": [],
   "source": [
    "import numpy as np\n",
    "import time\n",
    "import math"
   ]
  },
  {
   "cell_type": "code",
   "execution_count": 62,
   "metadata": {},
   "outputs": [],
   "source": [
    "def primes_upto (n) :\n",
    "    p=[]\n",
    "    v=np.ones(n+1)\n",
    "    v[0]=0\n",
    "    v[1]=0\n",
    "    for i in range (2,len(v)):\n",
    "        if v[i]==1 : \n",
    "            p.append(i)\n",
    "            for j in range (2*i, len(v),i) :\n",
    "                v[j]=0\n",
    "    return p"
   ]
  },
  {
   "cell_type": "code",
   "execution_count": 63,
   "metadata": {},
   "outputs": [
    {
     "name": "stdout",
     "output_type": "stream",
     "text": [
      "0.8588995933532715 78498\n"
     ]
    }
   ],
   "source": [
    "St=time.time()\n",
    "p=euler10(1000000)\n",
    "Et=time.time()-St\n",
    "print(Et,len(p))"
   ]
  },
  {
   "cell_type": "code",
   "execution_count": 130,
   "metadata": {},
   "outputs": [],
   "source": [
    "def desc_fact (n):\n",
    "    r=1\n",
    "    v=[]\n",
    "    while r!=0 :\n",
    "        i=0\n",
    "        tx=1\n",
    "        while tx!=0 :\n",
    "            f=math.factorial(i)\n",
    "            tx=math.floor(n/f)\n",
    "            rx=n%f\n",
    "            if tx>0 : (t,r,p)=(tx,rx,i)\n",
    "            i=i+1\n",
    "        v.append([p,t,r]) \n",
    "        #b= factorial base\n",
    "        #t= times fits in last residue\n",
    "        #r= residue\n",
    "        n=r\n",
    "    return v\n",
    "\n",
    "def num_perm (v,n) :\n",
    "    #print(v)#\n",
    "    f=desc_fact(n)\n",
    "    lv=len(v)\n",
    "    s=0\n",
    "    for x in f :\n",
    "        (b,t,r)=x\n",
    "        #print(\"b=\",b,\"t=\",t,\"r=\",r)\n",
    "        aux=[]\n",
    "        l=lv-b-1\n",
    "        aux=v[:l]\n",
    "        if r!=0 : c=v[l+t]\n",
    "        else : c=v[l+t-1]\n",
    "        aux.append(c)\n",
    "        for i in range (l,lv) :\n",
    "            if v[i]!=c : aux.append(v[i])\n",
    "        s=l+1\n",
    "        v=aux[:]\n",
    "        #print(v) #\n",
    "    #print(\"since r=0 flip last digits\")\n",
    "    aux=[]\n",
    "    for i in range (s) :\n",
    "        aux.append(v[i])\n",
    "    for i in range (lv-s) :\n",
    "        aux.append(v[lv-i-1])\n",
    "    v=aux[:]\n",
    "    return v\n",
    "\n",
    "def perm (v) :\n",
    "    p=[]\n",
    "    l=len(v)\n",
    "    f=math.factorial(l)\n",
    "    for i in range (1,f+1) :\n",
    "        r=num_perm (v,i)\n",
    "        p.append(r)\n",
    "    return p"
   ]
  },
  {
   "cell_type": "code",
   "execution_count": 133,
   "metadata": {},
   "outputs": [
    {
     "name": "stdout",
     "output_type": "stream",
     "text": [
      "[[1, 2, 3], [1, 3, 2], [2, 1, 3], [2, 3, 1], [3, 1, 2], [3, 2, 1]] found in 0.0\n"
     ]
    }
   ],
   "source": [
    "St=time.time()\n",
    "v=[1,2,3]\n",
    "p=perm(v)\n",
    "Et=time.time()-St\n",
    "print(p,\"found in\", Et) "
   ]
  },
  {
   "cell_type": "code",
   "execution_count": 143,
   "metadata": {},
   "outputs": [],
   "source": [
    "def vect_to_int (v) :\n",
    "    n=0\n",
    "    l=len(v)\n",
    "    for i in range(l+1) :\n",
    "        n=n+i*10**(l-i)\n",
    "    return n"
   ]
  },
  {
   "cell_type": "code",
   "execution_count": 145,
   "metadata": {},
   "outputs": [
    {
     "name": "stdout",
     "output_type": "stream",
     "text": [
      "123 found in 0.0\n"
     ]
    }
   ],
   "source": [
    "St=time.time()\n",
    "v=[1,2,3]\n",
    "n=vect_to_int(v)\n",
    "Et=time.time()-St\n",
    "print(n,\"found in\", Et) "
   ]
  },
  {
   "cell_type": "code",
   "execution_count": null,
   "metadata": {},
   "outputs": [],
   "source": []
  },
  {
   "cell_type": "code",
   "execution_count": null,
   "metadata": {},
   "outputs": [],
   "source": []
  }
 ],
 "metadata": {
  "kernelspec": {
   "display_name": "Python 3",
   "language": "python",
   "name": "python3"
  },
  "language_info": {
   "codemirror_mode": {
    "name": "ipython",
    "version": 3
   },
   "file_extension": ".py",
   "mimetype": "text/x-python",
   "name": "python",
   "nbconvert_exporter": "python",
   "pygments_lexer": "ipython3",
   "version": "3.7.0"
  }
 },
 "nbformat": 4,
 "nbformat_minor": 2
}
