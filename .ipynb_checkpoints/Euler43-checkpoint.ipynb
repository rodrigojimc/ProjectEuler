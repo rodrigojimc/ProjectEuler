{
 "cells": [
  {
   "cell_type": "code",
   "execution_count": 52,
   "metadata": {},
   "outputs": [],
   "source": [
    "import math\n",
    "import time"
   ]
  },
  {
   "cell_type": "code",
   "execution_count": 53,
   "metadata": {},
   "outputs": [],
   "source": [
    "def desc_fact (n):\n",
    "    r=1\n",
    "    v=[]\n",
    "    while r!=0 :\n",
    "        i=0\n",
    "        tx=1\n",
    "        while tx!=0 :\n",
    "            f=math.factorial(i)\n",
    "            tx=math.floor(n/f)\n",
    "            rx=n%f\n",
    "            if tx>0 : (t,r,p)=(tx,rx,i)\n",
    "            i=i+1\n",
    "        v.append([p,t,r]) \n",
    "        #b= factorial base\n",
    "        #t= times fits in last residue\n",
    "        #r= residue\n",
    "        n=r\n",
    "    return v\n",
    "\n",
    "def num_perm (v,n) :\n",
    "    #print(v)#\n",
    "    f=desc_fact(n)\n",
    "    lv=len(v)\n",
    "    s=0\n",
    "    for x in f :\n",
    "        (b,t,r)=x\n",
    "        #print(\"b=\",b,\"t=\",t,\"r=\",r)\n",
    "        aux=[]\n",
    "        l=lv-b-1\n",
    "        aux=v[:l]\n",
    "        if r!=0 : \n",
    "            pos=l+t\n",
    "            c=v[pos]\n",
    "        else : \n",
    "            pos=l+t-1\n",
    "            c=v[pos]\n",
    "        aux.append(c)\n",
    "        for i in range (l,lv) :\n",
    "            if i!=pos : aux.append(v[i])\n",
    "        s=l+1\n",
    "        v=aux[:]\n",
    "        #print(v) #\n",
    "    #print(\"since r=0 flip last digits\")\n",
    "    aux=v[:s]\n",
    "    for i in range (lv-s) :\n",
    "        aux.append(v[lv-i-1])\n",
    "    v=aux[:]\n",
    "    return v\n",
    "\n",
    "def perm (v) :\n",
    "    p=[]\n",
    "    l=len(v)\n",
    "    f=math.factorial(l)\n",
    "    for i in range (1,f+1) :\n",
    "        r=num_perm (v,i)\n",
    "        p.append(r)\n",
    "    return p"
   ]
  },
  {
   "cell_type": "code",
   "execution_count": 54,
   "metadata": {},
   "outputs": [
    {
     "data": {
      "text/plain": [
       "362880"
      ]
     },
     "execution_count": 54,
     "metadata": {},
     "output_type": "execute_result"
    }
   ],
   "source": [
    "math.factorial(9)"
   ]
  },
  {
   "cell_type": "code",
   "execution_count": 55,
   "metadata": {},
   "outputs": [
    {
     "name": "stdout",
     "output_type": "stream",
     "text": [
      "362880 found in 14.880995273590088\n"
     ]
    }
   ],
   "source": [
    "St=time.time()\n",
    "v=[1,2,3,4,5,6,7,8,9]\n",
    "P=perm(v)\n",
    "Et=time.time()-St\n",
    "print(len(P),\"found in\", Et)"
   ]
  },
  {
   "cell_type": "code",
   "execution_count": 56,
   "metadata": {},
   "outputs": [
    {
     "data": {
      "text/plain": [
       "([1, 2, 3, 4, 5, 6, 7, 8, 9], [9, 8, 7, 6, 5, 4, 3, 2, 1])"
      ]
     },
     "execution_count": 56,
     "metadata": {},
     "output_type": "execute_result"
    }
   ],
   "source": [
    "P[0], P[362879]"
   ]
  },
  {
   "cell_type": "code",
   "execution_count": null,
   "metadata": {},
   "outputs": [],
   "source": []
  },
  {
   "cell_type": "code",
   "execution_count": null,
   "metadata": {},
   "outputs": [],
   "source": []
  }
 ],
 "metadata": {
  "kernelspec": {
   "display_name": "Python 3",
   "language": "python",
   "name": "python3"
  },
  "language_info": {
   "codemirror_mode": {
    "name": "ipython",
    "version": 3
   },
   "file_extension": ".py",
   "mimetype": "text/x-python",
   "name": "python",
   "nbconvert_exporter": "python",
   "pygments_lexer": "ipython3",
   "version": "3.7.0"
  }
 },
 "nbformat": 4,
 "nbformat_minor": 2
}
