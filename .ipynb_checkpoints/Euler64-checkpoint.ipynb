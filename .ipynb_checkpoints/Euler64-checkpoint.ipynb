{
 "cells": [
  {
   "cell_type": "code",
   "execution_count": 2,
   "metadata": {},
   "outputs": [],
   "source": [
    "import math\n",
    "import time"
   ]
  },
  {
   "cell_type": "code",
   "execution_count": 63,
   "metadata": {},
   "outputs": [],
   "source": [
    "def period(x):\n",
    "        \n",
    "    r = [x]\n",
    "    rr =[round(x,3)]\n",
    "    a = [math.floor(x)]\n",
    "\n",
    "    i = 0\n",
    "    while True:\n",
    "        rn = (r[i]+a[i])/(r[i]**2-a[i]**2)\n",
    "    \n",
    "        r.append(rn)\n",
    "        rr.append(round(rn,3))\n",
    "        a.append(math.floor(rn))\n",
    "    \n",
    "         #Condition not working\n",
    "        if rr[i+1] in rr[:i+1] : break\n",
    "        i += 1\n",
    "    \n",
    "    return (len(a)-2)"
   ]
  },
  {
   "cell_type": "code",
   "execution_count": 65,
   "metadata": {},
   "outputs": [
    {
     "name": "stdout",
     "output_type": "stream",
     "text": [
      "Solution:  4 Elapsed time:  0.0004999637603759766\n"
     ]
    }
   ],
   "source": [
    "sol = 0\n",
    "St=time.time()\n",
    "for n in range(0,14):\n",
    "    \n",
    "    x = math.sqrt(n)\n",
    "    if x%1 !=0: \n",
    "        \n",
    "        if period(x)%2 == 1 : sol += 1\n",
    "           \n",
    "Et = time.time()-St\n",
    "print(\"Solution: \", sol, \"Elapsed time: \", Et)"
   ]
  },
  {
   "cell_type": "code",
   "execution_count": null,
   "metadata": {},
   "outputs": [],
   "source": []
  }
 ],
 "metadata": {
  "kernelspec": {
   "display_name": "Python 3",
   "language": "python",
   "name": "python3"
  },
  "language_info": {
   "codemirror_mode": {
    "name": "ipython",
    "version": 3
   },
   "file_extension": ".py",
   "mimetype": "text/x-python",
   "name": "python",
   "nbconvert_exporter": "python",
   "pygments_lexer": "ipython3",
   "version": "3.7.0"
  }
 },
 "nbformat": 4,
 "nbformat_minor": 2
}
