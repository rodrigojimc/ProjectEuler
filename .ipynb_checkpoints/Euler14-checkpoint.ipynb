{
 "cells": [
  {
   "cell_type": "code",
   "execution_count": 1,
   "metadata": {},
   "outputs": [],
   "source": [
    "import numpy as np\n",
    "import scipy as sp"
   ]
  },
  {
   "cell_type": "code",
   "execution_count": 2,
   "metadata": {},
   "outputs": [],
   "source": [
    "def C (n) :\n",
    "    if n%2==0 : return int(n/2)\n",
    "    else : return int(3*n+1)"
   ]
  },
  {
   "cell_type": "code",
   "execution_count": 3,
   "metadata": {},
   "outputs": [],
   "source": [
    "def euler14 (N) :\n",
    "    # N = máximo número inicial \n",
    "    L=[0]*(N) # memoria de longitudes\n",
    "    L[1]=1\n",
    "    M=[1,1] # [solución, longitud]\n",
    "    for n in range (2,N) :\n",
    "        T=[] # sucesión de términos\n",
    "        t=n # término acual\n",
    "        while t > N-1 or L[t]<1 : # si el término actual es mayor al límite para almacenar o no se conoce su longitud :\n",
    "            T.append(t) # se añade a la sucesión\n",
    "            t=C(t) # se calcula el siguiente término\n",
    "        # El término final t es menor o igual al limite para almacenar y se conoce su longitud (está almacenado en L)\n",
    "        for i in range (len(T)) : # para cada término en la sucesión :\n",
    "            if T[i] < N : # si el término es menor al limite para almacenar\n",
    "                L[T[i]]=L[t]+len(T)-i # se almacena su longitud, que es igual a la del término final + la cantidad de términos\n",
    "                                      # en la sucesión - su posición en la misma\n",
    "        \n",
    "        if L[n]>M[1] : \n",
    "            M=[n,L[n]] # si la longitud de n es máxima, actualizamos\n",
    "    return (M)"
   ]
  },
  {
   "cell_type": "code",
   "execution_count": 4,
   "metadata": {},
   "outputs": [
    {
     "data": {
      "text/plain": [
       "[871, 179]"
      ]
     },
     "execution_count": 4,
     "metadata": {},
     "output_type": "execute_result"
    }
   ],
   "source": [
    "euler14(1000)"
   ]
  },
  {
   "cell_type": "code",
   "execution_count": null,
   "metadata": {},
   "outputs": [],
   "source": [
    "euler14(1000000)"
   ]
  },
  {
   "cell_type": "code",
   "execution_count": null,
   "metadata": {},
   "outputs": [],
   "source": []
  },
  {
   "cell_type": "code",
   "execution_count": null,
   "metadata": {},
   "outputs": [],
   "source": []
  },
  {
   "cell_type": "code",
   "execution_count": null,
   "metadata": {},
   "outputs": [],
   "source": []
  }
 ],
 "metadata": {
  "kernelspec": {
   "display_name": "Python 3",
   "language": "python",
   "name": "python3"
  },
  "language_info": {
   "codemirror_mode": {
    "name": "ipython",
    "version": 3
   },
   "file_extension": ".py",
   "mimetype": "text/x-python",
   "name": "python",
   "nbconvert_exporter": "python",
   "pygments_lexer": "ipython3",
   "version": "3.7.0"
  }
 },
 "nbformat": 4,
 "nbformat_minor": 2
}
