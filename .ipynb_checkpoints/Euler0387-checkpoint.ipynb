{
 "cells": [
  {
   "cell_type": "code",
   "execution_count": 1,
   "metadata": {},
   "outputs": [],
   "source": [
    "from sympy import isprime\n",
    "\n",
    "from time import time\n",
    "from winsound import Beep as beep\n",
    "frequency = 500  # Hertz\n",
    "duration = 250  # ms"
   ]
  },
  {
   "cell_type": "code",
   "execution_count": 2,
   "metadata": {},
   "outputs": [
    {
     "name": "stdout",
     "output_type": "stream",
     "text": [
      "\n",
      "sol: 696067597313468 Et: 0.9606823921203613\n"
     ]
    }
   ],
   "source": [
    "St = time()\n",
    "\n",
    "Harshad = [[[x,x,False] for x in range(1,10)]]\n",
    "# [num, dsum, strong]\n",
    "\n",
    "sol = 0\n",
    "\n",
    "n = 14\n",
    "\n",
    "for i in range (0,n-1):\n",
    "    Harshad.append([])\n",
    "    for h in Harshad[i]:\n",
    "        for d in range(10):\n",
    "            num = 10*h[0]+d\n",
    "            if isprime(num) and h[2]:\n",
    "                sol += num\n",
    "            dsum = h[1]+d\n",
    "            if i <n-1:\n",
    "                if num % dsum == 0:\n",
    "                    strong = isprime(int(num/dsum))\n",
    "                    Harshad[i+1].append([num, dsum, strong])\n",
    "\n",
    "Et = time()-St\n",
    "print(\"\\nsol:\", sol, \"Et:\", Et)\n",
    "beep(frequency, duration)"
   ]
  },
  {
   "cell_type": "code",
   "execution_count": null,
   "metadata": {},
   "outputs": [],
   "source": []
  }
 ],
 "metadata": {
  "kernelspec": {
   "display_name": "Python 3",
   "language": "python",
   "name": "python3"
  },
  "language_info": {
   "codemirror_mode": {
    "name": "ipython",
    "version": 3
   },
   "file_extension": ".py",
   "mimetype": "text/x-python",
   "name": "python",
   "nbconvert_exporter": "python",
   "pygments_lexer": "ipython3",
   "version": "3.7.1"
  }
 },
 "nbformat": 4,
 "nbformat_minor": 2
}
