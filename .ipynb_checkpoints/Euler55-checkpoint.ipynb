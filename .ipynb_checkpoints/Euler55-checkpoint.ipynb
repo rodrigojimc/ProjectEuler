{
 "cells": [
  {
   "cell_type": "code",
   "execution_count": 1,
   "metadata": {},
   "outputs": [],
   "source": [
    "import math\n",
    "import time"
   ]
  },
  {
   "cell_type": "code",
   "execution_count": 2,
   "metadata": {},
   "outputs": [],
   "source": [
    "def iteration (n) :\n",
    "    #Reverse number and add\n",
    "    r=0\n",
    "    s=str(n)\n",
    "    c=0\n",
    "    \n",
    "    for d in s:\n",
    "        r+=int(d)*10**c\n",
    "        c+=1\n",
    "        \n",
    "    return n+r \n",
    "\n",
    "def is_palin (n) :\n",
    "    #Checks if the number is palindromic\n",
    "    \n",
    "    palin = True\n",
    "    \n",
    "    s = str(n)\n",
    "    l = len(s)\n",
    "    r = math.floor(l/2)\n",
    "    \n",
    "    i=0\n",
    "    while palin and i<r: #for i in range(r):\n",
    "        if s[i] != s[l-i-1] : \n",
    "            palin = False\n",
    "        i+=1 #\n",
    "    return (palin)\n",
    "\n",
    "def test (n) :\n",
    "    #Checks if the number if Lychrel i.e. doesn't produce a palindrome below 51 iterations\n",
    "    \n",
    "    not_found = True\n",
    "    c = 0\n",
    "    \n",
    "    while not_found and c<51 :\n",
    "        n = iteration(n)\n",
    "        not_found = not is_palin(n)\n",
    "        c+=1\n",
    "        \n",
    "    return not_found"
   ]
  },
  {
   "cell_type": "code",
   "execution_count": 3,
   "metadata": {},
   "outputs": [
    {
     "name": "stdout",
     "output_type": "stream",
     "text": [
      "249 0.4836008548736572\n"
     ]
    }
   ],
   "source": [
    "St = time.time()\n",
    "\n",
    "Lychrel = []\n",
    "\n",
    "for n in range(1,10001) :\n",
    "    if test(n) : Lychrel.append(n)\n",
    "        \n",
    "Et = time.time() - St\n",
    "\n",
    "print(len(Lychrel), Et)"
   ]
  },
  {
   "cell_type": "code",
   "execution_count": null,
   "metadata": {},
   "outputs": [],
   "source": []
  },
  {
   "cell_type": "code",
   "execution_count": null,
   "metadata": {},
   "outputs": [],
   "source": []
  }
 ],
 "metadata": {
  "kernelspec": {
   "display_name": "Python 3",
   "language": "python",
   "name": "python3"
  },
  "language_info": {
   "codemirror_mode": {
    "name": "ipython",
    "version": 3
   },
   "file_extension": ".py",
   "mimetype": "text/x-python",
   "name": "python",
   "nbconvert_exporter": "python",
   "pygments_lexer": "ipython3",
   "version": "3.7.0"
  }
 },
 "nbformat": 4,
 "nbformat_minor": 2
}
