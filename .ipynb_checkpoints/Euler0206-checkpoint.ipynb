{
 "cells": [
  {
   "cell_type": "code",
   "execution_count": 5,
   "metadata": {},
   "outputs": [],
   "source": [
    "import math\n",
    "import time"
   ]
  },
  {
   "cell_type": "code",
   "execution_count": 58,
   "metadata": {},
   "outputs": [
    {
     "name": "stdout",
     "output_type": "stream",
     "text": [
      "sol: 1929374254627488900 n: 1389019170 124.03699731826782\n"
     ]
    }
   ],
   "source": [
    "St = time.time()\n",
    "\n",
    "lb = math.floor(math.sqrt(1020304050607080900))\n",
    "ub = math.floor(math.sqrt(1929394959697989990))+1\n",
    "\n",
    "for n in range(lb, ub, 10):\n",
    "    sol = n**2\n",
    "    sol_str = str(sol)\n",
    "\n",
    "    if bool(re.match(r'1\\w2\\w3\\w4\\w5\\w6\\w7\\w8\\w900', sol_str)):\n",
    "        break\n",
    "\n",
    "Et = time.time()-St\n",
    "print(\"sol:\", sol, \"n:\", n, Et)"
   ]
  },
  {
   "cell_type": "code",
   "execution_count": 56,
   "metadata": {},
   "outputs": [
    {
     "data": {
      "text/plain": [
       "123"
      ]
     },
     "execution_count": 56,
     "metadata": {},
     "output_type": "execute_result"
    }
   ],
   "source": [
    "int(\"123\")"
   ]
  },
  {
   "cell_type": "code",
   "execution_count": null,
   "metadata": {},
   "outputs": [],
   "source": []
  }
 ],
 "metadata": {
  "kernelspec": {
   "display_name": "Python 3",
   "language": "python",
   "name": "python3"
  },
  "language_info": {
   "codemirror_mode": {
    "name": "ipython",
    "version": 3
   },
   "file_extension": ".py",
   "mimetype": "text/x-python",
   "name": "python",
   "nbconvert_exporter": "python",
   "pygments_lexer": "ipython3",
   "version": "3.7.1"
  }
 },
 "nbformat": 4,
 "nbformat_minor": 2
}
