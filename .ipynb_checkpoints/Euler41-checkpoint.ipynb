{
 "cells": [
  {
   "cell_type": "code",
   "execution_count": 1,
   "metadata": {},
   "outputs": [],
   "source": [
    "import numpy as np\n",
    "import time"
   ]
  },
  {
   "cell_type": "code",
   "execution_count": 2,
   "metadata": {},
   "outputs": [],
   "source": [
    "def p_sieve (n) :\n",
    "    p=[]\n",
    "    v=np.ones(n+1)\n",
    "    v[0]=0\n",
    "    v[1]=0\n",
    "    for i in range (2,len(v)):\n",
    "        if v[i]==1 : \n",
    "            for j in range (2*i, len(v),i) :\n",
    "                v[j]=0\n",
    "    return v"
   ]
  },
  {
   "cell_type": "code",
   "execution_count": 3,
   "metadata": {},
   "outputs": [
    {
     "name": "stdout",
     "output_type": "stream",
     "text": [
      "92.74590253829956\n"
     ]
    }
   ],
   "source": [
    "St=time.time()\n",
    "primes=p_sieve(100000000)\n",
    "Et=time.time()-St\n",
    "print(Et)"
   ]
  },
  {
   "cell_type": "code",
   "execution_count": 4,
   "metadata": {},
   "outputs": [],
   "source": [
    "def is_pand (n) :\n",
    "    output = True\n",
    "    s=str(n)\n",
    "    v=[]\n",
    "    for d in s :\n",
    "        v.append(int(d))\n",
    "    l=len(v)\n",
    "    for i in range (1,l+1) :\n",
    "        if i not in v :\n",
    "            output = False\n",
    "    return output    "
   ]
  },
  {
   "cell_type": "code",
   "execution_count": 5,
   "metadata": {},
   "outputs": [
    {
     "name": "stdout",
     "output_type": "stream",
     "text": [
      "7652413 found in 92.17426252365112\n"
     ]
    }
   ],
   "source": [
    "St=time.time()\n",
    "M=0\n",
    "found=0\n",
    "l=len(primes)\n",
    "for i in range(l) :\n",
    "    p=l-i-1\n",
    "    if found==1: break\n",
    "    if primes[p]==1 :\n",
    "        #print(p)\n",
    "        if is_pand(p) :\n",
    "            M=p\n",
    "            found=1\n",
    "Et=time.time()-St\n",
    "print(M, \"found in\", Et)"
   ]
  }
 ],
 "metadata": {
  "kernelspec": {
   "display_name": "Python 3",
   "language": "python",
   "name": "python3"
  },
  "language_info": {
   "codemirror_mode": {
    "name": "ipython",
    "version": 3
   },
   "file_extension": ".py",
   "mimetype": "text/x-python",
   "name": "python",
   "nbconvert_exporter": "python",
   "pygments_lexer": "ipython3",
   "version": "3.7.0"
  }
 },
 "nbformat": 4,
 "nbformat_minor": 2
}
