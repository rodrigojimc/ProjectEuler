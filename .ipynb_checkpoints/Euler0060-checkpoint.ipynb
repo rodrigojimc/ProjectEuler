{
 "cells": [
  {
   "cell_type": "code",
   "execution_count": 1,
   "metadata": {},
   "outputs": [],
   "source": [
    "import sympy\n",
    "import math\n",
    "import itertools\n",
    "import time"
   ]
  },
  {
   "cell_type": "code",
   "execution_count": 2,
   "metadata": {},
   "outputs": [],
   "source": [
    "def are_friends (p,q) :\n",
    "    output = False\n",
    "    \n",
    "    dp = math.floor(math.log(p,10))+1\n",
    "    dq = math.floor(math.log(q,10))+1\n",
    "    \n",
    "    a = 10**dp*q+p\n",
    "    b = 10**dq*p+q\n",
    "    \n",
    "    if sympy.isprime(a) and sympy.isprime(b) : \n",
    "        output = True\n",
    "\n",
    "    return output"
   ]
  },
  {
   "cell_type": "code",
   "execution_count": 3,
   "metadata": {},
   "outputs": [],
   "source": [
    "def Euler60 (n) :\n",
    "    \n",
    "    St = time.time()\n",
    "    \n",
    "    DB = []\n",
    "    for r in range(n-1) :\n",
    "        DB.append([])\n",
    "\n",
    "    i = 1\n",
    "    while DB[n-2] == [] :\n",
    "        i +=1\n",
    "    \n",
    "        p = sympy.sieve[i]\n",
    "        friends = []\n",
    "    \n",
    "        for j in range (1,i) :\n",
    "            q = sympy.sieve[j]\n",
    "        \n",
    "            if are_friends(p,q) : \n",
    "                friends.append(q)\n",
    "                DB[0].append([q,p])\n",
    "    \n",
    "        for l in range (2,5) :\n",
    "            for g in map(list, itertools.combinations(friends, l)) :\n",
    "                k = len(g)\n",
    "                if g in DB[k-2] : DB[k-1].append(list(g)+[p])\n",
    "    \n",
    "    print(\"First\", n,\"- tuple of friends:\",DB[n-2][0])\n",
    "    print(\"Sum =\", sum(DB[n-2][0]))\n",
    "    \n",
    "    Et = time.time()-St\n",
    "    print(\"Last prime:\", p, \"|| elapsed time:\", Et)"
   ]
  },
  {
   "cell_type": "code",
   "execution_count": 4,
   "metadata": {},
   "outputs": [
    {
     "name": "stdout",
     "output_type": "stream",
     "text": [
      "First 5 - tuple of friends: [13, 5197, 5701, 6733, 8389]\n",
      "Sum = 26033\n",
      "Last prime: 8389 || elapsed time: 198.6776795387268\n"
     ]
    }
   ],
   "source": [
    "Euler60(5)"
   ]
  }
 ],
 "metadata": {
  "kernelspec": {
   "display_name": "Python 3",
   "language": "python",
   "name": "python3"
  },
  "language_info": {
   "codemirror_mode": {
    "name": "ipython",
    "version": 3
   },
   "file_extension": ".py",
   "mimetype": "text/x-python",
   "name": "python",
   "nbconvert_exporter": "python",
   "pygments_lexer": "ipython3",
   "version": "3.7.1"
  }
 },
 "nbformat": 4,
 "nbformat_minor": 2
}
