{
 "cells": [
  {
   "cell_type": "code",
   "execution_count": 1,
   "metadata": {},
   "outputs": [],
   "source": [
    "import math\n",
    "import time\n",
    "import scipy as sp\n",
    "import numpy as np"
   ]
  },
  {
   "cell_type": "code",
   "execution_count": 2,
   "metadata": {},
   "outputs": [],
   "source": [
    "def p_sieve (n=100, sieve=[]):\n",
    "\n",
    "    if sieve==[]:\n",
    "        sieve=np.ones(n+1)\n",
    "        sieve[0]=0\n",
    "        sieve[1]=0\n",
    "        sieve=sieve.tolist()\n",
    "        m=0\n",
    "    else:\n",
    "        m=len(sieve)\n",
    "        ones=np.ones(n+1-m)\n",
    "        sieve=sieve+ones.tolist()\n",
    "        \n",
    "    for p in range (2,len(sieve)):\n",
    "        if sieve[p]==1: \n",
    "            if m==0: k=2 \n",
    "            else : k=max(2,math.ceil(m/p)) \n",
    "            for j in range (k*p, len(sieve), p): sieve[j]=0 \n",
    "    return sieve\n",
    "\n",
    "def cond (n,vp,t):\n",
    "    c=0\n",
    "\n",
    "    for i in range (len(vp)):\n",
    "        if vp[i]==1:\n",
    "            if n%i==0: c=c+1\n",
    "            while n%i==0: n=n/i\n",
    "        if c==t or n==1: break\n",
    "            \n",
    "    if c==t: return True\n",
    "    else: return False"
   ]
  },
  {
   "cell_type": "code",
   "execution_count": 3,
   "metadata": {},
   "outputs": [],
   "source": [
    "def euler47 (n=647, t=4, time_limit=60, primes_block=10000):\n",
    "    c=0\n",
    "    \n",
    "    St=time.time() \n",
    "    Et=0 \n",
    "    \n",
    "    vp=p_sieve(primes_block)\n",
    "    i=1\n",
    "    \n",
    "    while c<t and Et < time_limit:\n",
    "        \n",
    "        #while len(vp) < n+1: \n",
    "            #i=i+1 \n",
    "            #vp=p_sieve(i*primes_block,vp) \n",
    "            \n",
    "        if cond(n,vp,t)==True: \n",
    "            c=c+1\n",
    "            #print(n,c)\n",
    "        else : c=0\n",
    "        \n",
    "        if c==t: found=1\n",
    "        n=n+1\n",
    "\n",
    "        Et = time.time()-St\n",
    "        \n",
    "    if Et > time_limit :\n",
    "        print(\"Elapsed time =\", Et, \">\", time_limit, \"= Time limit\",\"last (n,c)=\", (n,c))\n",
    "    else : \n",
    "        print(n-t, \"found in\", Et)"
   ]
  },
  {
   "cell_type": "code",
   "execution_count": 4,
   "metadata": {},
   "outputs": [
    {
     "name": "stdout",
     "output_type": "stream",
     "text": [
      "Elapsed time = 60.000208139419556 > 60 = Time limit last (n,c)= (108516, 0)\n"
     ]
    }
   ],
   "source": [
    "euler47()"
   ]
  },
  {
   "cell_type": "code",
   "execution_count": 5,
   "metadata": {},
   "outputs": [
    {
     "name": "stdout",
     "output_type": "stream",
     "text": [
      "134043 found in 18.17575693130493\n"
     ]
    }
   ],
   "source": [
    "euler47(108516)"
   ]
  },
  {
   "cell_type": "code",
   "execution_count": null,
   "metadata": {},
   "outputs": [],
   "source": []
  },
  {
   "cell_type": "code",
   "execution_count": null,
   "metadata": {},
   "outputs": [],
   "source": []
  },
  {
   "cell_type": "code",
   "execution_count": null,
   "metadata": {},
   "outputs": [],
   "source": []
  },
  {
   "cell_type": "code",
   "execution_count": null,
   "metadata": {},
   "outputs": [],
   "source": []
  }
 ],
 "metadata": {
  "kernelspec": {
   "display_name": "Python 3",
   "language": "python",
   "name": "python3"
  },
  "language_info": {
   "codemirror_mode": {
    "name": "ipython",
    "version": 3
   },
   "file_extension": ".py",
   "mimetype": "text/x-python",
   "name": "python",
   "nbconvert_exporter": "python",
   "pygments_lexer": "ipython3",
   "version": "3.7.0"
  }
 },
 "nbformat": 4,
 "nbformat_minor": 2
}
