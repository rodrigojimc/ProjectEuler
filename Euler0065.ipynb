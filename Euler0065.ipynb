{
 "cells": [
  {
   "cell_type": "code",
   "execution_count": 4,
   "metadata": {},
   "outputs": [],
   "source": [
    "from time import time"
   ]
  },
  {
   "cell_type": "code",
   "execution_count": 39,
   "metadata": {},
   "outputs": [],
   "source": [
    "def Euler65(n):\n",
    "    x0 = 2\n",
    "    x1 = 3\n",
    "    \n",
    "    def f(n):\n",
    "        return 2*n//3 if n%3 == 0 else 1\n",
    "\n",
    "    for k in range(3, n+1):\n",
    "        aux = f(k)*x1 + x0\n",
    "        x0 = x1\n",
    "        x1 = aux\n",
    "        \n",
    "    return sum([int(d) for d in str(x1)])"
   ]
  },
  {
   "cell_type": "code",
   "execution_count": 45,
   "metadata": {},
   "outputs": [
    {
     "name": "stdout",
     "output_type": "stream",
     "text": [
      "solution: 272 found in  0.0 sec\n"
     ]
    }
   ],
   "source": [
    "St = time()\n",
    "sol = Euler65(100)\n",
    "Et = time()-St\n",
    "print(\"solution:\", sol, \"found in \", Et, \"sec\")"
   ]
  }
 ],
 "metadata": {
  "kernelspec": {
   "display_name": "Python 3",
   "language": "python",
   "name": "python3"
  },
  "language_info": {
   "codemirror_mode": {
    "name": "ipython",
    "version": 3
   },
   "file_extension": ".py",
   "mimetype": "text/x-python",
   "name": "python",
   "nbconvert_exporter": "python",
   "pygments_lexer": "ipython3",
   "version": "3.7.1"
  }
 },
 "nbformat": 4,
 "nbformat_minor": 2
}
