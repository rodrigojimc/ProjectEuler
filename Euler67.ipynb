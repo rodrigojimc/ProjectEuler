{
 "cells": [
  {
   "cell_type": "code",
   "execution_count": 1,
   "metadata": {},
   "outputs": [],
   "source": [
    "import time"
   ]
  },
  {
   "cell_type": "code",
   "execution_count": 2,
   "metadata": {},
   "outputs": [
    {
     "data": {
      "text/plain": [
       "100"
      ]
     },
     "execution_count": 2,
     "metadata": {},
     "output_type": "execute_result"
    }
   ],
   "source": [
    "St=time.time()\n",
    "\n",
    "Text_file = list(open(r\"C:\\Users\\RodrigoJimenezCorrea\\Documents\\GitHub\\ProjectEuler\\Euler67.txt\",\"r\"))\n",
    "sum(1 for line in Text_file)"
   ]
  },
  {
   "cell_type": "code",
   "execution_count": 3,
   "metadata": {},
   "outputs": [
    {
     "data": {
      "text/plain": [
       "(100, [59], [73, 41], 23, 35)"
      ]
     },
     "execution_count": 3,
     "metadata": {},
     "output_type": "execute_result"
    }
   ],
   "source": [
    "v = [[int(Text_file[j][3*i:3*i+2]) for i in range(j+1)] for j in range(100)]\n",
    "len(v), v[0],v[1], v[99][0],v[99][99]"
   ]
  },
  {
   "cell_type": "code",
   "execution_count": 4,
   "metadata": {},
   "outputs": [
    {
     "name": "stdout",
     "output_type": "stream",
     "text": [
      "7273 0.3540792465209961\n"
     ]
    }
   ],
   "source": [
    "for i in range (100):\n",
    "    j=100-i-2\n",
    "    for k in range (j+1) :\n",
    "        v[j][k]=v[j][k]+max(v[j+1][k],v[j+1][k+1])\n",
    "        \n",
    "Et=time.time()-St        \n",
    "print(v[0][0], Et)"
   ]
  },
  {
   "cell_type": "code",
   "execution_count": null,
   "metadata": {},
   "outputs": [],
   "source": []
  },
  {
   "cell_type": "code",
   "execution_count": null,
   "metadata": {},
   "outputs": [],
   "source": []
  }
 ],
 "metadata": {
  "kernelspec": {
   "display_name": "Python 3",
   "language": "python",
   "name": "python3"
  },
  "language_info": {
   "codemirror_mode": {
    "name": "ipython",
    "version": 3
   },
   "file_extension": ".py",
   "mimetype": "text/x-python",
   "name": "python",
   "nbconvert_exporter": "python",
   "pygments_lexer": "ipython3",
   "version": "3.7.1"
  }
 },
 "nbformat": 4,
 "nbformat_minor": 2
}
