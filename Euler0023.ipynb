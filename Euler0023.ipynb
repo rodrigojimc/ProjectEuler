{
 "cells": [
  {
   "cell_type": "code",
   "execution_count": 1,
   "metadata": {},
   "outputs": [],
   "source": [
    "import math as m\n",
    "import numpy as np\n",
    "import time"
   ]
  },
  {
   "cell_type": "code",
   "execution_count": 2,
   "metadata": {},
   "outputs": [],
   "source": [
    "def sumdp (n) :\n",
    "    v=[1]*(n+1)\n",
    "    f=m.floor(n/2)+1\n",
    "    for d in range (2,f) :\n",
    "        l=m.floor(n/d)\n",
    "        for i in range (2,l+1) :\n",
    "            v[i*d]=v[i*d]+d\n",
    "    return v"
   ]
  },
  {
   "cell_type": "code",
   "execution_count": 3,
   "metadata": {},
   "outputs": [],
   "source": [
    "def euler23 (n) :\n",
    "    v=np.arange(n+1)\n",
    "    sd=sumdp(n) # vector de sumas de divisores propios\n",
    "    sd[0]=0\n",
    "    l1=len(sd)\n",
    "    ab=[] #vector de números abundantes\n",
    "    for i in range(l1) :\n",
    "        if sd[i]>i : ab.append(i)\n",
    "    l2=len(ab)\n",
    "    for i in range(l2):\n",
    "        for j in range(i,l2):\n",
    "            a=ab[i]+ab[j]\n",
    "            if a<n+1 : v[a]=0\n",
    "    s=0\n",
    "    for i in v :\n",
    "        s=s+i\n",
    "    return(s)"
   ]
  },
  {
   "cell_type": "code",
   "execution_count": 5,
   "metadata": {},
   "outputs": [
    {
     "name": "stdout",
     "output_type": "stream",
     "text": [
      "4179871 found in 6.460629224777222 s\n"
     ]
    }
   ],
   "source": [
    "sT = time.time()\n",
    "r=euler23(28123)\n",
    "eT = time.time() - sT\n",
    "print (r,\"found in\",eT, \"s\")"
   ]
  },
  {
   "cell_type": "code",
   "execution_count": null,
   "metadata": {},
   "outputs": [],
   "source": []
  }
 ],
 "metadata": {
  "kernelspec": {
   "display_name": "Python 3",
   "language": "python",
   "name": "python3"
  },
  "language_info": {
   "codemirror_mode": {
    "name": "ipython",
    "version": 3
   },
   "file_extension": ".py",
   "mimetype": "text/x-python",
   "name": "python",
   "nbconvert_exporter": "python",
   "pygments_lexer": "ipython3",
   "version": "3.7.0"
  }
 },
 "nbformat": 4,
 "nbformat_minor": 2
}
