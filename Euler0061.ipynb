{
 "cells": [
  {
   "cell_type": "code",
   "execution_count": 1,
   "metadata": {},
   "outputs": [],
   "source": [
    "import time\n",
    "import math\n",
    "import itertools\n",
    "import sys"
   ]
  },
  {
   "cell_type": "code",
   "execution_count": 2,
   "metadata": {},
   "outputs": [],
   "source": [
    "def sol (a,c) :\n",
    "    # Finds n's positive solution for an^2+(1-a)*n-c=0 \n",
    "    \n",
    "    # discriminant\n",
    "    dis=math.sqrt((1-a)**2+4*a*c)\n",
    "    \n",
    "    # general fórmula\n",
    "    x=(a-1+dis)/(2*a)\n",
    "    \n",
    "    return (x)\n",
    "\n",
    "def fig_num (x,n) :\n",
    "    # Returns Px(n) = an^2+(1-a)*n\n",
    "    # x=3 for triangular, x=4 for square, ...\n",
    "    \n",
    "    a=0.5*(x-2)\n",
    "    p=a*n**2+(1-a)*n\n",
    "    \n",
    "    return (str(int(p)))"
   ]
  },
  {
   "cell_type": "code",
   "execution_count": 3,
   "metadata": {},
   "outputs": [
    {
     "name": "stdout",
     "output_type": "stream",
     "text": [
      "45 <= n < 141\n",
      "32 <= n < 100\n",
      "26 <= n < 82\n",
      "23 <= n < 71\n",
      "21 <= n < 64\n",
      "19 <= n < 59\n",
      "[[None], [None], [None], [45, 141], [32, 100], [26, 82], [23, 71], [21, 64], [19, 59]]\n"
     ]
    }
   ],
   "source": [
    "St=time.time()\n",
    "\n",
    "# Finds bounds for n  for each x form 3 to 8 to make Px(n) four digits long\n",
    "bounds=[[None],[None],[None]]\n",
    "\n",
    "for i in range (1,7) :\n",
    "    # Px(n) = an^2+(1-a)*n\n",
    "    \n",
    "    a=0.5*i\n",
    "    lb = math.ceil(sol(a,1000))\n",
    "    ub = math.ceil(sol(a,10000))\n",
    "    bounds.append([lb,ub])\n",
    "    \n",
    "    print(lb,\"<= n <\",ub)\n",
    "    \n",
    "print(bounds)"
   ]
  },
  {
   "cell_type": "code",
   "execution_count": 4,
   "metadata": {},
   "outputs": [],
   "source": [
    "#Generates database of triangular (DB[3]), square (DB[4]), ...\n",
    "DB = [[None],[None],[None]]+[[fig_num(x,n) for n in range (bounds[x][0],bounds[x][1])] for x in range(3,9)]\n",
    "\n",
    "#DB[7]"
   ]
  },
  {
   "cell_type": "code",
   "execution_count": 5,
   "metadata": {},
   "outputs": [
    {
     "data": {
      "text/plain": [
       "[[3, 4, 5, 6, 7, 8], [3, 4, 5, 6, 8, 7], [3, 4, 5, 7, 6, 8]]"
      ]
     },
     "execution_count": 5,
     "metadata": {},
     "output_type": "execute_result"
    }
   ],
   "source": [
    "#Permutations\n",
    "P=[]\n",
    "for p in list(itertools.permutations([4,5,6,7,8])):\n",
    "    P.append([3]+list(p))\n",
    "    \n",
    "P[0:3]     "
   ]
  },
  {
   "cell_type": "code",
   "execution_count": 6,
   "metadata": {},
   "outputs": [
    {
     "name": "stdout",
     "output_type": "stream",
     "text": [
      "[3, 4, 7, 8, 6, 5] [8256, 5625, 2512, 1281, 8128, 2882] 28684 0.6482727527618408\n"
     ]
    },
    {
     "ename": "SystemExit",
     "evalue": "0",
     "output_type": "error",
     "traceback": [
      "An exception has occurred, use %tb to see the full traceback.\n",
      "\u001b[1;31mSystemExit\u001b[0m\u001b[1;31m:\u001b[0m 0\n"
     ]
    },
    {
     "name": "stderr",
     "output_type": "stream",
     "text": [
      "C:\\Users\\RodrigoJimenezCorrea\\Anaconda3\\lib\\site-packages\\IPython\\core\\interactiveshell.py:3275: UserWarning: To exit: use 'exit', 'quit', or Ctrl-D.\n",
      "  warn(\"To exit: use 'exit', 'quit', or Ctrl-D.\", stacklevel=1)\n"
     ]
    }
   ],
   "source": [
    "for p in P:\n",
    "\n",
    "    for n0 in DB[p[0]]:\n",
    "        for n1 in DB[p[1]]:\n",
    "            if (n0[2:]==n1[:2]):\n",
    "                for n2 in DB[p[2]]:\n",
    "                    if (n1[2:]==n2[:2]):\n",
    "                        for n3 in DB[p[3]]:\n",
    "                            if (n2[2:]==n3[:2]):\n",
    "                                for n4 in DB[p[4]]:\n",
    "                                    if (n3[2:]==n4[:2]):\n",
    "                                        for n5 in DB[p[5]]:\n",
    "                                            if (n4[2:]==n5[:2]) and (n5[2:]==n0[:2]):\n",
    "                                                \n",
    "                                                Et=time.time()-St\n",
    "                                                sol=[int(n0),int(n1),int(n2),int(n3),int(n4),int(n5)]\n",
    "                                                s=sum(sol)\n",
    "                                                print(p, sol,s, Et)\n",
    "                                                \n",
    "                                                sys.exit(0)\n",
    "\n"
   ]
  }
 ],
 "metadata": {
  "kernelspec": {
   "display_name": "Python 3",
   "language": "python",
   "name": "python3"
  },
  "language_info": {
   "codemirror_mode": {
    "name": "ipython",
    "version": 3
   },
   "file_extension": ".py",
   "mimetype": "text/x-python",
   "name": "python",
   "nbconvert_exporter": "python",
   "pygments_lexer": "ipython3",
   "version": "3.7.1"
  }
 },
 "nbformat": 4,
 "nbformat_minor": 2
}
