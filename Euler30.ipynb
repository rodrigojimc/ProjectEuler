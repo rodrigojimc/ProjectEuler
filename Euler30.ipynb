{
 "cells": [
  {
   "cell_type": "code",
   "execution_count": 25,
   "metadata": {},
   "outputs": [
    {
     "name": "stdout",
     "output_type": "stream",
     "text": [
      "[0, 1, 32, 243, 1024, 3125, 7776, 16807, 32768, 59049]\n",
      "4150\n",
      "4151\n",
      "54748\n",
      "92727\n",
      "93084\n",
      "194979\n",
      "443839 found in 1.6390190124511719\n"
     ]
    }
   ],
   "source": [
    "import time\n",
    "St=time.time()\n",
    "v=[]\n",
    "for i in range(10) :\n",
    "    v.append(i**5)\n",
    "print(v)\n",
    "S=0\n",
    "s=0\n",
    "# 4 dìgitos\n",
    "for a3 in range (1,8) :\n",
    "    for a2 in range (8) :\n",
    "        for a1 in range (8) :\n",
    "            for a0 in range (8) :\n",
    "                n=10**3*a3+10**2*a2+10*a1+a0\n",
    "                s=v[a3]+v[a2]+v[a1]+v[a0]\n",
    "                if n==s : \n",
    "                    S=S+n\n",
    "                    print(n)\n",
    "                    \n",
    "# 5 dìgitos\n",
    "for a4 in range (1,10) :\n",
    "    for a3 in range (10) :\n",
    "        for a2 in range (10) :\n",
    "            for a1 in range (10) :\n",
    "                for a0 in range (10) :\n",
    "                    n=10**4*a4+10**3*a3+10**2*a2+10*a1+a0\n",
    "                    s=v[a4]+v[a3]+v[a2]+v[a1]+v[a0]\n",
    "                    if n==s : \n",
    "                        S=S+n\n",
    "                        print(n)\n",
    "                        \n",
    "# 6 dìgitos\n",
    "for a5 in range (1,10) :\n",
    "    for a4 in range (10) :\n",
    "        for a3 in range (10) :\n",
    "            for a2 in range (10) :\n",
    "                for a1 in range (10) :\n",
    "                    for a0 in range (10) :\n",
    "                        n=10**5*a5+10**4*a4+10**3*a3+10**2*a2+10*a1+a0\n",
    "                        s=v[a5]+v[a4]+v[a3]+v[a2]+v[a1]+v[a0]\n",
    "                        if n==s :\n",
    "                            S=S+n\n",
    "                            print(n)\n",
    "                            \n",
    "Et=time.time()-St\n",
    "print(S, \"found in\", Et)"
   ]
  },
  {
   "cell_type": "code",
   "execution_count": 21,
   "metadata": {},
   "outputs": [
    {
     "data": {
      "text/plain": [
       "443839"
      ]
     },
     "execution_count": 21,
     "metadata": {},
     "output_type": "execute_result"
    }
   ],
   "source": [
    "4150+4151+54748+92727+93084+194979"
   ]
  },
  {
   "cell_type": "code",
   "execution_count": 14,
   "metadata": {},
   "outputs": [
    {
     "data": {
      "text/plain": [
       "4151"
      ]
     },
     "execution_count": 14,
     "metadata": {},
     "output_type": "execute_result"
    }
   ],
   "source": [
    "4**5+1**5+5**5+1**5"
   ]
  },
  {
   "cell_type": "code",
   "execution_count": 15,
   "metadata": {},
   "outputs": [
    {
     "data": {
      "text/plain": [
       "54748"
      ]
     },
     "execution_count": 15,
     "metadata": {},
     "output_type": "execute_result"
    }
   ],
   "source": [
    "5**5+4**5+7**5+4**5+8**5"
   ]
  },
  {
   "cell_type": "code",
   "execution_count": 16,
   "metadata": {},
   "outputs": [
    {
     "data": {
      "text/plain": [
       "194979"
      ]
     },
     "execution_count": 16,
     "metadata": {},
     "output_type": "execute_result"
    }
   ],
   "source": [
    "1**5+9**5+4**5+9**5+7**5+9**5"
   ]
  },
  {
   "cell_type": "code",
   "execution_count": null,
   "metadata": {},
   "outputs": [],
   "source": []
  }
 ],
 "metadata": {
  "kernelspec": {
   "display_name": "Python 3",
   "language": "python",
   "name": "python3"
  },
  "language_info": {
   "codemirror_mode": {
    "name": "ipython",
    "version": 3
   },
   "file_extension": ".py",
   "mimetype": "text/x-python",
   "name": "python",
   "nbconvert_exporter": "python",
   "pygments_lexer": "ipython3",
   "version": "3.6.7"
  }
 },
 "nbformat": 4,
 "nbformat_minor": 2
}
