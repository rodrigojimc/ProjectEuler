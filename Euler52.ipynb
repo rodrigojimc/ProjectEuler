{
 "cells": [
  {
   "cell_type": "code",
   "execution_count": 16,
   "metadata": {},
   "outputs": [],
   "source": [
    "def digits (n):\n",
    "    \n",
    "    digits=[0,0,0,0,0,0,0,0,0,0]\n",
    "    s=str(n)\n",
    "    v=[int(d) for d in s]\n",
    "    \n",
    "    for d in v:\n",
    "        digits[d]+=1\n",
    "        \n",
    "    return digits\n",
    "\n",
    "\n",
    "def condition (n):\n",
    "    \n",
    "    output = False\n",
    "    d = digits(n)\n",
    "    \n",
    "    if digits(2*n) == d:\n",
    "        if digits(3*n) == d:\n",
    "            if digits(4*n) == d:\n",
    "                if digits(5*n) == d:\n",
    "                    if digits(6*n) == d:   \n",
    "                        output = True\n",
    "    return output\n",
    "                            "
   ]
  },
  {
   "cell_type": "code",
   "execution_count": 19,
   "metadata": {},
   "outputs": [
    {
     "name": "stdout",
     "output_type": "stream",
     "text": [
      "142857 285714 428571 571428 714285 857142\n"
     ]
    }
   ],
   "source": [
    "found = 0\n",
    "n=0\n",
    "\n",
    "while found == 0:\n",
    "    n+=1\n",
    "    if condition(n) : \n",
    "        found = 1\n",
    "        print(n,2*n,3*n,4*n,5*n,6*n)"
   ]
  },
  {
   "cell_type": "code",
   "execution_count": null,
   "metadata": {},
   "outputs": [],
   "source": []
  }
 ],
 "metadata": {
  "kernelspec": {
   "display_name": "Python 3",
   "language": "python",
   "name": "python3"
  },
  "language_info": {
   "codemirror_mode": {
    "name": "ipython",
    "version": 3
   },
   "file_extension": ".py",
   "mimetype": "text/x-python",
   "name": "python",
   "nbconvert_exporter": "python",
   "pygments_lexer": "ipython3",
   "version": "3.7.0"
  }
 },
 "nbformat": 4,
 "nbformat_minor": 2
}
