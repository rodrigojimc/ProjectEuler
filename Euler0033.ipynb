{
 "cells": [
  {
   "cell_type": "code",
   "execution_count": 14,
   "metadata": {},
   "outputs": [],
   "source": [
    "def gcd (a,b) : \n",
    "    if b==0 : \n",
    "        return a \n",
    "    else: \n",
    "        return gcd(b,a%b) "
   ]
  },
  {
   "cell_type": "code",
   "execution_count": 27,
   "metadata": {},
   "outputs": [
    {
     "name": "stdout",
     "output_type": "stream",
     "text": [
      "1 6 / 6 4 = 1 / 4\n",
      "2 6 / 6 5 = 2 / 5\n",
      "1 9 / 9 5 = 1 / 5\n",
      "4 9 / 9 8 = 4 / 8\n"
     ]
    }
   ],
   "source": [
    "n=1\n",
    "d=1\n",
    "for y in range (1,10) :\n",
    "    for z in range (1,y) :\n",
    "        for x in range (1,z):\n",
    "            if (10*x+y)*z==(10*y+z)*x : \n",
    "                print(x,y,\"/\",y,z,\"=\",x,\"/\",z)\n",
    "                n=n*x\n",
    "                d=d*z"
   ]
  },
  {
   "cell_type": "code",
   "execution_count": 29,
   "metadata": {},
   "outputs": [
    {
     "data": {
      "text/plain": [
       "100.0"
      ]
     },
     "execution_count": 29,
     "metadata": {},
     "output_type": "execute_result"
    }
   ],
   "source": [
    "d/gcd(n,d)"
   ]
  }
 ],
 "metadata": {
  "kernelspec": {
   "display_name": "Python 3",
   "language": "python",
   "name": "python3"
  },
  "language_info": {
   "codemirror_mode": {
    "name": "ipython",
    "version": 3
   },
   "file_extension": ".py",
   "mimetype": "text/x-python",
   "name": "python",
   "nbconvert_exporter": "python",
   "pygments_lexer": "ipython3",
   "version": "3.6.7"
  }
 },
 "nbformat": 4,
 "nbformat_minor": 2
}
