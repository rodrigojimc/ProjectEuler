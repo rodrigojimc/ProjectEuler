{
 "cells": [
  {
   "cell_type": "code",
   "execution_count": 1,
   "metadata": {},
   "outputs": [],
   "source": [
    "import math as m\n",
    "import time"
   ]
  },
  {
   "cell_type": "code",
   "execution_count": 2,
   "metadata": {},
   "outputs": [],
   "source": [
    "def c_len (d) :\n",
    "    n=1\n",
    "    v=[]\n",
    "    band=0\n",
    "    while band==0 :\n",
    "        c=m.floor(n/d)\n",
    "        n=n%d\n",
    "        if([c,n]) in v: band=1\n",
    "        v.append([c,n])\n",
    "        n=n*10\n",
    "    lv=len(v)\n",
    "    i=0\n",
    "    while (v[i]!=v[lv-1]): i=i+1\n",
    "    l=lv-i-1\n",
    "    return (l)"
   ]
  },
  {
   "cell_type": "code",
   "execution_count": 3,
   "metadata": {},
   "outputs": [],
   "source": [
    "def Euler26 (n):\n",
    "    St=time.time()\n",
    "    M=(0,0)\n",
    "    for n in range (1,n) :\n",
    "        l=c_len(n)\n",
    "        if l>M[1] : M=(n,l)\n",
    "    Et=time.time()-St \n",
    "    print(\"found\", \"ln(\",M[0],\") =\", M[1], \"in\", Et,\"s\")"
   ]
  },
  {
   "cell_type": "code",
   "execution_count": 4,
   "metadata": {},
   "outputs": [
    {
     "name": "stdout",
     "output_type": "stream",
     "text": [
      "found ln( 983 ) = 982 in 0.9981222152709961 s\n"
     ]
    }
   ],
   "source": [
    "Euler26(1000)"
   ]
  },
  {
   "cell_type": "code",
   "execution_count": null,
   "metadata": {},
   "outputs": [],
   "source": []
  }
 ],
 "metadata": {
  "kernelspec": {
   "display_name": "Python 3",
   "language": "python",
   "name": "python3"
  },
  "language_info": {
   "codemirror_mode": {
    "name": "ipython",
    "version": 3
   },
   "file_extension": ".py",
   "mimetype": "text/x-python",
   "name": "python",
   "nbconvert_exporter": "python",
   "pygments_lexer": "ipython3",
   "version": "3.6.7"
  }
 },
 "nbformat": 4,
 "nbformat_minor": 2
}
