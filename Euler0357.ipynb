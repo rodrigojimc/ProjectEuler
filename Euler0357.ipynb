{
 "cells": [
  {
   "cell_type": "code",
   "execution_count": 1,
   "metadata": {},
   "outputs": [],
   "source": [
    "from time import time\n",
    "from winsound import Beep as beep\n",
    "frequency = 500  # Hertz\n",
    "duration = 250  # ms"
   ]
  },
  {
   "cell_type": "code",
   "execution_count": null,
   "metadata": {},
   "outputs": [],
   "source": [
    "def isPrime(n):\n",
    "    is_prime = [1]*(n+1)\n",
    "    is_prime[:2]=[0,0]\n",
    "    for d in range(2, n+1):\n",
    "        if is_prime[d] == 1:\n",
    "            j=2\n",
    "            while j*d < n+1:\n",
    "                is_prime[j*d] = 0\n",
    "                j += 1\n",
    "    return is_prime"
   ]
  },
  {
   "cell_type": "code",
   "execution_count": null,
   "metadata": {},
   "outputs": [],
   "source": [
    "def isSquareFree(n, is_prime):\n",
    "    is_square_free = [1]*(n+1)\n",
    "    is_square_free[0] = 0\n",
    "    d = 2\n",
    "    while d**2 < n+1:\n",
    "        if is_prime[d] == 1:\n",
    "            j=1\n",
    "            while j*(d**2) < n+1:\n",
    "                is_square_free[j*d**2] = 0\n",
    "                j += 1\n",
    "        d += 1\n",
    "    return is_square_free"
   ]
  },
  {
   "cell_type": "code",
   "execution_count": null,
   "metadata": {},
   "outputs": [],
   "source": [
    "St = time()\n",
    "\n",
    "k = 8\n",
    "n = 10**k\n",
    "\n",
    "is_prime = isPrime(n+1)\n",
    "is_square_free = isSquareFree(n, is_prime)\n",
    "nums = [is_square_free[x]*is_prime[x+1] for x in range(n+1)]\n",
    "\n",
    "d = 2\n",
    "while d**2 < n+1:\n",
    "    if is_square_free[d]:\n",
    "        j = d\n",
    "        while j*d < n+1:\n",
    "            if nums[j*d] and not is_prime[j+d]:\n",
    "                nums[j*d] = 0\n",
    "            j += 1\n",
    "    d += 1\n",
    "    \n",
    "sol = sum([x*nums[x] for x in range(n+1)])\n",
    "\n",
    "Et = time()-St\n",
    "print(\"sol:\", sol, \"Et:\", Et)\n",
    "beep(frequency, duration)"
   ]
  },
  {
   "cell_type": "raw",
   "metadata": {},
   "source": [
    "sol: 1739023853137 Et: 885.2667191028595"
   ]
  }
 ],
 "metadata": {
  "kernelspec": {
   "display_name": "Python 3",
   "language": "python",
   "name": "python3"
  },
  "language_info": {
   "codemirror_mode": {
    "name": "ipython",
    "version": 3
   },
   "file_extension": ".py",
   "mimetype": "text/x-python",
   "name": "python",
   "nbconvert_exporter": "python",
   "pygments_lexer": "ipython3",
   "version": "3.7.1"
  }
 },
 "nbformat": 4,
 "nbformat_minor": 2
}
